{
 "cells": [
  {
   "cell_type": "markdown",
   "id": "bb4afdc3",
   "metadata": {},
   "source": [
    "#  Tirez un maximum de ce cours"
   ]
  },
  {
   "cell_type": "markdown",
   "id": "e74370d0",
   "metadata": {},
   "source": [
    "# Créez vos premiers arrays avec NumPy"
   ]
  },
  {
   "cell_type": "code",
   "execution_count": 1,
   "id": "b58558d3",
   "metadata": {},
   "outputs": [],
   "source": [
    "revenus = [1800, 1500, 2200, 3000, 2172]"
   ]
  },
  {
   "cell_type": "code",
   "execution_count": 2,
   "id": "f563bfb6",
   "metadata": {},
   "outputs": [
    {
     "data": {
      "text/plain": [
       "2134.4"
      ]
     },
     "execution_count": 2,
     "metadata": {},
     "output_type": "execute_result"
    }
   ],
   "source": [
    "def moyenne(liste):\n",
    "    return sum(liste)/len(liste)\n",
    "moyenne(revenus) # => 2135.0"
   ]
  },
  {
   "cell_type": "code",
   "execution_count": 3,
   "id": "57c71fe6",
   "metadata": {},
   "outputs": [],
   "source": [
    "import numpy as np"
   ]
  },
  {
   "cell_type": "code",
   "execution_count": 4,
   "id": "b58cba11",
   "metadata": {},
   "outputs": [
    {
     "data": {
      "text/plain": [
       "2134.4"
      ]
     },
     "execution_count": 4,
     "metadata": {},
     "output_type": "execute_result"
    }
   ],
   "source": [
    "np.mean(revenus)"
   ]
  },
  {
   "cell_type": "code",
   "execution_count": 5,
   "id": "f23cd7f3",
   "metadata": {},
   "outputs": [
    {
     "name": "stdout",
     "output_type": "stream",
     "text": [
      "La valeur absolue:  [2 1 1 2]\n",
      "Exponentielle:  [0.13533528 0.36787944 2.71828183 7.3890561 ]\n",
      "Logarithme:  [0.69314718 0.         0.         0.69314718]\n"
     ]
    }
   ],
   "source": [
    "x = [-2, -1, 1, 2]\n",
    "print(\"La valeur absolue: \", np.abs(x))\n",
    "print(\"Exponentielle: \", np.exp(x))\n",
    "print(\"Logarithme: \", np.log(np.abs(x)))"
   ]
  },
  {
   "cell_type": "code",
   "execution_count": 6,
   "id": "771a9408",
   "metadata": {},
   "outputs": [
    {
     "data": {
      "text/plain": [
       "array([1800, 1500, 2200, 3000, 2172])"
      ]
     },
     "execution_count": 6,
     "metadata": {},
     "output_type": "execute_result"
    }
   ],
   "source": [
    "# crée un array numpy \n",
    "revenus_array = np.array(revenus)\n",
    "revenus_array\n",
    "# array([1800, 1500, 2200, 3000, 2172])"
   ]
  },
  {
   "cell_type": "code",
   "execution_count": 7,
   "id": "366e3c77",
   "metadata": {},
   "outputs": [
    {
     "data": {
      "text/plain": [
       "dtype('int32')"
      ]
     },
     "execution_count": 7,
     "metadata": {},
     "output_type": "execute_result"
    }
   ],
   "source": [
    "revenus_array.dtype\n",
    "# dtype('int32')"
   ]
  },
  {
   "cell_type": "code",
   "execution_count": 12,
   "id": "cef75b7a",
   "metadata": {},
   "outputs": [
    {
     "data": {
      "text/plain": [
       "2172"
      ]
     },
     "execution_count": 12,
     "metadata": {},
     "output_type": "execute_result"
    }
   ],
   "source": [
    "# pour accéder au 5ème élement\n",
    "revenus_array[4]"
   ]
  },
  {
   "cell_type": "code",
   "execution_count": 13,
   "id": "0f627e07",
   "metadata": {},
   "outputs": [
    {
     "data": {
      "text/plain": [
       "2172"
      ]
     },
     "execution_count": 13,
     "metadata": {},
     "output_type": "execute_result"
    }
   ],
   "source": [
    "# pour accéder au dernier élément\n",
    "revenus_array[-1]"
   ]
  },
  {
   "cell_type": "code",
   "execution_count": 14,
   "id": "9a796f9e",
   "metadata": {},
   "outputs": [],
   "source": [
    "# On peut aussi modifier les valeurs\n",
    "revenus_array[1] = 1900"
   ]
  },
  {
   "cell_type": "code",
   "execution_count": 15,
   "id": "79fed1dd",
   "metadata": {},
   "outputs": [
    {
     "data": {
      "text/plain": [
       "array([1800, 1900, 2200])"
      ]
     },
     "execution_count": 15,
     "metadata": {},
     "output_type": "execute_result"
    }
   ],
   "source": [
    "revenus_array[0:3]"
   ]
  },
  {
   "cell_type": "code",
   "execution_count": 16,
   "id": "a905c505",
   "metadata": {},
   "outputs": [
    {
     "name": "stdout",
     "output_type": "stream",
     "text": [
      "[1800 1900 2200]\n"
     ]
    }
   ],
   "source": [
    "# Les 3 premiers éléments\n",
    "print(revenus_array[:3])"
   ]
  },
  {
   "cell_type": "code",
   "execution_count": 17,
   "id": "182d6985",
   "metadata": {},
   "outputs": [
    {
     "name": "stdout",
     "output_type": "stream",
     "text": [
      "[2200 3000 2172]\n"
     ]
    }
   ],
   "source": [
    "# Les éléments à partir de l’indice 2\n",
    "print(revenus_array[2:])"
   ]
  },
  {
   "cell_type": "code",
   "execution_count": 18,
   "id": "9f97c897",
   "metadata": {},
   "outputs": [
    {
     "name": "stdout",
     "output_type": "stream",
     "text": [
      "[1800 2200 2172]\n"
     ]
    }
   ],
   "source": [
    "# Un élément sur deux\n",
    "print(revenus_array[::2])"
   ]
  },
  {
   "cell_type": "code",
   "execution_count": 19,
   "id": "989402d1",
   "metadata": {},
   "outputs": [
    {
     "data": {
      "text/plain": [
       "array([2172, 3000, 2200, 1900, 1800])"
      ]
     },
     "execution_count": 19,
     "metadata": {},
     "output_type": "execute_result"
    }
   ],
   "source": [
    "revenus_array[::-1]"
   ]
  },
  {
   "cell_type": "code",
   "execution_count": 20,
   "id": "ceb6a22b",
   "metadata": {},
   "outputs": [
    {
     "data": {
      "text/plain": [
       "array([2200, 3000, 2172])"
      ]
     },
     "execution_count": 20,
     "metadata": {},
     "output_type": "execute_result"
    }
   ],
   "source": [
    "revenus_array[revenus_array > 2000]\n",
    "# array([2200, 3000, 2172])"
   ]
  },
  {
   "cell_type": "code",
   "execution_count": 21,
   "id": "3a18ec01",
   "metadata": {},
   "outputs": [
    {
     "data": {
      "text/plain": [
       "array([2200, 2172])"
      ]
     },
     "execution_count": 21,
     "metadata": {},
     "output_type": "execute_result"
    }
   ],
   "source": [
    "revenus_array[(revenus_array > 2000) & (revenus_array < 3000)]\n",
    "# array([2200, 2172])"
   ]
  },
  {
   "cell_type": "code",
   "execution_count": 22,
   "id": "7f7caa9b",
   "metadata": {},
   "outputs": [
    {
     "data": {
      "text/plain": [
       "(5,)"
      ]
     },
     "execution_count": 22,
     "metadata": {},
     "output_type": "execute_result"
    }
   ],
   "source": [
    "revenus_array.shape\n",
    "# (5,) on a array contenant 5 éléments"
   ]
  },
  {
   "cell_type": "code",
   "execution_count": 23,
   "id": "b7903d24",
   "metadata": {},
   "outputs": [
    {
     "data": {
      "text/plain": [
       "2214.4"
      ]
     },
     "execution_count": 23,
     "metadata": {},
     "output_type": "execute_result"
    }
   ],
   "source": [
    "# calculer la moyenne\n",
    "revenus_array.mean()"
   ]
  },
  {
   "cell_type": "code",
   "execution_count": 24,
   "id": "de008fcd",
   "metadata": {},
   "outputs": [
    {
     "data": {
      "text/plain": [
       "1800"
      ]
     },
     "execution_count": 24,
     "metadata": {},
     "output_type": "execute_result"
    }
   ],
   "source": [
    "# calculer le maximum (ou le minimum) :\n",
    "revenus_array.max()\n",
    "revenus_array.min()"
   ]
  },
  {
   "cell_type": "code",
   "execution_count": 25,
   "id": "f6fd253d",
   "metadata": {},
   "outputs": [
    {
     "data": {
      "text/plain": [
       "3"
      ]
     },
     "execution_count": 25,
     "metadata": {},
     "output_type": "execute_result"
    }
   ],
   "source": [
    "# accéder à l’indice de l’élement minimum (ou maximum) :\n",
    "revenus_array.argmin()\n",
    "revenus_array.argmax()"
   ]
  },
  {
   "cell_type": "code",
   "execution_count": 26,
   "id": "a8f85e15",
   "metadata": {},
   "outputs": [
    {
     "name": "stdout",
     "output_type": "stream",
     "text": [
      "[1800 1900 2172 2200 3000]\n"
     ]
    }
   ],
   "source": [
    "# ordonner par ordre croissant :\n",
    "revenus_array.sort()\n",
    "print(revenus_array)"
   ]
  },
  {
   "cell_type": "code",
   "execution_count": 27,
   "id": "4340ac88",
   "metadata": {},
   "outputs": [
    {
     "data": {
      "text/plain": [
       "11072"
      ]
     },
     "execution_count": 27,
     "metadata": {},
     "output_type": "execute_result"
    }
   ],
   "source": [
    "# calculer la somme :\n",
    "revenus_array.sum()"
   ]
  },
  {
   "cell_type": "markdown",
   "id": "6a25a246",
   "metadata": {},
   "source": [
    "## Exercice d'entrainement"
   ]
  },
  {
   "cell_type": "code",
   "execution_count": 33,
   "id": "c01b0300",
   "metadata": {},
   "outputs": [
    {
     "name": "stdout",
     "output_type": "stream",
     "text": [
      "La somme des revenus annuelle est : 248064 €\n",
      "La somme des revenus annuelle est : 248 K€\n",
      "La somme des revenus annuelle est d'environ: 250 K€\n",
      "La somme des revenus annuelle est : 0.25 M€\n",
      "La moyenne des revenus mensuelle est : 2067.2 €\n",
      "La moyenne des revenus mensuelle est : 2067 €\n",
      "Array avant : [1800 1500 2200 3000 2172 5000 1400 1200 1100 1300]\n",
      "Array après : [1800 1500 2200 3000 2172 5000 1600 1200 1100 1300]\n",
      "Array avant : [1800 1500 2200 3000 2172 5000 1600 1200 1100 1300]\n",
      "Array après : [1800 1500 2200 3100 2172 5000 1600 1200 1100 1300]\n"
     ]
    }
   ],
   "source": [
    "# Tout au long de ce cours, nous allons nous mettre dans la peau d’une personne travaillant dans un service data au sein d'une banque.\n",
    "\n",
    "# Plus précisément, vous travaillez pour la filière gérant les différents prêts. L’objectif sera d’utiliser les connaissances acquises sur les librairies Python pour aider l’agence dans différentes tâches.\n",
    "\n",
    "# Pour cette première tâche, nous avons à notre disposition les revenus de 10 clients de notre banque. Vous aurez à utiliser les différentes manipulations présentées dans ce chapitre pour sélectionner certains revenus selon une condition spécifique et effectuer diverses opérations.\n",
    "\n",
    "# Commencons par importer numpy :\n",
    "\n",
    "# Imports :\n",
    "\n",
    "import numpy as np\n",
    "\n",
    "# Considérons ensuite les revenus mensuels suivants :\n",
    "\n",
    "# Créons une liste : \n",
    "\n",
    "liste = [1800, 1500, 2200, 3000, 2172, 5000, 1400, 1200, 1100, 1300]\n",
    "\n",
    "# A partir de ces revenus, créez un array que vous nommerez revenus :\n",
    "\n",
    "# La liste devient un array :\n",
    "\n",
    "revenus = np.array(liste)\n",
    "revenus\n",
    "\n",
    "# Maintenant, créez un nouvel array haut_revenus dans lequel vous sélectionnerez l'ensemble des revenus supérieurs ou égal à 3000€ :\n",
    "\n",
    "# Sélection des revenus > 3 000\n",
    "\n",
    "haut_revenus = revenus[revenus>=3000]\n",
    "haut_revenus\n",
    "\n",
    "# Notez qu'en python vous pouvez utiliser le '_' aka 'underscore' comme séparateur de milliers. En effet, '1 000 000' est plus facile à lire que '1000000'.\n",
    "\n",
    "# Testons cela : \n",
    "\n",
    "3_000 == 3000 \n",
    "\n",
    "# Donc on peut écrire :\n",
    "\n",
    "haut_revenus = revenus[revenus>=3_000]\n",
    "haut_revenus\n",
    "\n",
    "# Notez également que '>= 3000' est équivalent à '> 2999.9999999(...)'\n",
    "\n",
    "# Donc on peut écrire :\n",
    "\n",
    "haut_revenus = revenus[revenus>2_999.99]\n",
    "haut_revenus\n",
    "\n",
    "# Il est à présent temps de calculer quelques indicateurs :\n",
    "\n",
    "# calculez dans un premier temps la somme des revenus annuelle. Pour rappel, les revenus listés ci dessus sont mensuels.\n",
    "# calculez ensuite la moyenne des revenus des 10 clients\n",
    "\n",
    "# On calcule la somme : \n",
    "\n",
    "somme_sum = revenus.sum()\n",
    "somme_sum\n",
    "\n",
    "# On multiplie par 12 : \n",
    "\n",
    "somme = somme_sum * 12\n",
    "somme\n",
    "\n",
    "#Dans les premiers temps, il est bon de bien décomposer son code. Ecrire plusieurs lignes, passer par des \"variables intermédiaires\" et bien controler le résultat de chaque commande vous permettra d'éviter les erreurs, de prendre confiance dans votre code et de mieux maîtriser vos acquis.\n",
    "#Dans un second temps, vous pourrez commencer à factoriser votre code, c'est à dire le \"compresser\": écrire plusieurs lignes en une seule, sans passer par des variables intermédiaires.\n",
    "\n",
    "# Il était donc possible de faire les 2 opérations en une ligne : \n",
    "\n",
    "somme = revenus.sum() * 12\n",
    "print(\"La somme des revenus annuelle est :\", somme, \"€\")\n",
    "#Dans certains cas, l'ordre des opérations n'a pas d'influence sur le résultat.\n",
    "\n",
    "# En effet, on pouvait aussi faire : \n",
    "\n",
    "revenus_12 = revenus * 12\n",
    "revenus_12\n",
    "\n",
    "somme = revenus_12.sum()\n",
    "somme\n",
    "#Enfin, en général, on note les \"grosses\" sommes en K€ ou en M€. Cela est plus facile à lire. De plus, votre interlocuteur retiendra plus volontier l'ordre de grandeur d'un chiffre ou même un chiffre 'rond' qu'un chiffre trop détaillé...\n",
    "\n",
    "\n",
    "# Par exemple : \n",
    "\n",
    "somme_K = round(somme / 1000)\n",
    "print(\"La somme des revenus annuelle est :\", somme_K, \"K€\")\n",
    "\n",
    "# Voire même : \n",
    "\n",
    "print(\"La somme des revenus annuelle est d'environ:\", 250, \"K€\")\n",
    "\n",
    "# Ou encore : \n",
    "\n",
    "somme_M = round(somme / 1_000_000,2)\n",
    "print(\"La somme des revenus annuelle est :\", somme_M, \"M€\")\n",
    "#Passons à la moyenne\n",
    "\n",
    "\n",
    "moyenne = revenus.mean()\n",
    "print(\"La moyenne des revenus mensuelle est :\", moyenne, \"€\")\n",
    "\n",
    "# Ou encore : \n",
    "\n",
    "moyenne = round(moyenne)\n",
    "print(\"La moyenne des revenus mensuelle est :\", moyenne, \"€\")\n",
    "# Un de nos clients (dont les revenus mensuels s'élevaient jusque là à 1 400€) vient de nous annoncer qu'il venait d'obtenir une promotion. Grâce à cette dernière, il a gagné 200€ sur son salaire mensuel. Effectuez cette modification au sein de votre array revenus.\n",
    "\n",
    "\n",
    "# Cela donne : \n",
    "\n",
    "print(\"Array avant :\", revenus)\n",
    "revenus[revenus == 1_400] = 1_600\n",
    "print(\"Array après :\", revenus)\n",
    "#La modification a bien été effectuée.\n",
    "\n",
    "#Pour expliciter un peu plus cette ligne de code :\n",
    "\n",
    "#revenus[revenus == 1400] vient sélectionner l'ensemble des éléments qui sont strictement égals à 1400€ (donc ici le seul qui nous intéresse)\n",
    "#la suite vient modifier cet élement par la nouvelle valeur (ici 1600)\n",
    "#Dans le cas de cette opération on pouvait utiliser également l'opérateur '+='.\n",
    "\n",
    "# Regardons d'abord comment fonctionne cet opérateur : \n",
    "\n",
    "x = 10\n",
    "x = x+3\n",
    "x\n",
    "\n",
    "# Peut s'écrire directement : \n",
    "\n",
    "x=10\n",
    "x+=3\n",
    "x\n",
    "                   \n",
    "# Appliquons cela à notre cas et prenons par exemple les clients qui gagneraient 3 000€, en supposant qu'ils ont une augmentation de 100€.\n",
    "\n",
    "\n",
    "# On donc peut écire : \n",
    "\n",
    "print(\"Array avant :\", revenus)\n",
    "revenus[revenus == 3_000] += 100\n",
    "print(\"Array après :\", revenus)\n",
    "\n"
   ]
  },
  {
   "cell_type": "markdown",
   "id": "ceb67de0",
   "metadata": {},
   "source": [
    "# En resumé\n",
    "\n",
    "#### NumPy (pour Numerical Python) est une librairie Python permettant de manipuler et d’effectuer rapidement et simplement de nombreuses opérations mathématiques sur un tableau de données.\n",
    "\n",
    "#### Les données sont stockées dans une structure similaire à une liste Python, un tableau NumPy, ou array.\n",
    "\n",
    "#### Ce dernier, contrairement à une liste, est obligatoirement monotype.\n",
    "\n",
    "#### On peut sélectionner au sein d’un array :\n",
    "\n",
    "#### un élément via son indice avec l’écriture :  nom_array[indice]  ;\n",
    "\n",
    "#### plusieurs éléments contigus via la syntaxe :  nom_array[début:fin:pas]  ;\n",
    "\n",
    "#### certains éléments spécifiques via une condition :  nom_array[condition]  .\n",
    "\n",
    "#### Les arrays possèdent de nombreuses méthodes permettant de les manipuler ou d'effectuer des opérations mathématiques, de façon très simple."
   ]
  },
  {
   "cell_type": "markdown",
   "id": "3a012b50",
   "metadata": {},
   "source": [
    "# Transformez vos données en tableaux"
   ]
  },
  {
   "cell_type": "code",
   "execution_count": 34,
   "id": "b1e53a91",
   "metadata": {},
   "outputs": [],
   "source": [
    "hugo = [21, 1400, 0]\n",
    "richard = [54, 2800, 2]\n",
    "emilie = [27, 3700, 3]\n",
    "tableau = [hugo, richard, emilie]"
   ]
  },
  {
   "cell_type": "code",
   "execution_count": 35,
   "id": "8152945d",
   "metadata": {},
   "outputs": [],
   "source": [
    "tab1 = np.array([[1, 2],\n",
    "    [3, 4],\n",
    "    [5, 6]])\n",
    "\n",
    "tab2 = np.array([[1, 2, 3],\n",
    "        [4, 5, 6]])"
   ]
  },
  {
   "cell_type": "code",
   "execution_count": 36,
   "id": "b32278e6",
   "metadata": {},
   "outputs": [
    {
     "data": {
      "text/plain": [
       "array([[1., 1., 1., 1., 1.],\n",
       "       [1., 1., 1., 1., 1.],\n",
       "       [1., 1., 1., 1., 1.]])"
      ]
     },
     "execution_count": 36,
     "metadata": {},
     "output_type": "execute_result"
    }
   ],
   "source": [
    "# un tableau de 3x5 rempli de 1\n",
    "np.ones((3, 5))"
   ]
  },
  {
   "cell_type": "code",
   "execution_count": 37,
   "id": "3b68dc4a",
   "metadata": {},
   "outputs": [
    {
     "data": {
      "text/plain": [
       "array([[0., 0., 0., 0.],\n",
       "       [0., 0., 0., 0.],\n",
       "       [0., 0., 0., 0.],\n",
       "       [0., 0., 0., 0.]])"
      ]
     },
     "execution_count": 37,
     "metadata": {},
     "output_type": "execute_result"
    }
   ],
   "source": [
    "# un tableau de 4 lignes et de 4 colonnes contenant que des 0\n",
    "np.zeros((4, 4))"
   ]
  },
  {
   "cell_type": "code",
   "execution_count": 38,
   "id": "8af67ad1",
   "metadata": {},
   "outputs": [
    {
     "data": {
      "text/plain": [
       "array([[0.16597321, 0.86159905, 0.31033722],\n",
       "       [0.55371388, 0.32576889, 0.89806178],\n",
       "       [0.82574474, 0.72713494, 0.10303573],\n",
       "       [0.061616  , 0.31707199, 0.92965683],\n",
       "       [0.59867059, 0.43105294, 0.46513318],\n",
       "       [0.64464707, 0.53503377, 0.83394176]])"
      ]
     },
     "execution_count": 38,
     "metadata": {},
     "output_type": "execute_result"
    }
   ],
   "source": [
    "# un tableau de 6x3 rempli de valeurs aléatoires comprises entre 0 et 1\n",
    "np.random.random((6, 3))"
   ]
  },
  {
   "cell_type": "code",
   "execution_count": 39,
   "id": "f24aabad",
   "metadata": {},
   "outputs": [
    {
     "data": {
      "text/plain": [
       "array([[8, 5, 1],\n",
       "       [9, 9, 6],\n",
       "       [8, 4, 6]])"
      ]
     },
     "execution_count": 39,
     "metadata": {},
     "output_type": "execute_result"
    }
   ],
   "source": [
    "# un tableau de 3x3 rempli de valeurs aléatoires entières, comprises entre 1 et 10\n",
    "np.random.randint(1, 10, size=(3, 3))"
   ]
  },
  {
   "cell_type": "code",
   "execution_count": 40,
   "id": "fb0b3e78",
   "metadata": {},
   "outputs": [
    {
     "data": {
      "text/plain": [
       "array([[ 6, 12],\n",
       "       [18, 24]])"
      ]
     },
     "execution_count": 40,
     "metadata": {},
     "output_type": "execute_result"
    }
   ],
   "source": [
    "A = np.array([[1, 2], [3, 4]])\n",
    "B = np.array([[5, 10], [15, 20]])\n",
    "C = np.array([[2, 4, 6], [8, 10, 12]])\n",
    "\n",
    "A+B"
   ]
  },
  {
   "cell_type": "markdown",
   "id": "671804a6",
   "metadata": {},
   "source": [
    "## Exercice d'entrainement"
   ]
  },
  {
   "cell_type": "code",
   "execution_count": 43,
   "id": "26bbb938",
   "metadata": {},
   "outputs": [
    {
     "data": {
      "text/plain": [
       "[[1800, 21, 0],\n",
       " [1500, 54, 2],\n",
       " [2200, 28, 3],\n",
       " [3000, 37, 1],\n",
       " [2172, 37, 2],\n",
       " [5000, 32, 0],\n",
       " [1400, 23, 0],\n",
       " [1200, 25, 1],\n",
       " [1100, 19, 0],\n",
       " [1300, 31, 2]]"
      ]
     },
     "metadata": {},
     "output_type": "display_data"
    },
    {
     "name": "stdout",
     "output_type": "stream",
     "text": [
      "Informations de Paul :\n",
      "[2172   37    2]\n",
      "-\n",
      "Ses mensualités maximales sont de : 760.2 €\n",
      "[1800 1500 2200 3000 2172 5000 1400 1200 1100 1300 1900]\n"
     ]
    }
   ],
   "source": [
    "#Pour cette seconde tâche, nous travaillons toujours sur les mêmes 10 clients, mais nous avons cette fois trois informations à disposition sur chacun d’eux :\n",
    "\n",
    "#le revenu mensuel\n",
    "#l'âge du client\n",
    "#le nombre d’enfants à charge\n",
    "#L’objectif va être de créer un tableau NumPy à partir de ces informations et de répondre aux différentes demandes formulées par notre service prêt en manipulant ce tableau avec les différentes techniques présentées tout au long de ce chapitre.\n",
    "\n",
    "import numpy as np\n",
    "#L'ensemble des ces informations sont rassemblées dans la liste tableau suivante :\n",
    "\n",
    "hugo = [1800, 21, 0]\n",
    "richard = [1500, 54, 2]\n",
    "emilie = [2200, 28, 3]\n",
    "pierre = [3000, 37, 1]\n",
    "paul = [2172, 37, 2]\n",
    "deborah = [5000, 32, 0]\n",
    "yohann = [1400, 23, 0]\n",
    "anne = [1200, 25, 1]\n",
    "thibault = [1100, 19, 0]\n",
    "emmanuel = [1300, 31, 2]\n",
    "\n",
    "tableau = [hugo, richard, emilie, pierre, paul, deborah,\n",
    "           yohann, anne, thibault, emmanuel]\n",
    "\n",
    "display(tableau)\n",
    "\n",
    "#A partir de cette liste, créez un array que vous nommerez data :\n",
    "\n",
    "data = np.array(tableau)\n",
    "#Paul souhaiterait contracter un prêt immobilier :\n",
    "\n",
    "#affichez les informations qui lui sont relatives. Pour rappel, Paul correspond à la 5ème ligne de nos données\n",
    "#calculez ses mensualités maximales, en sachant que le taux d'endettement maximum est de 35% (il ne pourra donc pas rembourser par mois plus de 35% de son revenu).\n",
    "print(\"Informations de Paul :\")\n",
    "print(data[4, :])\n",
    "print(\"-\")\n",
    "print(\"Ses mensualités maximales sont de :\", round(data[4,0]*0.35, 2), \"€\")\n",
    "#Informations de Paul :\n",
    "#[2172   37    2]\n",
    "\n",
    "#Ses mensualités maximales sont de : 760.2 €\n",
    "#Paul étant notre 5ème client, l'indice pour accéder aux éléments le concernant est donc 4. Dans un premier temps, on souhaite accéder à toutes ses informations (toutes ses variables) : nous pouvons donc utiliser l'opérateur :. Ensuite, pour faire le calcule à partir de ses revenus, on accéder uniquement à la colonne correspondante\n",
    "\n",
    "#Un nouveau client vient d'arriver, dont les informations sont les suivantes :\n",
    "\n",
    "louise = [1900, 31, 1]\n",
    "#Ajoutez ces informations à la suite de votre array data :\n",
    "\n",
    "data = np.vstack((data, louise))\n",
    "#Stockez enfin l'ensemble des informations de salaire de notre clientèle dans une variable revenus :\n",
    "\n",
    "revenus = data[:, 0]\n",
    "print(revenus)\n",
    "#[1800 1500 2200 3000 2172 5000 1400 1200 1100 1300 1900]\n",
    "\n"
   ]
  },
  {
   "cell_type": "markdown",
   "id": "11de70fa",
   "metadata": {},
   "source": [
    "# En resumé \n",
    "#### Les arrays NumPy sont multidimensionnels, ils peuvent être en 2 dimensions pour correspondre aux besoins du format des données en data, voire en 3D ou 4D.\n",
    "\n",
    "#### Il est possible de créer des tableaux NumPy :\n",
    "\n",
    "#### via la fonction array de NumPy à partir de listes de listes Python :  np.array(liste_de_liste) ;\n",
    "\n",
    "#### à partir des fonctions prédéfinies de NumPy pour remplir un tableau avec des valeurs aléatoires, ou avec une valeur fixe.\n",
    "\n",
    "#### On peut accéder aux éléments d’un array A en utilisant la syntaxe  A[i, j] , où  i  et  j  sont respectivement le numéro de ligne et le numéro de colonne de l’élément au sein du tableau. L’opérateur :  permet de sélectionner plusieurs éléments, voire tout une ligne ou colonne.\n",
    "\n",
    "#### Il existe de nombreuses méthodes applicables à des arrays, dont la liste exhaustive se trouve sur la documentation officielle de NumPy.\n",
    "\n",
    "#### Ces tableaux de valeurs numériques sont appelés des matrices, en mathématiques. De nombreux algorithmes font intervenir des calculs matriciels, et nécessitent l’utilisation de NumPy lorsqu’ils sont écrits en Python."
   ]
  },
  {
   "cell_type": "markdown",
   "id": "3529f5b1",
   "metadata": {},
   "source": [
    "#  Créez votre premier data frame avec Pandas"
   ]
  },
  {
   "cell_type": "code",
   "execution_count": 45,
   "id": "f2f7a0d8",
   "metadata": {},
   "outputs": [],
   "source": [
    "# chargement du fichier\n",
    "import pandas as pd\n",
    "data = pd.read_csv(\"clients.csv\")"
   ]
  },
  {
   "cell_type": "code",
   "execution_count": 46,
   "id": "89193539",
   "metadata": {},
   "outputs": [
    {
     "data": {
      "text/html": [
       "<div>\n",
       "<style scoped>\n",
       "    .dataframe tbody tr th:only-of-type {\n",
       "        vertical-align: middle;\n",
       "    }\n",
       "\n",
       "    .dataframe tbody tr th {\n",
       "        vertical-align: top;\n",
       "    }\n",
       "\n",
       "    .dataframe thead th {\n",
       "        text-align: right;\n",
       "    }\n",
       "</style>\n",
       "<table border=\"1\" class=\"dataframe\">\n",
       "  <thead>\n",
       "    <tr style=\"text-align: right;\">\n",
       "      <th></th>\n",
       "      <th>identifiant</th>\n",
       "      <th>email</th>\n",
       "      <th>nom</th>\n",
       "      <th>genre</th>\n",
       "    </tr>\n",
       "  </thead>\n",
       "  <tbody>\n",
       "    <tr>\n",
       "      <th>0</th>\n",
       "      <td>0</td>\n",
       "      <td>LaurentDagenais@rhyta.com</td>\n",
       "      <td>Laurent Dagenais</td>\n",
       "      <td>M</td>\n",
       "    </tr>\n",
       "    <tr>\n",
       "      <th>1</th>\n",
       "      <td>1</td>\n",
       "      <td>GuyMarois@fleckens.hu</td>\n",
       "      <td>Guy Marois</td>\n",
       "      <td>M</td>\n",
       "    </tr>\n",
       "    <tr>\n",
       "      <th>2</th>\n",
       "      <td>2</td>\n",
       "      <td>BeaufortLesage@einrot.com</td>\n",
       "      <td>Beaufort Lesage</td>\n",
       "      <td>M</td>\n",
       "    </tr>\n",
       "    <tr>\n",
       "      <th>3</th>\n",
       "      <td>3</td>\n",
       "      <td>RussellDurand@armyspy.com</td>\n",
       "      <td>Russell Durand</td>\n",
       "      <td>M</td>\n",
       "    </tr>\n",
       "    <tr>\n",
       "      <th>4</th>\n",
       "      <td>4</td>\n",
       "      <td>AlexisRiel@rhyta.com</td>\n",
       "      <td>Alexis Riel</td>\n",
       "      <td>M</td>\n",
       "    </tr>\n",
       "  </tbody>\n",
       "</table>\n",
       "</div>"
      ],
      "text/plain": [
       "   identifiant                      email               nom genre\n",
       "0            0  LaurentDagenais@rhyta.com  Laurent Dagenais     M\n",
       "1            1      GuyMarois@fleckens.hu        Guy Marois     M\n",
       "2            2  BeaufortLesage@einrot.com   Beaufort Lesage     M\n",
       "3            3  RussellDurand@armyspy.com    Russell Durand     M\n",
       "4            4       AlexisRiel@rhyta.com       Alexis Riel     M"
      ]
     },
     "metadata": {},
     "output_type": "display_data"
    }
   ],
   "source": [
    "# afficher les 5 premières lignes\n",
    "display(data.head())"
   ]
  },
  {
   "cell_type": "code",
   "execution_count": 47,
   "id": "e5370ef4",
   "metadata": {},
   "outputs": [
    {
     "data": {
      "text/html": [
       "<div>\n",
       "<style scoped>\n",
       "    .dataframe tbody tr th:only-of-type {\n",
       "        vertical-align: middle;\n",
       "    }\n",
       "\n",
       "    .dataframe tbody tr th {\n",
       "        vertical-align: top;\n",
       "    }\n",
       "\n",
       "    .dataframe thead th {\n",
       "        text-align: right;\n",
       "    }\n",
       "</style>\n",
       "<table border=\"1\" class=\"dataframe\">\n",
       "  <thead>\n",
       "    <tr style=\"text-align: right;\">\n",
       "      <th></th>\n",
       "      <th>identifiant</th>\n",
       "      <th>email</th>\n",
       "      <th>nom</th>\n",
       "      <th>genre</th>\n",
       "    </tr>\n",
       "  </thead>\n",
       "  <tbody>\n",
       "    <tr>\n",
       "      <th>226</th>\n",
       "      <td>226</td>\n",
       "      <td>FleurCaouette@jourrapide.com</td>\n",
       "      <td>Fleur Caouette</td>\n",
       "      <td>F</td>\n",
       "    </tr>\n",
       "    <tr>\n",
       "      <th>227</th>\n",
       "      <td>227</td>\n",
       "      <td>FrancisMasse@jourrapide.com</td>\n",
       "      <td>Francis Masse</td>\n",
       "      <td>M</td>\n",
       "    </tr>\n",
       "  </tbody>\n",
       "</table>\n",
       "</div>"
      ],
      "text/plain": [
       "     identifiant                         email             nom genre\n",
       "226          226  FleurCaouette@jourrapide.com  Fleur Caouette     F\n",
       "227          227   FrancisMasse@jourrapide.com   Francis Masse     M"
      ]
     },
     "metadata": {},
     "output_type": "display_data"
    }
   ],
   "source": [
    "# afficher les 2 dernières lignes\n",
    "display(data.tail(2))"
   ]
  },
  {
   "cell_type": "code",
   "execution_count": 48,
   "id": "15cc364b",
   "metadata": {},
   "outputs": [
    {
     "data": {
      "text/html": [
       "<div>\n",
       "<style scoped>\n",
       "    .dataframe tbody tr th:only-of-type {\n",
       "        vertical-align: middle;\n",
       "    }\n",
       "\n",
       "    .dataframe tbody tr th {\n",
       "        vertical-align: top;\n",
       "    }\n",
       "\n",
       "    .dataframe thead th {\n",
       "        text-align: right;\n",
       "    }\n",
       "</style>\n",
       "<table border=\"1\" class=\"dataframe\">\n",
       "  <thead>\n",
       "    <tr style=\"text-align: right;\">\n",
       "      <th></th>\n",
       "      <th>identifiant</th>\n",
       "      <th>email</th>\n",
       "      <th>nom</th>\n",
       "      <th>genre</th>\n",
       "    </tr>\n",
       "  </thead>\n",
       "  <tbody>\n",
       "    <tr>\n",
       "      <th>0</th>\n",
       "      <td>0</td>\n",
       "      <td>LaurentDagenais@rhyta.com</td>\n",
       "      <td>Laurent Dagenais</td>\n",
       "      <td>M</td>\n",
       "    </tr>\n",
       "    <tr>\n",
       "      <th>1</th>\n",
       "      <td>1</td>\n",
       "      <td>GuyMarois@fleckens.hu</td>\n",
       "      <td>Guy Marois</td>\n",
       "      <td>M</td>\n",
       "    </tr>\n",
       "    <tr>\n",
       "      <th>2</th>\n",
       "      <td>2</td>\n",
       "      <td>BeaufortLesage@einrot.com</td>\n",
       "      <td>Beaufort Lesage</td>\n",
       "      <td>M</td>\n",
       "    </tr>\n",
       "    <tr>\n",
       "      <th>3</th>\n",
       "      <td>3</td>\n",
       "      <td>RussellDurand@armyspy.com</td>\n",
       "      <td>Russell Durand</td>\n",
       "      <td>M</td>\n",
       "    </tr>\n",
       "    <tr>\n",
       "      <th>4</th>\n",
       "      <td>4</td>\n",
       "      <td>AlexisRiel@rhyta.com</td>\n",
       "      <td>Alexis Riel</td>\n",
       "      <td>M</td>\n",
       "    </tr>\n",
       "    <tr>\n",
       "      <th>...</th>\n",
       "      <td>...</td>\n",
       "      <td>...</td>\n",
       "      <td>...</td>\n",
       "      <td>...</td>\n",
       "    </tr>\n",
       "    <tr>\n",
       "      <th>223</th>\n",
       "      <td>223</td>\n",
       "      <td>ClaudeDandonneau@jourrapide.com</td>\n",
       "      <td>Claude Dandonneau</td>\n",
       "      <td>F</td>\n",
       "    </tr>\n",
       "    <tr>\n",
       "      <th>224</th>\n",
       "      <td>224</td>\n",
       "      <td>ApollineMichaud@superrito.com</td>\n",
       "      <td>Apolline Michaud</td>\n",
       "      <td>F</td>\n",
       "    </tr>\n",
       "    <tr>\n",
       "      <th>225</th>\n",
       "      <td>225</td>\n",
       "      <td>PascalineBeaudry@rhyta.com</td>\n",
       "      <td>Pascaline Beaudry</td>\n",
       "      <td>F</td>\n",
       "    </tr>\n",
       "    <tr>\n",
       "      <th>226</th>\n",
       "      <td>226</td>\n",
       "      <td>FleurCaouette@jourrapide.com</td>\n",
       "      <td>Fleur Caouette</td>\n",
       "      <td>F</td>\n",
       "    </tr>\n",
       "    <tr>\n",
       "      <th>227</th>\n",
       "      <td>227</td>\n",
       "      <td>FrancisMasse@jourrapide.com</td>\n",
       "      <td>Francis Masse</td>\n",
       "      <td>M</td>\n",
       "    </tr>\n",
       "  </tbody>\n",
       "</table>\n",
       "<p>228 rows × 4 columns</p>\n",
       "</div>"
      ],
      "text/plain": [
       "     identifiant                            email                nom genre\n",
       "0              0        LaurentDagenais@rhyta.com   Laurent Dagenais     M\n",
       "1              1            GuyMarois@fleckens.hu         Guy Marois     M\n",
       "2              2        BeaufortLesage@einrot.com    Beaufort Lesage     M\n",
       "3              3        RussellDurand@armyspy.com     Russell Durand     M\n",
       "4              4             AlexisRiel@rhyta.com        Alexis Riel     M\n",
       "..           ...                              ...                ...   ...\n",
       "223          223  ClaudeDandonneau@jourrapide.com  Claude Dandonneau     F\n",
       "224          224    ApollineMichaud@superrito.com   Apolline Michaud     F\n",
       "225          225       PascalineBeaudry@rhyta.com  Pascaline Beaudry     F\n",
       "226          226     FleurCaouette@jourrapide.com     Fleur Caouette     F\n",
       "227          227      FrancisMasse@jourrapide.com      Francis Masse     M\n",
       "\n",
       "[228 rows x 4 columns]"
      ]
     },
     "metadata": {},
     "output_type": "display_data"
    }
   ],
   "source": [
    "# afficher les 5 premières et dernières lignes\n",
    "display(data)"
   ]
  },
  {
   "cell_type": "code",
   "execution_count": 49,
   "id": "5c6b0452",
   "metadata": {},
   "outputs": [
    {
     "name": "stdout",
     "output_type": "stream",
     "text": [
      "228\n",
      "4\n"
     ]
    }
   ],
   "source": [
    "dim = data.shape\n",
    "print(dim[0]) # 228\n",
    "print(dim[1]) # 4"
   ]
  },
  {
   "cell_type": "code",
   "execution_count": 50,
   "id": "86434b11",
   "metadata": {},
   "outputs": [
    {
     "data": {
      "text/plain": [
       "identifiant     int64\n",
       "email          object\n",
       "nom            object\n",
       "genre          object\n",
       "dtype: object"
      ]
     },
     "execution_count": 50,
     "metadata": {},
     "output_type": "execute_result"
    }
   ],
   "source": [
    "data.dtypes"
   ]
  },
  {
   "cell_type": "code",
   "execution_count": 51,
   "id": "e6d4b34d",
   "metadata": {},
   "outputs": [
    {
     "data": {
      "text/plain": [
       "array([[0, 'LaurentDagenais@rhyta.com', 'Laurent Dagenais', 'M'],\n",
       "       [1, 'GuyMarois@fleckens.hu', 'Guy Marois', 'M'],\n",
       "       [2, 'BeaufortLesage@einrot.com', 'Beaufort Lesage', 'M'],\n",
       "       [3, 'RussellDurand@armyspy.com', 'Russell Durand', 'M'],\n",
       "       [4, 'AlexisRiel@rhyta.com', 'Alexis Riel', 'M'],\n",
       "       [5, 'LeonLapresse@cuvox.de', 'Leon Lapresse', 'M'],\n",
       "       [6, 'OrvilleRouthier@gustr.com', 'Orville Routhier', 'M'],\n",
       "       [7, 'AgramantPepin@dayrep.com', 'Agramant Pepin', 'M'],\n",
       "       [8, 'AiglentinaLambert@fleckens.hu', 'Aiglentina Lambert', 'F'],\n",
       "       [9, 'TheodoreClavet@teleworm.us', 'Theodore Clavet', 'M'],\n",
       "       [10, 'ByronLefebvre@jourrapide.com', 'Byron Lefebvre', 'M'],\n",
       "       [11, 'FlorusDevoe@einrot.com', 'Florus Devoe', 'M'],\n",
       "       [12, 'NormandArsenault@armyspy.com', 'Normand Arsenault', 'M'],\n",
       "       [13, 'AcelineHughes@jourrapide.com', 'Aceline Hughes', 'F'],\n",
       "       [14, 'GastonBrisette@superrito.com', 'Gaston Brisette', 'M'],\n",
       "       [15, 'AgateGrandbois@gustr.com', 'Agate Grandbois', 'F'],\n",
       "       [16, 'AgricanFoucault@jourrapide.com', 'Agrican Foucault', 'M'],\n",
       "       [17, 'PrunellaJosseaume@armyspy.com', 'Prunella Josseaume', 'F'],\n",
       "       [18, 'YseultCharest@armyspy.com', 'Yseult Charest', 'F'],\n",
       "       [19, 'DorotheeAupry@cuvox.de', 'Dorothee Aupry', 'F'],\n",
       "       [20, 'AmauryReault@teleworm.us', 'Amaury Reault', 'M'],\n",
       "       [21, 'GillesBeauchamps@superrito.com', 'Gilles Beauchamps', 'M'],\n",
       "       [22, 'FranckDumont@gustr.com', 'Franck Dumont', 'M'],\n",
       "       [23, 'DelmareLHeureux@dayrep.com', 'Delmare L Heureux', 'F'],\n",
       "       [24, 'AlphonseCantin@cuvox.de', 'Alphonse Cantin', 'M'],\n",
       "       [25, 'BlondelleRochon@gustr.com', 'Blondelle Rochon', 'F'],\n",
       "       [26, 'SavilleBernard@armyspy.com', 'Saville Bernard', 'M'],\n",
       "       [27, 'AnnetteJolicoeur@armyspy.com', 'Annette Jolicoeur', 'F'],\n",
       "       [28, 'BradamateMichel@armyspy.com', 'Bradamate Michel', 'F'],\n",
       "       [29, 'HilaireFrappier@armyspy.com', 'Hilaire Frappier', 'F'],\n",
       "       [30, 'MarieBriard@gustr.com', 'Marie Briard', 'F'],\n",
       "       [31, 'MadeleineBatard@superrito.com', 'Madeleine Batard', 'F'],\n",
       "       [32, 'ArberGarcia@dayrep.com', 'Arber Garcia', 'M'],\n",
       "       [33, 'SaberViens@superrito.com', 'Saber Viens', 'M'],\n",
       "       [34, 'ArnaudDubois@rhyta.com', 'Arnaud Dubois', 'M'],\n",
       "       [35, 'PryorBeauchamp@dayrep.com', 'Pryor Beauchamp', 'M'],\n",
       "       [36, 'AlphonsePotvin@armyspy.com', 'Alphonse Potvin', 'M'],\n",
       "       [37, 'FitzLafontaine@dayrep.com', 'Fitz Lafontaine', 'M'],\n",
       "       [38, 'DelmareLamothe@gustr.com', 'Delmare Lamothe', 'F'],\n",
       "       [39, 'DaisiBoileau@jourrapide.com', 'Daisi Boileau', 'F'],\n",
       "       [40, 'SomerPaquette@jourrapide.com', 'Somer Paquette', 'M'],\n",
       "       [41, 'OlivieCourtemanche@armyspy.com', 'Olivie Courtemanche', 'F'],\n",
       "       [42, 'GermainHughes@teleworm.us', 'Germain Hughes', 'M'],\n",
       "       [43, 'MorganaBellemare@superrito.com', 'Morgana Bellemare', 'F'],\n",
       "       [44, 'MerciMorin@gustr.com', 'Merci Morin', 'F'],\n",
       "       [45, 'VerneyBedard@dayrep.com', 'Verney Bedard', 'M'],\n",
       "       [46, 'IgnaceAudibert@armyspy.com', 'Ignace Audibert', 'M'],\n",
       "       [47, 'FranckBinet@superrito.com', 'Franck Binet', 'M'],\n",
       "       [48, 'SumnerRocheleau@einrot.com', 'Sumner Rocheleau', 'M'],\n",
       "       [49, 'AubertPatel@armyspy.com', 'Aubert Patel', 'M'],\n",
       "       [50, 'SumnerLaprise@superrito.com', 'Sumner Laprise', 'M'],\n",
       "       [51, 'MadeleineLeveille@dayrep.com', 'Madeleine Leveille', 'F'],\n",
       "       [52, 'BelisardaGuedry@dayrep.com', 'Belisarda Guedry', 'F'],\n",
       "       [53, 'ZurieTheberge@gustr.com', 'Zurie Theberge', 'F'],\n",
       "       [54, 'ErmengardiBousquet@dayrep.com', 'Ermengardi Bousquet', 'F'],\n",
       "       [55, 'FlorenceBeaudoin@einrot.com', 'Florence Beaudoin', 'F'],\n",
       "       [56, 'LeoneCrete@armyspy.com', 'Leone Crete', 'F'],\n",
       "       [57, 'SearlaitCote@superrito.com', 'Searlait Cote', 'F'],\n",
       "       [58, 'AlphonsineBourassa@cuvox.de', 'Alphonsine Bourassa', 'F'],\n",
       "       [59, 'DidianeDAubigne@einrot.com', 'Didiane D Aubigne', 'F'],\n",
       "       [60, 'EdouardLacroix@cuvox.de', 'Edouard Lacroix', 'M'],\n",
       "       [61, 'OdeletteCharron@superrito.com', 'Odelette Charron', 'F'],\n",
       "       [62, 'AleronBerard@rhyta.com', 'Aleron Berard', 'M'],\n",
       "       [63, 'SylvieDuranseau@einrot.com', 'Sylvie Duranseau', 'F'],\n",
       "       [64, 'YvetteDAvis@cuvox.de', 'Yvette D Avis', 'F'],\n",
       "       [65, 'SolaineLecuyer@dayrep.com', 'Solaine Lecuyer', 'F'],\n",
       "       [66, 'CourtlandDavid@cuvox.de', 'Courtland David', 'M'],\n",
       "       [67, 'PatienceCharbonneau@jourrapide.com', 'Patience Charbonneau',\n",
       "        'F'],\n",
       "       [68, 'EmmanuelLanctot@cuvox.de', 'Emmanuel Lanctot', 'M'],\n",
       "       [69, 'MusetteProvencher@armyspy.com', 'Musette Provencher', 'F'],\n",
       "       [70, 'MorganaMarchesseault@teleworm.us', 'Morgana Marchesseault',\n",
       "        'F'],\n",
       "       [71, 'ViolletteArnoux@cuvox.de', 'Viollette Arnoux', 'F'],\n",
       "       [72, 'SlainieGregoire@cuvox.de', 'Slainie Gregoire', 'F'],\n",
       "       [73, 'GarlandLagueux@rhyta.com', 'Garland Lagueux', 'F'],\n",
       "       [74, 'FerragusGrimard@cuvox.de', 'Ferragus Grimard', 'M'],\n",
       "       [75, 'JeanTollmache@einrot.com', 'Jean Tollmache', 'M'],\n",
       "       [76, 'LanceParent@teleworm.us', 'Lance Parent', 'M'],\n",
       "       [77, 'CheneyChaloux@cuvox.de', 'Cheney Chaloux', 'M'],\n",
       "       [78, 'PierpontLamarre@superrito.com', 'Pierpont Lamarre', 'M'],\n",
       "       [79, 'ComforteQuerry@superrito.com', 'Comforte Querry', 'F'],\n",
       "       [80, 'NadineMasson@teleworm.us', 'Nadine Masson', 'F'],\n",
       "       [81, 'FranceLaderoute@jourrapide.com', 'France Laderoute', 'F'],\n",
       "       [82, 'LothairBonenfant@dayrep.com', 'Lothair Bonenfant', 'M'],\n",
       "       [83, 'OlivieNorbert@cuvox.de', 'Olivie Norbert', 'F'],\n",
       "       [84, 'SomerMarleau@cuvox.de', 'Somer Marleau', 'M'],\n",
       "       [85, 'AstridJolicoeur@superrito.com', 'Astrid Jolicoeur', 'F'],\n",
       "       [86, 'OlivierGaillard@superrito.com', 'Olivier Gaillard', 'M'],\n",
       "       [87, 'PhilipPinneau@teleworm.us', 'Philip Pinneau', 'M'],\n",
       "       [88, 'AlexisLagrange@gustr.com', 'Alexis Lagrange', 'M'],\n",
       "       [89, 'HeloiseGregoire@dayrep.com', 'Heloise Gregoire', 'F'],\n",
       "       [90, 'DexterDavid@fleckens.hu', 'Dexter David', 'M'],\n",
       "       [91, 'JacquesMethot@cuvox.de', 'Jacques Methot', 'M'],\n",
       "       [92, 'AnceloteDesforges@cuvox.de', 'Ancelote Desforges', 'F'],\n",
       "       [93, 'JulietteOuellet@rhyta.com', 'Juliette Ouellet', 'F'],\n",
       "       [94, 'AvrilSylvain@superrito.com', 'Avril Sylvain', 'F'],\n",
       "       [95, 'RachellePlaisance@armyspy.com', 'Rachelle Plaisance', 'F'],\n",
       "       [96, 'BenjaminLabrie@fleckens.hu', 'Benjamin Labrie', 'M'],\n",
       "       [97, 'LaureBondy@superrito.com', 'Laure Bondy', 'F'],\n",
       "       [98, 'NatalieLeveille@rhyta.com', 'Natalie Leveille', 'F'],\n",
       "       [99, 'SydneyGuibord@superrito.com', 'Sydney Guibord', 'F'],\n",
       "       [100, 'ZdenekVadnais@superrito.com', 'Zdenek Vadnais', 'M'],\n",
       "       [101, 'LoyalQuenneville@superrito.com', 'Loyal Quenneville', 'M'],\n",
       "       [102, 'ErnestTachel@cuvox.de', 'Ernest Tachel', 'M'],\n",
       "       [103, 'MatthieuPouchard@teleworm.us', 'Matthieu Pouchard', 'M'],\n",
       "       [104, 'SearlasArtois@rhyta.com', 'Searlas Artois', 'M'],\n",
       "       [105, 'ArnoLeBatelier@einrot.com', 'Arno Le Batelier', 'M'],\n",
       "       [106, 'EstellePoisson@jourrapide.com', 'Estelle Poisson', 'F'],\n",
       "       [107, 'HarcourtCharpentier@cuvox.de', 'Harcourt Charpentier', 'M'],\n",
       "       [108, 'CrescentLavallee@armyspy.com', 'Crescent Lavallee', 'F'],\n",
       "       [109, 'EugeniaVadeboncoeur@cuvox.de', 'Eugenia Vadeboncoeur', 'F'],\n",
       "       [110, 'GenevreLabrie@cuvox.de', 'Genevre Labrie', 'F'],\n",
       "       [111, 'NormandCote@dayrep.com', 'Normand Cote', 'M'],\n",
       "       [112, 'ZoeLeclair@gustr.com', 'Zoe Leclair', 'F'],\n",
       "       [113, 'PhillipaPerrault@einrot.com', 'Phillipa Perrault', 'F'],\n",
       "       [114, 'EliseDesrosiers@jourrapide.com', 'Elise Desrosiers', 'F'],\n",
       "       [115, 'RussellRochon@superrito.com', 'Russell Rochon', 'M'],\n",
       "       [116, 'BeldaLauzier@armyspy.com', 'Belda Lauzier', 'F'],\n",
       "       [117, 'AlphonsineSacre@einrot.com', 'Alphonsine Sacre', 'F'],\n",
       "       [118, 'AubineLabelle@cuvox.de', 'Aubine Labelle', 'F'],\n",
       "       [119, 'EmileVadnais@rhyta.com', 'Emile Vadnais', 'M'],\n",
       "       [120, 'ArienneCantin@superrito.com', 'Arienne Cantin', 'F'],\n",
       "       [121, 'JacquesMarcheterre@einrot.com', 'Jacques Marcheterre', 'M'],\n",
       "       [122, 'EliotDupuis@gustr.com', 'Eliot Dupuis', 'M'],\n",
       "       [123, 'ArthurPlante@jourrapide.com', 'Arthur Plante', 'M'],\n",
       "       [124, 'SacripantLabrie@armyspy.com', 'Sacripant Labrie', 'M'],\n",
       "       [125, 'SibylaLizotte@cuvox.de', 'Sibyla Lizotte', 'F'],\n",
       "       [126, 'ChristianLaberge@armyspy.com', 'Christian Laberge', 'M'],\n",
       "       [127, 'VickDavid@gustr.com', 'Vick David', 'M'],\n",
       "       [128, 'ComforteCloutier@einrot.com', 'Comforte Cloutier', 'F'],\n",
       "       [129, 'ClaudeGalarneau@armyspy.com', 'Claude Galarneau', 'M'],\n",
       "       [130, 'ElisePerrault@superrito.com', 'Elise Perrault', 'F'],\n",
       "       [131, 'LoringRocheleau@cuvox.de', 'Loring Rocheleau', 'M'],\n",
       "       [132, 'MathildeSansouci@superrito.com', 'Mathilde Sansouci', 'F'],\n",
       "       [133, 'AmaurySirois@superrito.com', 'Amaury Sirois', 'M'],\n",
       "       [134, 'ChristelleLandry@jourrapide.com', 'Christelle Landry', 'F'],\n",
       "       [135, 'AdelaideBrousse@gustr.com', 'Adelaide Brousse', 'F'],\n",
       "       [136, 'BriceFaure@einrot.com', 'Brice Faure', 'M'],\n",
       "       [137, 'AlaineHervieux@rhyta.com', 'Alaine Hervieux', 'F'],\n",
       "       [138, 'LanceCroteau@einrot.com', 'Lance Croteau', 'M'],\n",
       "       [139, 'AurelieBazinet@dayrep.com', 'Aurelie Bazinet', 'F'],\n",
       "       [140, 'AstolphoVeronneau@teleworm.us', 'Astolpho Veronneau', 'M'],\n",
       "       [141, 'JolieDeblois@armyspy.com', 'Jolie Deblois', 'F'],\n",
       "       [142, 'MireilleParenteau@superrito.com', 'Mireille Parenteau',\n",
       "        'F'],\n",
       "       [143, 'ToussaintBrodeur@rhyta.com', 'Toussaint Brodeur', 'M'],\n",
       "       [144, 'PorterSimard@armyspy.com', 'Porter Simard', 'M'],\n",
       "       [145, 'JeromedeLaunay@fleckens.hu', 'Jeromede Launay', 'M'],\n",
       "       [146, 'LowellPatel@rhyta.com', 'Lowell Patel', 'M'],\n",
       "       [147, 'GarlandMarcheterre@fleckens.hu', 'Garland Marcheterre',\n",
       "        'F'],\n",
       "       [148, 'OlivierAube@armyspy.com', 'Olivier Aube', 'M'],\n",
       "       [149, 'FrontinoBrian@einrot.com', 'Frontino Brian', 'M'],\n",
       "       [150, 'RochMireault@gustr.com', 'Roch Mireault', 'M'],\n",
       "       [151, 'NathalieCormier@cuvox.de', 'Nathalie Cormier', 'F'],\n",
       "       [152, 'VallisMainville@gustr.com', 'Vallis Mainville', 'M'],\n",
       "       [153, 'DanielleNeufville@teleworm.us', 'Danielle Neufville', 'F'],\n",
       "       [154, 'AllyrianeRacine@gustr.com', 'Allyriane Racine', 'F'],\n",
       "       [155, 'PierpontFlamand@fleckens.hu', 'Pierpont Flamand', 'M'],\n",
       "       [156, 'DanielHuot@rhyta.com', 'Daniel Huot', 'M'],\n",
       "       [157, 'HughPoisson@fleckens.hu', 'Hugh Poisson', 'M'],\n",
       "       [158, 'YoletteMoreau@dayrep.com', 'Yolette Moreau', 'F'],\n",
       "       [159, 'GasparReault@dayrep.com', 'Gaspar Reault', 'M'],\n",
       "       [160, 'DelitBisaillon@teleworm.us', 'Delit Bisaillon', 'F'],\n",
       "       [161, 'ManonDastous@armyspy.com', 'Manon Dastous', 'F'],\n",
       "       [162, 'LoyalFouquet@armyspy.com', 'Loyal Fouquet', 'M'],\n",
       "       [163, 'ApollineLaframboise@teleworm.us', 'Apolline Laframboise',\n",
       "        'F'],\n",
       "       [164, 'OrielMiron@jourrapide.com', 'Oriel Miron', 'F'],\n",
       "       [165, 'LianeLaGarde@cuvox.de', 'Liane La Garde', 'F'],\n",
       "       [166, 'AnastasieCroteau@rhyta.com', 'Anastasie Croteau', 'F'],\n",
       "       [167, 'VerneyCourse@armyspy.com', 'Verney Course', 'M'],\n",
       "       [168, 'VoletaAdler@armyspy.com', 'Voleta Adler', 'F'],\n",
       "       [169, 'PlattParent@jourrapide.com', 'Platt Parent', 'M'],\n",
       "       [170, 'BlondelleAilleboust@gustr.com', 'Blondelle Ailleboust',\n",
       "        'F'],\n",
       "       [171, 'AurelieDesnoyer@armyspy.com', 'Aurelie Desnoyer', 'F'],\n",
       "       [172, 'AvelaineGadbois@dayrep.com', 'Avelaine Gadbois', 'F'],\n",
       "       [173, 'BriceGrondin@fleckens.hu', 'Brice Grondin', 'M'],\n",
       "       [174, 'ZacharieDuplessis@rhyta.com', 'Zacharie Duplessis', 'M'],\n",
       "       [175, 'OgierGervais@gustr.com', 'Ogier Gervais', 'M'],\n",
       "       [176, 'FusbertaRancourt@rhyta.com', 'Fusberta Rancourt', 'F'],\n",
       "       [177, 'CamilleLaurent@superrito.com', 'Camille Laurent', 'F'],\n",
       "       [178, 'CeriseMontminy@dayrep.com', 'Cerise Montminy', 'F'],\n",
       "       [179, 'JosetteRiquier@armyspy.com', 'Josette Riquier', 'F'],\n",
       "       [180, 'AgnesBriard@cuvox.de', 'Agnes Briard', 'F'],\n",
       "       [181, 'AvrilRocheleau@fleckens.hu', 'Avril Rocheleau', 'F'],\n",
       "       [182, 'BenoitGauvin@teleworm.us', 'Benoit Gauvin', 'M'],\n",
       "       [183, 'HeloiseMarcil@fleckens.hu', 'Heloise Marcil', 'F'],\n",
       "       [184, 'RolandDupont@einrot.com', 'Roland Dupont', 'M'],\n",
       "       [185, 'SolaineLabrecque@fleckens.hu', 'Solaine Labrecque', 'F'],\n",
       "       [186, 'JulieBeauchemin@teleworm.us', 'Julie Beauchemin', 'F'],\n",
       "       [187, 'KarelDandonneau@dayrep.com', 'Karel Dandonneau', 'M'],\n",
       "       [188, 'PaienBeauchesne@rhyta.com', 'Paien Beauchesne', 'M'],\n",
       "       [189, 'AdeleClavette@cuvox.de', 'Adele Clavette', 'F'],\n",
       "       [190, 'LotyeJodion@fleckens.hu', 'Lotye Jodion', 'F'],\n",
       "       [191, 'AmaranteLacroix@fleckens.hu', 'Amarante Lacroix', 'F'],\n",
       "       [192, 'XarlesCaisse@jourrapide.com', 'Xarles Caisse', 'M'],\n",
       "       [193, 'LealaLemelin@dayrep.com', 'Leala Lemelin', 'F'],\n",
       "       [194, 'ChantalLamoureux@jourrapide.com', 'Chantal Lamoureux', 'F'],\n",
       "       [195, 'NinetteAdler@superrito.com', 'Ninette Adler', 'F'],\n",
       "       [196, 'EmmanuelleLabrie@einrot.com', 'Emmanuelle Labrie', 'F'],\n",
       "       [197, 'HuonDeLaRonde@rhyta.com', 'Huon De La Ronde', 'M'],\n",
       "       [198, 'SimoneSt-Pierre@jourrapide.com', 'Simone St- Pierre', 'F'],\n",
       "       [199, 'PeverellMazuret@dayrep.com', 'Peverell Mazuret', 'M'],\n",
       "       [200, 'LorrainePaulet@einrot.com', 'Lorraine Paulet', 'F'],\n",
       "       [201, 'DemiLazure@cuvox.de', 'Demi Lazure', 'F'],\n",
       "       [202, 'AgramantGrandpre@rhyta.com', 'Agramant Grandpre', 'M'],\n",
       "       [203, 'ClothildeBerie@teleworm.us', 'Clothilde Berie', 'F'],\n",
       "       [204, 'AimeMarseau@dayrep.com', 'Aime Marseau', 'M'],\n",
       "       [205, 'RogerDeLaRonde@gustr.com', 'Roger De La Ronde', 'M'],\n",
       "       [206, 'AiglentinaMarcheterre@superrito.com',\n",
       "        'Aiglentina Marcheterre', 'F'],\n",
       "       [207, 'NoemiLaisne@rhyta.com', 'Noemi Laisne', 'F'],\n",
       "       [208, 'DenisPatenaude@einrot.com', 'Denis Patenaude', 'M'],\n",
       "       [209, 'JulienBeriault@rhyta.com', 'Julien Beriault', 'M'],\n",
       "       [210, 'MartheQuerry@einrot.com', 'Marthe Querry', 'F'],\n",
       "       [211, 'ParfaitBedard@armyspy.com', 'Parfait Bedard', 'M'],\n",
       "       [212, 'MandelBarteaux@gustr.com', 'Mandel Barteaux', 'M'],\n",
       "       [213, 'PauletteLemaitre@fleckens.hu', 'Paulette Lemaitre', 'F'],\n",
       "       [214, 'YoletteLanoie@dayrep.com', 'Yolette Lanoie', 'F'],\n",
       "       [215, 'LucilleBaron@superrito.com', 'Lucille Baron', 'F'],\n",
       "       [216, 'ChappellSarrazin@rhyta.com', 'Chappell Sarrazin', 'M'],\n",
       "       [217, 'GanoHetu@fleckens.hu', 'Gano Hetu', 'M'],\n",
       "       [218, 'MinetteRoy@fleckens.hu', 'Minette Roy', 'F'],\n",
       "       [219, 'RoslynChalifour@cuvox.de', 'Roslyn Chalifour', 'M'],\n",
       "       [220, 'KarelBazinet@einrot.com', 'Karel Bazinet', 'M'],\n",
       "       [221, 'JosetteBordeleau@einrot.com', 'Josette Bordeleau', 'F'],\n",
       "       [222, 'LangleyCaron@armyspy.com', 'Langley Caron', 'M'],\n",
       "       [223, 'ClaudeDandonneau@jourrapide.com', 'Claude Dandonneau', 'F'],\n",
       "       [224, 'ApollineMichaud@superrito.com', 'Apolline Michaud', 'F'],\n",
       "       [225, 'PascalineBeaudry@rhyta.com', 'Pascaline Beaudry', 'F'],\n",
       "       [226, 'FleurCaouette@jourrapide.com', 'Fleur Caouette', 'F'],\n",
       "       [227, 'FrancisMasse@jourrapide.com', 'Francis Masse', 'M']],\n",
       "      dtype=object)"
      ]
     },
     "metadata": {},
     "output_type": "display_data"
    }
   ],
   "source": [
    "clients_array = data.values\n",
    "display(clients_array)"
   ]
  },
  {
   "cell_type": "markdown",
   "id": "cdd055a2",
   "metadata": {},
   "source": [
    "# En résumé\n",
    "#### En analyse de données, les données sont généralement représentées et manipulées sous un format de tableau, où chaque ligne représente un individu, et chaque colonne une variable.\n",
    "\n",
    "#### Le data frame de Pandas propose une implémentation de ce format en Python.\n",
    "\n",
    "#### Les formats de stockage des données sont multiples : cela peut être via des fichiers délimités (CSV ou texte), ou encore des fichiers JSON ou Excel.\n",
    "\n",
    "#### L’objet data frame de Pandas permet de manipuler simplement et efficacement les données :\n",
    "\n",
    "#### en important très facilement tous ces différents formats ; \n",
    "\n",
    "#### en accédant facilement aux caractéristiques générales de notre jeu de données, comme les types de variables, le nombre de lignes, le nombre de colonnes, etc.# "
   ]
  },
  {
   "cell_type": "markdown",
   "id": "71e36b6f",
   "metadata": {},
   "source": [
    "# Manipulez le data frame"
   ]
  },
  {
   "cell_type": "code",
   "execution_count": 53,
   "id": "86fb1567",
   "metadata": {},
   "outputs": [],
   "source": [
    "clients = pd.read_csv('clients.csv')"
   ]
  },
  {
   "cell_type": "code",
   "execution_count": 54,
   "id": "1f1a1ea4",
   "metadata": {},
   "outputs": [
    {
     "data": {
      "text/plain": [
       "0            LaurentDagenais@rhyta.com\n",
       "1                GuyMarois@fleckens.hu\n",
       "2            BeaufortLesage@einrot.com\n",
       "3            RussellDurand@armyspy.com\n",
       "4                 AlexisRiel@rhyta.com\n",
       "                    ...               \n",
       "223    ClaudeDandonneau@jourrapide.com\n",
       "224      ApollineMichaud@superrito.com\n",
       "225         PascalineBeaudry@rhyta.com\n",
       "226       FleurCaouette@jourrapide.com\n",
       "227        FrancisMasse@jourrapide.com\n",
       "Name: email, Length: 228, dtype: object"
      ]
     },
     "execution_count": 54,
     "metadata": {},
     "output_type": "execute_result"
    }
   ],
   "source": [
    "clients['email']"
   ]
  },
  {
   "cell_type": "code",
   "execution_count": 55,
   "id": "2a1ef45b",
   "metadata": {},
   "outputs": [],
   "source": [
    "email = clients['email']"
   ]
  },
  {
   "cell_type": "code",
   "execution_count": 56,
   "id": "aff0a61a",
   "metadata": {},
   "outputs": [
    {
     "data": {
      "text/html": [
       "<div>\n",
       "<style scoped>\n",
       "    .dataframe tbody tr th:only-of-type {\n",
       "        vertical-align: middle;\n",
       "    }\n",
       "\n",
       "    .dataframe tbody tr th {\n",
       "        vertical-align: top;\n",
       "    }\n",
       "\n",
       "    .dataframe thead th {\n",
       "        text-align: right;\n",
       "    }\n",
       "</style>\n",
       "<table border=\"1\" class=\"dataframe\">\n",
       "  <thead>\n",
       "    <tr style=\"text-align: right;\">\n",
       "      <th></th>\n",
       "      <th>nom</th>\n",
       "      <th>email</th>\n",
       "    </tr>\n",
       "  </thead>\n",
       "  <tbody>\n",
       "    <tr>\n",
       "      <th>0</th>\n",
       "      <td>Laurent Dagenais</td>\n",
       "      <td>LaurentDagenais@rhyta.com</td>\n",
       "    </tr>\n",
       "    <tr>\n",
       "      <th>1</th>\n",
       "      <td>Guy Marois</td>\n",
       "      <td>GuyMarois@fleckens.hu</td>\n",
       "    </tr>\n",
       "    <tr>\n",
       "      <th>2</th>\n",
       "      <td>Beaufort Lesage</td>\n",
       "      <td>BeaufortLesage@einrot.com</td>\n",
       "    </tr>\n",
       "    <tr>\n",
       "      <th>3</th>\n",
       "      <td>Russell Durand</td>\n",
       "      <td>RussellDurand@armyspy.com</td>\n",
       "    </tr>\n",
       "    <tr>\n",
       "      <th>4</th>\n",
       "      <td>Alexis Riel</td>\n",
       "      <td>AlexisRiel@rhyta.com</td>\n",
       "    </tr>\n",
       "    <tr>\n",
       "      <th>...</th>\n",
       "      <td>...</td>\n",
       "      <td>...</td>\n",
       "    </tr>\n",
       "    <tr>\n",
       "      <th>223</th>\n",
       "      <td>Claude Dandonneau</td>\n",
       "      <td>ClaudeDandonneau@jourrapide.com</td>\n",
       "    </tr>\n",
       "    <tr>\n",
       "      <th>224</th>\n",
       "      <td>Apolline Michaud</td>\n",
       "      <td>ApollineMichaud@superrito.com</td>\n",
       "    </tr>\n",
       "    <tr>\n",
       "      <th>225</th>\n",
       "      <td>Pascaline Beaudry</td>\n",
       "      <td>PascalineBeaudry@rhyta.com</td>\n",
       "    </tr>\n",
       "    <tr>\n",
       "      <th>226</th>\n",
       "      <td>Fleur Caouette</td>\n",
       "      <td>FleurCaouette@jourrapide.com</td>\n",
       "    </tr>\n",
       "    <tr>\n",
       "      <th>227</th>\n",
       "      <td>Francis Masse</td>\n",
       "      <td>FrancisMasse@jourrapide.com</td>\n",
       "    </tr>\n",
       "  </tbody>\n",
       "</table>\n",
       "<p>228 rows × 2 columns</p>\n",
       "</div>"
      ],
      "text/plain": [
       "                   nom                            email\n",
       "0     Laurent Dagenais        LaurentDagenais@rhyta.com\n",
       "1           Guy Marois            GuyMarois@fleckens.hu\n",
       "2      Beaufort Lesage        BeaufortLesage@einrot.com\n",
       "3       Russell Durand        RussellDurand@armyspy.com\n",
       "4          Alexis Riel             AlexisRiel@rhyta.com\n",
       "..                 ...                              ...\n",
       "223  Claude Dandonneau  ClaudeDandonneau@jourrapide.com\n",
       "224   Apolline Michaud    ApollineMichaud@superrito.com\n",
       "225  Pascaline Beaudry       PascalineBeaudry@rhyta.com\n",
       "226     Fleur Caouette     FleurCaouette@jourrapide.com\n",
       "227      Francis Masse      FrancisMasse@jourrapide.com\n",
       "\n",
       "[228 rows x 2 columns]"
      ]
     },
     "execution_count": 56,
     "metadata": {},
     "output_type": "execute_result"
    }
   ],
   "source": [
    "variables = ['nom', 'email']\n",
    "clients[variables]"
   ]
  },
  {
   "cell_type": "code",
   "execution_count": 57,
   "id": "8e1debc8",
   "metadata": {},
   "outputs": [],
   "source": [
    "clients['nom'] = 1"
   ]
  },
  {
   "cell_type": "code",
   "execution_count": 58,
   "id": "de380407",
   "metadata": {},
   "outputs": [],
   "source": [
    "clients['identifiant'] = clients['identifiant']*100"
   ]
  },
  {
   "cell_type": "code",
   "execution_count": 59,
   "id": "07371dea",
   "metadata": {},
   "outputs": [],
   "source": [
    "clients['identifiant'] = np.random.randint(1, 1000, clients.shape[0])"
   ]
  },
  {
   "cell_type": "code",
   "execution_count": 60,
   "id": "8977d546",
   "metadata": {},
   "outputs": [
    {
     "data": {
      "text/html": [
       "<div>\n",
       "<style scoped>\n",
       "    .dataframe tbody tr th:only-of-type {\n",
       "        vertical-align: middle;\n",
       "    }\n",
       "\n",
       "    .dataframe tbody tr th {\n",
       "        vertical-align: top;\n",
       "    }\n",
       "\n",
       "    .dataframe thead th {\n",
       "        text-align: right;\n",
       "    }\n",
       "</style>\n",
       "<table border=\"1\" class=\"dataframe\">\n",
       "  <thead>\n",
       "    <tr style=\"text-align: right;\">\n",
       "      <th></th>\n",
       "      <th>identifiant</th>\n",
       "      <th>email</th>\n",
       "      <th>nom</th>\n",
       "      <th>genre</th>\n",
       "      <th>id</th>\n",
       "    </tr>\n",
       "  </thead>\n",
       "  <tbody>\n",
       "    <tr>\n",
       "      <th>0</th>\n",
       "      <td>937</td>\n",
       "      <td>LaurentDagenais@rhyta.com</td>\n",
       "      <td>1</td>\n",
       "      <td>M</td>\n",
       "      <td>1937</td>\n",
       "    </tr>\n",
       "    <tr>\n",
       "      <th>1</th>\n",
       "      <td>390</td>\n",
       "      <td>GuyMarois@fleckens.hu</td>\n",
       "      <td>1</td>\n",
       "      <td>M</td>\n",
       "      <td>1390</td>\n",
       "    </tr>\n",
       "    <tr>\n",
       "      <th>2</th>\n",
       "      <td>25</td>\n",
       "      <td>BeaufortLesage@einrot.com</td>\n",
       "      <td>1</td>\n",
       "      <td>M</td>\n",
       "      <td>1025</td>\n",
       "    </tr>\n",
       "    <tr>\n",
       "      <th>3</th>\n",
       "      <td>294</td>\n",
       "      <td>RussellDurand@armyspy.com</td>\n",
       "      <td>1</td>\n",
       "      <td>M</td>\n",
       "      <td>1294</td>\n",
       "    </tr>\n",
       "    <tr>\n",
       "      <th>4</th>\n",
       "      <td>797</td>\n",
       "      <td>AlexisRiel@rhyta.com</td>\n",
       "      <td>1</td>\n",
       "      <td>M</td>\n",
       "      <td>1797</td>\n",
       "    </tr>\n",
       "  </tbody>\n",
       "</table>\n",
       "</div>"
      ],
      "text/plain": [
       "   identifiant                      email  nom genre    id\n",
       "0          937  LaurentDagenais@rhyta.com    1     M  1937\n",
       "1          390      GuyMarois@fleckens.hu    1     M  1390\n",
       "2           25  BeaufortLesage@einrot.com    1     M  1025\n",
       "3          294  RussellDurand@armyspy.com    1     M  1294\n",
       "4          797       AlexisRiel@rhyta.com    1     M  1797"
      ]
     },
     "execution_count": 60,
     "metadata": {},
     "output_type": "execute_result"
    }
   ],
   "source": [
    "clients['id'] = clients['identifiant'] + 1000\n",
    "clients.head()"
   ]
  },
  {
   "cell_type": "code",
   "execution_count": 61,
   "id": "d34d9251",
   "metadata": {},
   "outputs": [
    {
     "data": {
      "text/html": [
       "<div>\n",
       "<style scoped>\n",
       "    .dataframe tbody tr th:only-of-type {\n",
       "        vertical-align: middle;\n",
       "    }\n",
       "\n",
       "    .dataframe tbody tr th {\n",
       "        vertical-align: top;\n",
       "    }\n",
       "\n",
       "    .dataframe thead th {\n",
       "        text-align: right;\n",
       "    }\n",
       "</style>\n",
       "<table border=\"1\" class=\"dataframe\">\n",
       "  <thead>\n",
       "    <tr style=\"text-align: right;\">\n",
       "      <th></th>\n",
       "      <th>identifiant</th>\n",
       "      <th>email</th>\n",
       "      <th>nom</th>\n",
       "      <th>genre</th>\n",
       "    </tr>\n",
       "  </thead>\n",
       "  <tbody>\n",
       "    <tr>\n",
       "      <th>0</th>\n",
       "      <td>937</td>\n",
       "      <td>LaurentDagenais@rhyta.com</td>\n",
       "      <td>1</td>\n",
       "      <td>M</td>\n",
       "    </tr>\n",
       "    <tr>\n",
       "      <th>1</th>\n",
       "      <td>390</td>\n",
       "      <td>GuyMarois@fleckens.hu</td>\n",
       "      <td>1</td>\n",
       "      <td>M</td>\n",
       "    </tr>\n",
       "    <tr>\n",
       "      <th>2</th>\n",
       "      <td>25</td>\n",
       "      <td>BeaufortLesage@einrot.com</td>\n",
       "      <td>1</td>\n",
       "      <td>M</td>\n",
       "    </tr>\n",
       "    <tr>\n",
       "      <th>3</th>\n",
       "      <td>294</td>\n",
       "      <td>RussellDurand@armyspy.com</td>\n",
       "      <td>1</td>\n",
       "      <td>M</td>\n",
       "    </tr>\n",
       "    <tr>\n",
       "      <th>4</th>\n",
       "      <td>797</td>\n",
       "      <td>AlexisRiel@rhyta.com</td>\n",
       "      <td>1</td>\n",
       "      <td>M</td>\n",
       "    </tr>\n",
       "    <tr>\n",
       "      <th>...</th>\n",
       "      <td>...</td>\n",
       "      <td>...</td>\n",
       "      <td>...</td>\n",
       "      <td>...</td>\n",
       "    </tr>\n",
       "    <tr>\n",
       "      <th>223</th>\n",
       "      <td>208</td>\n",
       "      <td>ClaudeDandonneau@jourrapide.com</td>\n",
       "      <td>1</td>\n",
       "      <td>F</td>\n",
       "    </tr>\n",
       "    <tr>\n",
       "      <th>224</th>\n",
       "      <td>811</td>\n",
       "      <td>ApollineMichaud@superrito.com</td>\n",
       "      <td>1</td>\n",
       "      <td>F</td>\n",
       "    </tr>\n",
       "    <tr>\n",
       "      <th>225</th>\n",
       "      <td>972</td>\n",
       "      <td>PascalineBeaudry@rhyta.com</td>\n",
       "      <td>1</td>\n",
       "      <td>F</td>\n",
       "    </tr>\n",
       "    <tr>\n",
       "      <th>226</th>\n",
       "      <td>477</td>\n",
       "      <td>FleurCaouette@jourrapide.com</td>\n",
       "      <td>1</td>\n",
       "      <td>F</td>\n",
       "    </tr>\n",
       "    <tr>\n",
       "      <th>227</th>\n",
       "      <td>108</td>\n",
       "      <td>FrancisMasse@jourrapide.com</td>\n",
       "      <td>1</td>\n",
       "      <td>M</td>\n",
       "    </tr>\n",
       "  </tbody>\n",
       "</table>\n",
       "<p>228 rows × 4 columns</p>\n",
       "</div>"
      ],
      "text/plain": [
       "     identifiant                            email  nom genre\n",
       "0            937        LaurentDagenais@rhyta.com    1     M\n",
       "1            390            GuyMarois@fleckens.hu    1     M\n",
       "2             25        BeaufortLesage@einrot.com    1     M\n",
       "3            294        RussellDurand@armyspy.com    1     M\n",
       "4            797             AlexisRiel@rhyta.com    1     M\n",
       "..           ...                              ...  ...   ...\n",
       "223          208  ClaudeDandonneau@jourrapide.com    1     F\n",
       "224          811    ApollineMichaud@superrito.com    1     F\n",
       "225          972       PascalineBeaudry@rhyta.com    1     F\n",
       "226          477     FleurCaouette@jourrapide.com    1     F\n",
       "227          108      FrancisMasse@jourrapide.com    1     M\n",
       "\n",
       "[228 rows x 4 columns]"
      ]
     },
     "execution_count": 61,
     "metadata": {},
     "output_type": "execute_result"
    }
   ],
   "source": [
    "clients.drop(columns='id')"
   ]
  },
  {
   "cell_type": "code",
   "execution_count": 62,
   "id": "6c29fe79",
   "metadata": {},
   "outputs": [
    {
     "data": {
      "text/html": [
       "<div>\n",
       "<style scoped>\n",
       "    .dataframe tbody tr th:only-of-type {\n",
       "        vertical-align: middle;\n",
       "    }\n",
       "\n",
       "    .dataframe tbody tr th {\n",
       "        vertical-align: top;\n",
       "    }\n",
       "\n",
       "    .dataframe thead th {\n",
       "        text-align: right;\n",
       "    }\n",
       "</style>\n",
       "<table border=\"1\" class=\"dataframe\">\n",
       "  <thead>\n",
       "    <tr style=\"text-align: right;\">\n",
       "      <th></th>\n",
       "      <th>identifiant</th>\n",
       "      <th>email</th>\n",
       "      <th>nom</th>\n",
       "      <th>genre</th>\n",
       "    </tr>\n",
       "  </thead>\n",
       "  <tbody>\n",
       "    <tr>\n",
       "      <th>0</th>\n",
       "      <td>937</td>\n",
       "      <td>LaurentDagenais@rhyta.com</td>\n",
       "      <td>1</td>\n",
       "      <td>M</td>\n",
       "    </tr>\n",
       "    <tr>\n",
       "      <th>1</th>\n",
       "      <td>390</td>\n",
       "      <td>GuyMarois@fleckens.hu</td>\n",
       "      <td>1</td>\n",
       "      <td>M</td>\n",
       "    </tr>\n",
       "    <tr>\n",
       "      <th>2</th>\n",
       "      <td>25</td>\n",
       "      <td>BeaufortLesage@einrot.com</td>\n",
       "      <td>1</td>\n",
       "      <td>M</td>\n",
       "    </tr>\n",
       "    <tr>\n",
       "      <th>3</th>\n",
       "      <td>294</td>\n",
       "      <td>RussellDurand@armyspy.com</td>\n",
       "      <td>1</td>\n",
       "      <td>M</td>\n",
       "    </tr>\n",
       "    <tr>\n",
       "      <th>4</th>\n",
       "      <td>797</td>\n",
       "      <td>AlexisRiel@rhyta.com</td>\n",
       "      <td>1</td>\n",
       "      <td>M</td>\n",
       "    </tr>\n",
       "  </tbody>\n",
       "</table>\n",
       "</div>"
      ],
      "text/plain": [
       "   identifiant                      email  nom genre\n",
       "0          937  LaurentDagenais@rhyta.com    1     M\n",
       "1          390      GuyMarois@fleckens.hu    1     M\n",
       "2           25  BeaufortLesage@einrot.com    1     M\n",
       "3          294  RussellDurand@armyspy.com    1     M\n",
       "4          797       AlexisRiel@rhyta.com    1     M"
      ]
     },
     "execution_count": 62,
     "metadata": {},
     "output_type": "execute_result"
    }
   ],
   "source": [
    "del clients['id']\n",
    "clients.head()"
   ]
  },
  {
   "cell_type": "code",
   "execution_count": 64,
   "id": "02233423",
   "metadata": {},
   "outputs": [],
   "source": [
    "#clients.pop('id')\n",
    "#clients.head()"
   ]
  },
  {
   "cell_type": "code",
   "execution_count": 65,
   "id": "17c14c1a",
   "metadata": {},
   "outputs": [
    {
     "data": {
      "text/html": [
       "<div>\n",
       "<style scoped>\n",
       "    .dataframe tbody tr th:only-of-type {\n",
       "        vertical-align: middle;\n",
       "    }\n",
       "\n",
       "    .dataframe tbody tr th {\n",
       "        vertical-align: top;\n",
       "    }\n",
       "\n",
       "    .dataframe thead th {\n",
       "        text-align: right;\n",
       "    }\n",
       "</style>\n",
       "<table border=\"1\" class=\"dataframe\">\n",
       "  <thead>\n",
       "    <tr style=\"text-align: right;\">\n",
       "      <th></th>\n",
       "      <th>ide</th>\n",
       "      <th>email</th>\n",
       "      <th>nom</th>\n",
       "      <th>genre</th>\n",
       "    </tr>\n",
       "  </thead>\n",
       "  <tbody>\n",
       "    <tr>\n",
       "      <th>0</th>\n",
       "      <td>937</td>\n",
       "      <td>LaurentDagenais@rhyta.com</td>\n",
       "      <td>1</td>\n",
       "      <td>M</td>\n",
       "    </tr>\n",
       "    <tr>\n",
       "      <th>1</th>\n",
       "      <td>390</td>\n",
       "      <td>GuyMarois@fleckens.hu</td>\n",
       "      <td>1</td>\n",
       "      <td>M</td>\n",
       "    </tr>\n",
       "    <tr>\n",
       "      <th>2</th>\n",
       "      <td>25</td>\n",
       "      <td>BeaufortLesage@einrot.com</td>\n",
       "      <td>1</td>\n",
       "      <td>M</td>\n",
       "    </tr>\n",
       "    <tr>\n",
       "      <th>3</th>\n",
       "      <td>294</td>\n",
       "      <td>RussellDurand@armyspy.com</td>\n",
       "      <td>1</td>\n",
       "      <td>M</td>\n",
       "    </tr>\n",
       "    <tr>\n",
       "      <th>4</th>\n",
       "      <td>797</td>\n",
       "      <td>AlexisRiel@rhyta.com</td>\n",
       "      <td>1</td>\n",
       "      <td>M</td>\n",
       "    </tr>\n",
       "    <tr>\n",
       "      <th>...</th>\n",
       "      <td>...</td>\n",
       "      <td>...</td>\n",
       "      <td>...</td>\n",
       "      <td>...</td>\n",
       "    </tr>\n",
       "    <tr>\n",
       "      <th>223</th>\n",
       "      <td>208</td>\n",
       "      <td>ClaudeDandonneau@jourrapide.com</td>\n",
       "      <td>1</td>\n",
       "      <td>F</td>\n",
       "    </tr>\n",
       "    <tr>\n",
       "      <th>224</th>\n",
       "      <td>811</td>\n",
       "      <td>ApollineMichaud@superrito.com</td>\n",
       "      <td>1</td>\n",
       "      <td>F</td>\n",
       "    </tr>\n",
       "    <tr>\n",
       "      <th>225</th>\n",
       "      <td>972</td>\n",
       "      <td>PascalineBeaudry@rhyta.com</td>\n",
       "      <td>1</td>\n",
       "      <td>F</td>\n",
       "    </tr>\n",
       "    <tr>\n",
       "      <th>226</th>\n",
       "      <td>477</td>\n",
       "      <td>FleurCaouette@jourrapide.com</td>\n",
       "      <td>1</td>\n",
       "      <td>F</td>\n",
       "    </tr>\n",
       "    <tr>\n",
       "      <th>227</th>\n",
       "      <td>108</td>\n",
       "      <td>FrancisMasse@jourrapide.com</td>\n",
       "      <td>1</td>\n",
       "      <td>M</td>\n",
       "    </tr>\n",
       "  </tbody>\n",
       "</table>\n",
       "<p>228 rows × 4 columns</p>\n",
       "</div>"
      ],
      "text/plain": [
       "     ide                            email  nom genre\n",
       "0    937        LaurentDagenais@rhyta.com    1     M\n",
       "1    390            GuyMarois@fleckens.hu    1     M\n",
       "2     25        BeaufortLesage@einrot.com    1     M\n",
       "3    294        RussellDurand@armyspy.com    1     M\n",
       "4    797             AlexisRiel@rhyta.com    1     M\n",
       "..   ...                              ...  ...   ...\n",
       "223  208  ClaudeDandonneau@jourrapide.com    1     F\n",
       "224  811    ApollineMichaud@superrito.com    1     F\n",
       "225  972       PascalineBeaudry@rhyta.com    1     F\n",
       "226  477     FleurCaouette@jourrapide.com    1     F\n",
       "227  108      FrancisMasse@jourrapide.com    1     M\n",
       "\n",
       "[228 rows x 4 columns]"
      ]
     },
     "execution_count": 65,
     "metadata": {},
     "output_type": "execute_result"
    }
   ],
   "source": [
    "clients.rename(columns={'identifiant': 'ide'})"
   ]
  },
  {
   "cell_type": "code",
   "execution_count": 66,
   "id": "a56c3c0e",
   "metadata": {},
   "outputs": [
    {
     "data": {
      "text/html": [
       "<div>\n",
       "<style scoped>\n",
       "    .dataframe tbody tr th:only-of-type {\n",
       "        vertical-align: middle;\n",
       "    }\n",
       "\n",
       "    .dataframe tbody tr th {\n",
       "        vertical-align: top;\n",
       "    }\n",
       "\n",
       "    .dataframe thead th {\n",
       "        text-align: right;\n",
       "    }\n",
       "</style>\n",
       "<table border=\"1\" class=\"dataframe\">\n",
       "  <thead>\n",
       "    <tr style=\"text-align: right;\">\n",
       "      <th></th>\n",
       "      <th>ide</th>\n",
       "      <th>mail</th>\n",
       "      <th>nom</th>\n",
       "      <th>genre</th>\n",
       "    </tr>\n",
       "  </thead>\n",
       "  <tbody>\n",
       "    <tr>\n",
       "      <th>0</th>\n",
       "      <td>937</td>\n",
       "      <td>LaurentDagenais@rhyta.com</td>\n",
       "      <td>1</td>\n",
       "      <td>M</td>\n",
       "    </tr>\n",
       "    <tr>\n",
       "      <th>1</th>\n",
       "      <td>390</td>\n",
       "      <td>GuyMarois@fleckens.hu</td>\n",
       "      <td>1</td>\n",
       "      <td>M</td>\n",
       "    </tr>\n",
       "    <tr>\n",
       "      <th>2</th>\n",
       "      <td>25</td>\n",
       "      <td>BeaufortLesage@einrot.com</td>\n",
       "      <td>1</td>\n",
       "      <td>M</td>\n",
       "    </tr>\n",
       "    <tr>\n",
       "      <th>3</th>\n",
       "      <td>294</td>\n",
       "      <td>RussellDurand@armyspy.com</td>\n",
       "      <td>1</td>\n",
       "      <td>M</td>\n",
       "    </tr>\n",
       "    <tr>\n",
       "      <th>4</th>\n",
       "      <td>797</td>\n",
       "      <td>AlexisRiel@rhyta.com</td>\n",
       "      <td>1</td>\n",
       "      <td>M</td>\n",
       "    </tr>\n",
       "    <tr>\n",
       "      <th>...</th>\n",
       "      <td>...</td>\n",
       "      <td>...</td>\n",
       "      <td>...</td>\n",
       "      <td>...</td>\n",
       "    </tr>\n",
       "    <tr>\n",
       "      <th>223</th>\n",
       "      <td>208</td>\n",
       "      <td>ClaudeDandonneau@jourrapide.com</td>\n",
       "      <td>1</td>\n",
       "      <td>F</td>\n",
       "    </tr>\n",
       "    <tr>\n",
       "      <th>224</th>\n",
       "      <td>811</td>\n",
       "      <td>ApollineMichaud@superrito.com</td>\n",
       "      <td>1</td>\n",
       "      <td>F</td>\n",
       "    </tr>\n",
       "    <tr>\n",
       "      <th>225</th>\n",
       "      <td>972</td>\n",
       "      <td>PascalineBeaudry@rhyta.com</td>\n",
       "      <td>1</td>\n",
       "      <td>F</td>\n",
       "    </tr>\n",
       "    <tr>\n",
       "      <th>226</th>\n",
       "      <td>477</td>\n",
       "      <td>FleurCaouette@jourrapide.com</td>\n",
       "      <td>1</td>\n",
       "      <td>F</td>\n",
       "    </tr>\n",
       "    <tr>\n",
       "      <th>227</th>\n",
       "      <td>108</td>\n",
       "      <td>FrancisMasse@jourrapide.com</td>\n",
       "      <td>1</td>\n",
       "      <td>M</td>\n",
       "    </tr>\n",
       "  </tbody>\n",
       "</table>\n",
       "<p>228 rows × 4 columns</p>\n",
       "</div>"
      ],
      "text/plain": [
       "     ide                             mail  nom genre\n",
       "0    937        LaurentDagenais@rhyta.com    1     M\n",
       "1    390            GuyMarois@fleckens.hu    1     M\n",
       "2     25        BeaufortLesage@einrot.com    1     M\n",
       "3    294        RussellDurand@armyspy.com    1     M\n",
       "4    797             AlexisRiel@rhyta.com    1     M\n",
       "..   ...                              ...  ...   ...\n",
       "223  208  ClaudeDandonneau@jourrapide.com    1     F\n",
       "224  811    ApollineMichaud@superrito.com    1     F\n",
       "225  972       PascalineBeaudry@rhyta.com    1     F\n",
       "226  477     FleurCaouette@jourrapide.com    1     F\n",
       "227  108      FrancisMasse@jourrapide.com    1     M\n",
       "\n",
       "[228 rows x 4 columns]"
      ]
     },
     "execution_count": 66,
     "metadata": {},
     "output_type": "execute_result"
    }
   ],
   "source": [
    "clients.rename(columns={'identifiant': 'ide', 'email': 'mail'})"
   ]
  },
  {
   "cell_type": "code",
   "execution_count": 67,
   "id": "96bf7f4c",
   "metadata": {},
   "outputs": [
    {
     "data": {
      "text/plain": [
       "0      937.0\n",
       "1      390.0\n",
       "2       25.0\n",
       "3      294.0\n",
       "4      797.0\n",
       "       ...  \n",
       "223    208.0\n",
       "224    811.0\n",
       "225    972.0\n",
       "226    477.0\n",
       "227    108.0\n",
       "Name: identifiant, Length: 228, dtype: float64"
      ]
     },
     "execution_count": 67,
     "metadata": {},
     "output_type": "execute_result"
    }
   ],
   "source": [
    "clients['identifiant'].astype(float)"
   ]
  },
  {
   "cell_type": "code",
   "execution_count": 68,
   "id": "1d6d3641",
   "metadata": {},
   "outputs": [
    {
     "data": {
      "text/html": [
       "<div>\n",
       "<style scoped>\n",
       "    .dataframe tbody tr th:only-of-type {\n",
       "        vertical-align: middle;\n",
       "    }\n",
       "\n",
       "    .dataframe tbody tr th {\n",
       "        vertical-align: top;\n",
       "    }\n",
       "\n",
       "    .dataframe thead th {\n",
       "        text-align: right;\n",
       "    }\n",
       "</style>\n",
       "<table border=\"1\" class=\"dataframe\">\n",
       "  <thead>\n",
       "    <tr style=\"text-align: right;\">\n",
       "      <th></th>\n",
       "      <th>identifiant</th>\n",
       "      <th>email</th>\n",
       "      <th>nom</th>\n",
       "      <th>genre</th>\n",
       "    </tr>\n",
       "  </thead>\n",
       "  <tbody>\n",
       "    <tr>\n",
       "      <th>144</th>\n",
       "      <td>10</td>\n",
       "      <td>PorterSimard@armyspy.com</td>\n",
       "      <td>1</td>\n",
       "      <td>M</td>\n",
       "    </tr>\n",
       "    <tr>\n",
       "      <th>116</th>\n",
       "      <td>14</td>\n",
       "      <td>BeldaLauzier@armyspy.com</td>\n",
       "      <td>1</td>\n",
       "      <td>F</td>\n",
       "    </tr>\n",
       "    <tr>\n",
       "      <th>129</th>\n",
       "      <td>17</td>\n",
       "      <td>ClaudeGalarneau@armyspy.com</td>\n",
       "      <td>1</td>\n",
       "      <td>M</td>\n",
       "    </tr>\n",
       "    <tr>\n",
       "      <th>103</th>\n",
       "      <td>18</td>\n",
       "      <td>MatthieuPouchard@teleworm.us</td>\n",
       "      <td>1</td>\n",
       "      <td>M</td>\n",
       "    </tr>\n",
       "    <tr>\n",
       "      <th>133</th>\n",
       "      <td>22</td>\n",
       "      <td>AmaurySirois@superrito.com</td>\n",
       "      <td>1</td>\n",
       "      <td>M</td>\n",
       "    </tr>\n",
       "    <tr>\n",
       "      <th>...</th>\n",
       "      <td>...</td>\n",
       "      <td>...</td>\n",
       "      <td>...</td>\n",
       "      <td>...</td>\n",
       "    </tr>\n",
       "    <tr>\n",
       "      <th>148</th>\n",
       "      <td>966</td>\n",
       "      <td>OlivierAube@armyspy.com</td>\n",
       "      <td>1</td>\n",
       "      <td>M</td>\n",
       "    </tr>\n",
       "    <tr>\n",
       "      <th>225</th>\n",
       "      <td>972</td>\n",
       "      <td>PascalineBeaudry@rhyta.com</td>\n",
       "      <td>1</td>\n",
       "      <td>F</td>\n",
       "    </tr>\n",
       "    <tr>\n",
       "      <th>217</th>\n",
       "      <td>974</td>\n",
       "      <td>GanoHetu@fleckens.hu</td>\n",
       "      <td>1</td>\n",
       "      <td>M</td>\n",
       "    </tr>\n",
       "    <tr>\n",
       "      <th>27</th>\n",
       "      <td>984</td>\n",
       "      <td>AnnetteJolicoeur@armyspy.com</td>\n",
       "      <td>1</td>\n",
       "      <td>F</td>\n",
       "    </tr>\n",
       "    <tr>\n",
       "      <th>39</th>\n",
       "      <td>984</td>\n",
       "      <td>DaisiBoileau@jourrapide.com</td>\n",
       "      <td>1</td>\n",
       "      <td>F</td>\n",
       "    </tr>\n",
       "  </tbody>\n",
       "</table>\n",
       "<p>228 rows × 4 columns</p>\n",
       "</div>"
      ],
      "text/plain": [
       "     identifiant                         email  nom genre\n",
       "144           10      PorterSimard@armyspy.com    1     M\n",
       "116           14      BeldaLauzier@armyspy.com    1     F\n",
       "129           17   ClaudeGalarneau@armyspy.com    1     M\n",
       "103           18  MatthieuPouchard@teleworm.us    1     M\n",
       "133           22    AmaurySirois@superrito.com    1     M\n",
       "..           ...                           ...  ...   ...\n",
       "148          966       OlivierAube@armyspy.com    1     M\n",
       "225          972    PascalineBeaudry@rhyta.com    1     F\n",
       "217          974          GanoHetu@fleckens.hu    1     M\n",
       "27           984  AnnetteJolicoeur@armyspy.com    1     F\n",
       "39           984   DaisiBoileau@jourrapide.com    1     F\n",
       "\n",
       "[228 rows x 4 columns]"
      ]
     },
     "execution_count": 68,
     "metadata": {},
     "output_type": "execute_result"
    }
   ],
   "source": [
    "# trier selon l’identifiant, par ordre croissant :\n",
    "clients.sort_values('identifiant')"
   ]
  },
  {
   "cell_type": "code",
   "execution_count": 69,
   "id": "2954f255",
   "metadata": {},
   "outputs": [
    {
     "data": {
      "text/html": [
       "<div>\n",
       "<style scoped>\n",
       "    .dataframe tbody tr th:only-of-type {\n",
       "        vertical-align: middle;\n",
       "    }\n",
       "\n",
       "    .dataframe tbody tr th {\n",
       "        vertical-align: top;\n",
       "    }\n",
       "\n",
       "    .dataframe thead th {\n",
       "        text-align: right;\n",
       "    }\n",
       "</style>\n",
       "<table border=\"1\" class=\"dataframe\">\n",
       "  <thead>\n",
       "    <tr style=\"text-align: right;\">\n",
       "      <th></th>\n",
       "      <th>identifiant</th>\n",
       "      <th>email</th>\n",
       "      <th>nom</th>\n",
       "      <th>genre</th>\n",
       "    </tr>\n",
       "  </thead>\n",
       "  <tbody>\n",
       "    <tr>\n",
       "      <th>39</th>\n",
       "      <td>984</td>\n",
       "      <td>DaisiBoileau@jourrapide.com</td>\n",
       "      <td>1</td>\n",
       "      <td>F</td>\n",
       "    </tr>\n",
       "    <tr>\n",
       "      <th>27</th>\n",
       "      <td>984</td>\n",
       "      <td>AnnetteJolicoeur@armyspy.com</td>\n",
       "      <td>1</td>\n",
       "      <td>F</td>\n",
       "    </tr>\n",
       "    <tr>\n",
       "      <th>217</th>\n",
       "      <td>974</td>\n",
       "      <td>GanoHetu@fleckens.hu</td>\n",
       "      <td>1</td>\n",
       "      <td>M</td>\n",
       "    </tr>\n",
       "    <tr>\n",
       "      <th>225</th>\n",
       "      <td>972</td>\n",
       "      <td>PascalineBeaudry@rhyta.com</td>\n",
       "      <td>1</td>\n",
       "      <td>F</td>\n",
       "    </tr>\n",
       "    <tr>\n",
       "      <th>148</th>\n",
       "      <td>966</td>\n",
       "      <td>OlivierAube@armyspy.com</td>\n",
       "      <td>1</td>\n",
       "      <td>M</td>\n",
       "    </tr>\n",
       "    <tr>\n",
       "      <th>...</th>\n",
       "      <td>...</td>\n",
       "      <td>...</td>\n",
       "      <td>...</td>\n",
       "      <td>...</td>\n",
       "    </tr>\n",
       "    <tr>\n",
       "      <th>133</th>\n",
       "      <td>22</td>\n",
       "      <td>AmaurySirois@superrito.com</td>\n",
       "      <td>1</td>\n",
       "      <td>M</td>\n",
       "    </tr>\n",
       "    <tr>\n",
       "      <th>103</th>\n",
       "      <td>18</td>\n",
       "      <td>MatthieuPouchard@teleworm.us</td>\n",
       "      <td>1</td>\n",
       "      <td>M</td>\n",
       "    </tr>\n",
       "    <tr>\n",
       "      <th>129</th>\n",
       "      <td>17</td>\n",
       "      <td>ClaudeGalarneau@armyspy.com</td>\n",
       "      <td>1</td>\n",
       "      <td>M</td>\n",
       "    </tr>\n",
       "    <tr>\n",
       "      <th>116</th>\n",
       "      <td>14</td>\n",
       "      <td>BeldaLauzier@armyspy.com</td>\n",
       "      <td>1</td>\n",
       "      <td>F</td>\n",
       "    </tr>\n",
       "    <tr>\n",
       "      <th>144</th>\n",
       "      <td>10</td>\n",
       "      <td>PorterSimard@armyspy.com</td>\n",
       "      <td>1</td>\n",
       "      <td>M</td>\n",
       "    </tr>\n",
       "  </tbody>\n",
       "</table>\n",
       "<p>228 rows × 4 columns</p>\n",
       "</div>"
      ],
      "text/plain": [
       "     identifiant                         email  nom genre\n",
       "39           984   DaisiBoileau@jourrapide.com    1     F\n",
       "27           984  AnnetteJolicoeur@armyspy.com    1     F\n",
       "217          974          GanoHetu@fleckens.hu    1     M\n",
       "225          972    PascalineBeaudry@rhyta.com    1     F\n",
       "148          966       OlivierAube@armyspy.com    1     M\n",
       "..           ...                           ...  ...   ...\n",
       "133           22    AmaurySirois@superrito.com    1     M\n",
       "103           18  MatthieuPouchard@teleworm.us    1     M\n",
       "129           17   ClaudeGalarneau@armyspy.com    1     M\n",
       "116           14      BeldaLauzier@armyspy.com    1     F\n",
       "144           10      PorterSimard@armyspy.com    1     M\n",
       "\n",
       "[228 rows x 4 columns]"
      ]
     },
     "execution_count": 69,
     "metadata": {},
     "output_type": "execute_result"
    }
   ],
   "source": [
    "#trier selon l’identifiant par ordre décroissant :\n",
    "clients.sort_values('identifiant', ascending = False)"
   ]
  },
  {
   "cell_type": "code",
   "execution_count": 70,
   "id": "50fc0197",
   "metadata": {},
   "outputs": [
    {
     "data": {
      "text/html": [
       "<div>\n",
       "<style scoped>\n",
       "    .dataframe tbody tr th:only-of-type {\n",
       "        vertical-align: middle;\n",
       "    }\n",
       "\n",
       "    .dataframe tbody tr th {\n",
       "        vertical-align: top;\n",
       "    }\n",
       "\n",
       "    .dataframe thead th {\n",
       "        text-align: right;\n",
       "    }\n",
       "</style>\n",
       "<table border=\"1\" class=\"dataframe\">\n",
       "  <thead>\n",
       "    <tr style=\"text-align: right;\">\n",
       "      <th></th>\n",
       "      <th>identifiant</th>\n",
       "      <th>email</th>\n",
       "      <th>nom</th>\n",
       "      <th>genre</th>\n",
       "    </tr>\n",
       "  </thead>\n",
       "  <tbody>\n",
       "    <tr>\n",
       "      <th>8</th>\n",
       "      <td>184</td>\n",
       "      <td>AiglentinaLambert@fleckens.hu</td>\n",
       "      <td>1</td>\n",
       "      <td>F</td>\n",
       "    </tr>\n",
       "    <tr>\n",
       "      <th>13</th>\n",
       "      <td>64</td>\n",
       "      <td>AcelineHughes@jourrapide.com</td>\n",
       "      <td>1</td>\n",
       "      <td>F</td>\n",
       "    </tr>\n",
       "    <tr>\n",
       "      <th>15</th>\n",
       "      <td>403</td>\n",
       "      <td>AgateGrandbois@gustr.com</td>\n",
       "      <td>1</td>\n",
       "      <td>F</td>\n",
       "    </tr>\n",
       "    <tr>\n",
       "      <th>17</th>\n",
       "      <td>523</td>\n",
       "      <td>PrunellaJosseaume@armyspy.com</td>\n",
       "      <td>1</td>\n",
       "      <td>F</td>\n",
       "    </tr>\n",
       "    <tr>\n",
       "      <th>18</th>\n",
       "      <td>305</td>\n",
       "      <td>YseultCharest@armyspy.com</td>\n",
       "      <td>1</td>\n",
       "      <td>F</td>\n",
       "    </tr>\n",
       "    <tr>\n",
       "      <th>...</th>\n",
       "      <td>...</td>\n",
       "      <td>...</td>\n",
       "      <td>...</td>\n",
       "      <td>...</td>\n",
       "    </tr>\n",
       "    <tr>\n",
       "      <th>217</th>\n",
       "      <td>974</td>\n",
       "      <td>GanoHetu@fleckens.hu</td>\n",
       "      <td>1</td>\n",
       "      <td>M</td>\n",
       "    </tr>\n",
       "    <tr>\n",
       "      <th>219</th>\n",
       "      <td>343</td>\n",
       "      <td>RoslynChalifour@cuvox.de</td>\n",
       "      <td>1</td>\n",
       "      <td>M</td>\n",
       "    </tr>\n",
       "    <tr>\n",
       "      <th>220</th>\n",
       "      <td>515</td>\n",
       "      <td>KarelBazinet@einrot.com</td>\n",
       "      <td>1</td>\n",
       "      <td>M</td>\n",
       "    </tr>\n",
       "    <tr>\n",
       "      <th>222</th>\n",
       "      <td>471</td>\n",
       "      <td>LangleyCaron@armyspy.com</td>\n",
       "      <td>1</td>\n",
       "      <td>M</td>\n",
       "    </tr>\n",
       "    <tr>\n",
       "      <th>227</th>\n",
       "      <td>108</td>\n",
       "      <td>FrancisMasse@jourrapide.com</td>\n",
       "      <td>1</td>\n",
       "      <td>M</td>\n",
       "    </tr>\n",
       "  </tbody>\n",
       "</table>\n",
       "<p>228 rows × 4 columns</p>\n",
       "</div>"
      ],
      "text/plain": [
       "     identifiant                          email  nom genre\n",
       "8            184  AiglentinaLambert@fleckens.hu    1     F\n",
       "13            64   AcelineHughes@jourrapide.com    1     F\n",
       "15           403       AgateGrandbois@gustr.com    1     F\n",
       "17           523  PrunellaJosseaume@armyspy.com    1     F\n",
       "18           305      YseultCharest@armyspy.com    1     F\n",
       "..           ...                            ...  ...   ...\n",
       "217          974           GanoHetu@fleckens.hu    1     M\n",
       "219          343       RoslynChalifour@cuvox.de    1     M\n",
       "220          515        KarelBazinet@einrot.com    1     M\n",
       "222          471       LangleyCaron@armyspy.com    1     M\n",
       "227          108    FrancisMasse@jourrapide.com    1     M\n",
       "\n",
       "[228 rows x 4 columns]"
      ]
     },
     "execution_count": 70,
     "metadata": {},
     "output_type": "execute_result"
    }
   ],
   "source": [
    "# trier selon le genre puis le nom, par ordre croissant :\n",
    "clients.sort_values(['genre', 'nom'])"
   ]
  },
  {
   "cell_type": "code",
   "execution_count": 71,
   "id": "ccc703c1",
   "metadata": {},
   "outputs": [
    {
     "data": {
      "text/html": [
       "<div>\n",
       "<style scoped>\n",
       "    .dataframe tbody tr th:only-of-type {\n",
       "        vertical-align: middle;\n",
       "    }\n",
       "\n",
       "    .dataframe tbody tr th {\n",
       "        vertical-align: top;\n",
       "    }\n",
       "\n",
       "    .dataframe thead th {\n",
       "        text-align: right;\n",
       "    }\n",
       "</style>\n",
       "<table border=\"1\" class=\"dataframe\">\n",
       "  <thead>\n",
       "    <tr style=\"text-align: right;\">\n",
       "      <th></th>\n",
       "      <th>identifiant</th>\n",
       "      <th>email</th>\n",
       "      <th>nom</th>\n",
       "      <th>genre</th>\n",
       "    </tr>\n",
       "  </thead>\n",
       "  <tbody>\n",
       "    <tr>\n",
       "      <th>8</th>\n",
       "      <td>184</td>\n",
       "      <td>AiglentinaLambert@fleckens.hu</td>\n",
       "      <td>1</td>\n",
       "      <td>F</td>\n",
       "    </tr>\n",
       "    <tr>\n",
       "      <th>13</th>\n",
       "      <td>64</td>\n",
       "      <td>AcelineHughes@jourrapide.com</td>\n",
       "      <td>1</td>\n",
       "      <td>F</td>\n",
       "    </tr>\n",
       "    <tr>\n",
       "      <th>15</th>\n",
       "      <td>403</td>\n",
       "      <td>AgateGrandbois@gustr.com</td>\n",
       "      <td>1</td>\n",
       "      <td>F</td>\n",
       "    </tr>\n",
       "    <tr>\n",
       "      <th>17</th>\n",
       "      <td>523</td>\n",
       "      <td>PrunellaJosseaume@armyspy.com</td>\n",
       "      <td>1</td>\n",
       "      <td>F</td>\n",
       "    </tr>\n",
       "    <tr>\n",
       "      <th>18</th>\n",
       "      <td>305</td>\n",
       "      <td>YseultCharest@armyspy.com</td>\n",
       "      <td>1</td>\n",
       "      <td>F</td>\n",
       "    </tr>\n",
       "    <tr>\n",
       "      <th>...</th>\n",
       "      <td>...</td>\n",
       "      <td>...</td>\n",
       "      <td>...</td>\n",
       "      <td>...</td>\n",
       "    </tr>\n",
       "    <tr>\n",
       "      <th>217</th>\n",
       "      <td>974</td>\n",
       "      <td>GanoHetu@fleckens.hu</td>\n",
       "      <td>1</td>\n",
       "      <td>M</td>\n",
       "    </tr>\n",
       "    <tr>\n",
       "      <th>219</th>\n",
       "      <td>343</td>\n",
       "      <td>RoslynChalifour@cuvox.de</td>\n",
       "      <td>1</td>\n",
       "      <td>M</td>\n",
       "    </tr>\n",
       "    <tr>\n",
       "      <th>220</th>\n",
       "      <td>515</td>\n",
       "      <td>KarelBazinet@einrot.com</td>\n",
       "      <td>1</td>\n",
       "      <td>M</td>\n",
       "    </tr>\n",
       "    <tr>\n",
       "      <th>222</th>\n",
       "      <td>471</td>\n",
       "      <td>LangleyCaron@armyspy.com</td>\n",
       "      <td>1</td>\n",
       "      <td>M</td>\n",
       "    </tr>\n",
       "    <tr>\n",
       "      <th>227</th>\n",
       "      <td>108</td>\n",
       "      <td>FrancisMasse@jourrapide.com</td>\n",
       "      <td>1</td>\n",
       "      <td>M</td>\n",
       "    </tr>\n",
       "  </tbody>\n",
       "</table>\n",
       "<p>228 rows × 4 columns</p>\n",
       "</div>"
      ],
      "text/plain": [
       "     identifiant                          email  nom genre\n",
       "8            184  AiglentinaLambert@fleckens.hu    1     F\n",
       "13            64   AcelineHughes@jourrapide.com    1     F\n",
       "15           403       AgateGrandbois@gustr.com    1     F\n",
       "17           523  PrunellaJosseaume@armyspy.com    1     F\n",
       "18           305      YseultCharest@armyspy.com    1     F\n",
       "..           ...                            ...  ...   ...\n",
       "217          974           GanoHetu@fleckens.hu    1     M\n",
       "219          343       RoslynChalifour@cuvox.de    1     M\n",
       "220          515        KarelBazinet@einrot.com    1     M\n",
       "222          471       LangleyCaron@armyspy.com    1     M\n",
       "227          108    FrancisMasse@jourrapide.com    1     M\n",
       "\n",
       "[228 rows x 4 columns]"
      ]
     },
     "execution_count": 71,
     "metadata": {},
     "output_type": "execute_result"
    }
   ],
   "source": [
    "clients.sort_values(['genre', 'nom'], ascending=[True, False])"
   ]
  },
  {
   "cell_type": "code",
   "execution_count": 74,
   "id": "a7866715",
   "metadata": {},
   "outputs": [
    {
     "data": {
      "text/html": [
       "<div>\n",
       "<style scoped>\n",
       "    .dataframe tbody tr th:only-of-type {\n",
       "        vertical-align: middle;\n",
       "    }\n",
       "\n",
       "    .dataframe tbody tr th {\n",
       "        vertical-align: top;\n",
       "    }\n",
       "\n",
       "    .dataframe thead th {\n",
       "        text-align: right;\n",
       "    }\n",
       "</style>\n",
       "<table border=\"1\" class=\"dataframe\">\n",
       "  <thead>\n",
       "    <tr style=\"text-align: right;\">\n",
       "      <th></th>\n",
       "      <th>identifiant</th>\n",
       "      <th>ville</th>\n",
       "      <th>CP</th>\n",
       "      <th>revenu</th>\n",
       "      <th>remboursement</th>\n",
       "      <th>duree</th>\n",
       "      <th>type</th>\n",
       "      <th>taux_interet</th>\n",
       "      <th>taux_endettement</th>\n",
       "      <th>cout_total</th>\n",
       "      <th>benefices</th>\n",
       "    </tr>\n",
       "  </thead>\n",
       "  <tbody>\n",
       "    <tr>\n",
       "      <th>8</th>\n",
       "      <td>7</td>\n",
       "      <td>NICE</td>\n",
       "      <td>6000</td>\n",
       "      <td>5486.0</td>\n",
       "      <td>2956.95</td>\n",
       "      <td>300</td>\n",
       "      <td>immobilier</td>\n",
       "      <td>1.184</td>\n",
       "      <td>53.9</td>\n",
       "      <td>887085.0</td>\n",
       "      <td>437.63</td>\n",
       "    </tr>\n",
       "    <tr>\n",
       "      <th>23</th>\n",
       "      <td>22</td>\n",
       "      <td>NICE</td>\n",
       "      <td>6300</td>\n",
       "      <td>5838.0</td>\n",
       "      <td>3018.25</td>\n",
       "      <td>240</td>\n",
       "      <td>immobilier</td>\n",
       "      <td>1.229</td>\n",
       "      <td>51.7</td>\n",
       "      <td>724380.0</td>\n",
       "      <td>370.94</td>\n",
       "    </tr>\n",
       "    <tr>\n",
       "      <th>186</th>\n",
       "      <td>173</td>\n",
       "      <td>PARIS</td>\n",
       "      <td>75006</td>\n",
       "      <td>6784.0</td>\n",
       "      <td>3744.77</td>\n",
       "      <td>180</td>\n",
       "      <td>immobilier</td>\n",
       "      <td>1.248</td>\n",
       "      <td>55.2</td>\n",
       "      <td>674058.6</td>\n",
       "      <td>350.51</td>\n",
       "    </tr>\n",
       "    <tr>\n",
       "      <th>242</th>\n",
       "      <td>226</td>\n",
       "      <td>PARIS</td>\n",
       "      <td>75002</td>\n",
       "      <td>5098.0</td>\n",
       "      <td>2910.96</td>\n",
       "      <td>240</td>\n",
       "      <td>immobilier</td>\n",
       "      <td>1.140</td>\n",
       "      <td>57.1</td>\n",
       "      <td>698630.4</td>\n",
       "      <td>331.85</td>\n",
       "    </tr>\n",
       "    <tr>\n",
       "      <th>181</th>\n",
       "      <td>168</td>\n",
       "      <td>PARIS</td>\n",
       "      <td>75003</td>\n",
       "      <td>6366.0</td>\n",
       "      <td>2807.41</td>\n",
       "      <td>240</td>\n",
       "      <td>immobilier</td>\n",
       "      <td>1.176</td>\n",
       "      <td>44.1</td>\n",
       "      <td>673778.4</td>\n",
       "      <td>330.15</td>\n",
       "    </tr>\n",
       "  </tbody>\n",
       "</table>\n",
       "</div>"
      ],
      "text/plain": [
       "     identifiant  ville     CP  revenu  remboursement  duree        type  \\\n",
       "8              7   NICE   6000  5486.0        2956.95    300  immobilier   \n",
       "23            22   NICE   6300  5838.0        3018.25    240  immobilier   \n",
       "186          173  PARIS  75006  6784.0        3744.77    180  immobilier   \n",
       "242          226  PARIS  75002  5098.0        2910.96    240  immobilier   \n",
       "181          168  PARIS  75003  6366.0        2807.41    240  immobilier   \n",
       "\n",
       "     taux_interet  taux_endettement  cout_total  benefices  \n",
       "8           1.184              53.9    887085.0     437.63  \n",
       "23          1.229              51.7    724380.0     370.94  \n",
       "186         1.248              55.2    674058.6     350.51  \n",
       "242         1.140              57.1    698630.4     331.85  \n",
       "181         1.176              44.1    673778.4     330.15  "
      ]
     },
     "execution_count": 74,
     "metadata": {},
     "output_type": "execute_result"
    }
   ],
   "source": [
    "############################################################################## Exercice d'entrainement\n",
    "\n",
    "#### Nous allons travailler à présent sur notre fichier de prêts immobiliers.\n",
    "\n",
    "#### Pour expliquer rapidement ce fichier, chaque ligne correspond à un prêt qui a été accordé à un de nos clients. Chaque client est identifié par… son identifiant ! Nous avons les informations suivantes :\n",
    "\n",
    "#### la ville et le code postale de l’agence où le client a contracté le prêt\n",
    "#### le revenu mensuel du client\n",
    "#### les mensualités remboursées par le client\n",
    "#### la durée du prêt contracté, en nombre de mois\n",
    "#### le type de prêt\n",
    "#### et enfin le taux d’intérêt\n",
    "#### Votre rôle cette fois ci va être de modifier ce jeu de données pour calculer différentes variables nécessaires pour identifier les clients qui sont à la limite de leur capacité de remboursement et déterminer les bénéfices réalisées par la banque.\n",
    "\n",
    "\n",
    "import numpy as np\n",
    "import pandas as pd\n",
    "#Commençons par importer notre fichier csv. Celui ci sera disponible via un lien, pour faciliter le bon fonctionnement avec Google Colab, mais promis, c'est le même fichier que celui que vous pouvez télécharger sur le lien suivant (click droit, enregistrer sous)\n",
    "\n",
    "\n",
    "prets = pd.read_csv('https://raw.githubusercontent.com/benjaminmrl/data-4452741/main/prets.csv')\n",
    "prets.head()\n",
    "\n",
    "# Dans un premier temps, créez une nouvelle variable calculant le taux d'endettement de chaque individu. Ce taux correspond au pourcentage du revenu remboursé chaque mois par un individu. Vous arrondirez le résultat à 2 chiffres après la virgule :\n",
    "\n",
    "\n",
    "prets['taux_endettement'] = round(prets['remboursement'] * 100 / prets['revenu'], 2)\n",
    "#Pour éviter toute confusion, renommez la variable taux en taux_interet :\n",
    "\n",
    "\n",
    "prets.rename(columns={'taux':'taux_interet'}, inplace=True)\n",
    "# Le dataframe devrait ressembler à cela :\n",
    "\n",
    "\n",
    "prets.head()\n",
    "\n",
    "# Nous allons à présent créer deux dernières variables :\n",
    "\n",
    "# cout_total correspondant au cout total du pret à partir du remboursement et de la duree\n",
    "# benefices correspondant aux bénéfices mensuels réalisés par la banque sur le prêt\n",
    "# Nous simplifierons ici le calcul des bénéfices par :\n",
    "\n",
    "# bénéfices = C∗T24\n",
    "\n",
    "# avec :\n",
    "\n",
    "#C = cout total du prêt\n",
    "#T = taux d'intérêt\n",
    "\n",
    "prets['cout_total'] = prets['remboursement'] * prets['duree']\n",
    "prets['benefices'] = round((prets['cout_total'] * prets['taux_interet']/100)/(24), 2)\n",
    "#Vous devriez obtenir les 5 premières lignes suivantes :\n",
    "\n",
    "\n",
    "prets.head()\n",
    "\n",
    "#A présent, nous souhaitons connaitre les 5 prêts sur lesquels nous produisons le plus de bénéfices. Mettez en place une solution pour les afficher :\n",
    "\n",
    "prets.sort_values('benefices', ascending=False).head()"
   ]
  },
  {
   "cell_type": "markdown",
   "id": "44827f51",
   "metadata": {},
   "source": [
    "# En résumé\n",
    "#### On peut sélectionner une ou plusieurs colonnes d’un data frame via la syntaxe  mon_dataframe[col], où col est soit le nom de la colonne à sélectionner (lorsqu’il n'y en a qu’une), soit une liste de noms de colonnes (lorsqu’il y en a plusieurs).\n",
    "\n",
    "#### Une colonne d’un data frame est une Series Pandas.\n",
    "\n",
    "#### De nombreuses manipulations sont possibles avec/via des Series ; on peut notamment :\n",
    "\n",
    "#### modifier, ajouter ou supprimer une colonne ;\n",
    "\n",
    "#### modifier le nom d’une colonne via la méthode.rename() ;\n",
    "\n",
    "#### changer le type d’une colonne via la méthode.astype() ;\n",
    "\n",
    "#### trier un data frame via la méthode.sort_values() ."
   ]
  },
  {
   "cell_type": "markdown",
   "id": "ff64e76a",
   "metadata": {},
   "source": [
    "# Filtrez les données du data frame"
   ]
  },
  {
   "cell_type": "code",
   "execution_count": 75,
   "id": "de53ec0e",
   "metadata": {},
   "outputs": [
    {
     "data": {
      "text/plain": [
       "0    1\n",
       "1    1\n",
       "2    1\n",
       "3    1\n",
       "4    1\n",
       "5    1\n",
       "6    1\n",
       "7    1\n",
       "8    1\n",
       "9    1\n",
       "Name: nom, dtype: int64"
      ]
     },
     "execution_count": 75,
     "metadata": {},
     "output_type": "execute_result"
    }
   ],
   "source": [
    "# sélectionner le nom des 10 premiers clients :\n",
    "clients.iloc[:10, 2]"
   ]
  },
  {
   "cell_type": "code",
   "execution_count": 76,
   "id": "9e6f206b",
   "metadata": {},
   "outputs": [
    {
     "data": {
      "text/html": [
       "<div>\n",
       "<style scoped>\n",
       "    .dataframe tbody tr th:only-of-type {\n",
       "        vertical-align: middle;\n",
       "    }\n",
       "\n",
       "    .dataframe tbody tr th {\n",
       "        vertical-align: top;\n",
       "    }\n",
       "\n",
       "    .dataframe thead th {\n",
       "        text-align: right;\n",
       "    }\n",
       "</style>\n",
       "<table border=\"1\" class=\"dataframe\">\n",
       "  <thead>\n",
       "    <tr style=\"text-align: right;\">\n",
       "      <th></th>\n",
       "      <th>email</th>\n",
       "      <th>genre</th>\n",
       "    </tr>\n",
       "  </thead>\n",
       "  <tbody>\n",
       "    <tr>\n",
       "      <th>218</th>\n",
       "      <td>MinetteRoy@fleckens.hu</td>\n",
       "      <td>F</td>\n",
       "    </tr>\n",
       "    <tr>\n",
       "      <th>219</th>\n",
       "      <td>RoslynChalifour@cuvox.de</td>\n",
       "      <td>M</td>\n",
       "    </tr>\n",
       "    <tr>\n",
       "      <th>220</th>\n",
       "      <td>KarelBazinet@einrot.com</td>\n",
       "      <td>M</td>\n",
       "    </tr>\n",
       "    <tr>\n",
       "      <th>221</th>\n",
       "      <td>JosetteBordeleau@einrot.com</td>\n",
       "      <td>F</td>\n",
       "    </tr>\n",
       "    <tr>\n",
       "      <th>222</th>\n",
       "      <td>LangleyCaron@armyspy.com</td>\n",
       "      <td>M</td>\n",
       "    </tr>\n",
       "    <tr>\n",
       "      <th>223</th>\n",
       "      <td>ClaudeDandonneau@jourrapide.com</td>\n",
       "      <td>F</td>\n",
       "    </tr>\n",
       "    <tr>\n",
       "      <th>224</th>\n",
       "      <td>ApollineMichaud@superrito.com</td>\n",
       "      <td>F</td>\n",
       "    </tr>\n",
       "    <tr>\n",
       "      <th>225</th>\n",
       "      <td>PascalineBeaudry@rhyta.com</td>\n",
       "      <td>F</td>\n",
       "    </tr>\n",
       "    <tr>\n",
       "      <th>226</th>\n",
       "      <td>FleurCaouette@jourrapide.com</td>\n",
       "      <td>F</td>\n",
       "    </tr>\n",
       "    <tr>\n",
       "      <th>227</th>\n",
       "      <td>FrancisMasse@jourrapide.com</td>\n",
       "      <td>M</td>\n",
       "    </tr>\n",
       "  </tbody>\n",
       "</table>\n",
       "</div>"
      ],
      "text/plain": [
       "                               email genre\n",
       "218           MinetteRoy@fleckens.hu     F\n",
       "219         RoslynChalifour@cuvox.de     M\n",
       "220          KarelBazinet@einrot.com     M\n",
       "221      JosetteBordeleau@einrot.com     F\n",
       "222         LangleyCaron@armyspy.com     M\n",
       "223  ClaudeDandonneau@jourrapide.com     F\n",
       "224    ApollineMichaud@superrito.com     F\n",
       "225       PascalineBeaudry@rhyta.com     F\n",
       "226     FleurCaouette@jourrapide.com     F\n",
       "227      FrancisMasse@jourrapide.com     M"
      ]
     },
     "execution_count": 76,
     "metadata": {},
     "output_type": "execute_result"
    }
   ],
   "source": [
    "# sélectionner le genre des 10 premiers clients :\n",
    "clients.iloc[:10, 3]\n",
    "# sélectionner toutes les colonnes des 10 premiers clients :\n",
    "clients.iloc[:10, :]\n",
    "# sélectionner l’email et le nom des 10 clients suivants :\n",
    "clients.iloc[10:20, 1:3]\n",
    "# sélectionner l’e-mail et le genre des 10 derniers clients :\n",
    "clients.iloc[-10:, [1, 3]]"
   ]
  },
  {
   "cell_type": "code",
   "execution_count": 77,
   "id": "3603dffe",
   "metadata": {},
   "outputs": [],
   "source": [
    "# mon_dataframe.loc[ condition sur les lignes, colonne(s) ]  "
   ]
  },
  {
   "cell_type": "code",
   "execution_count": 78,
   "id": "8f37ca13",
   "metadata": {},
   "outputs": [
    {
     "data": {
      "text/html": [
       "<div>\n",
       "<style scoped>\n",
       "    .dataframe tbody tr th:only-of-type {\n",
       "        vertical-align: middle;\n",
       "    }\n",
       "\n",
       "    .dataframe tbody tr th {\n",
       "        vertical-align: top;\n",
       "    }\n",
       "\n",
       "    .dataframe thead th {\n",
       "        text-align: right;\n",
       "    }\n",
       "</style>\n",
       "<table border=\"1\" class=\"dataframe\">\n",
       "  <thead>\n",
       "    <tr style=\"text-align: right;\">\n",
       "      <th></th>\n",
       "      <th>identifiant</th>\n",
       "      <th>email</th>\n",
       "      <th>nom</th>\n",
       "      <th>genre</th>\n",
       "    </tr>\n",
       "  </thead>\n",
       "  <tbody>\n",
       "    <tr>\n",
       "      <th>0</th>\n",
       "      <td>937</td>\n",
       "      <td>LaurentDagenais@rhyta.com</td>\n",
       "      <td>1</td>\n",
       "      <td>M</td>\n",
       "    </tr>\n",
       "    <tr>\n",
       "      <th>1</th>\n",
       "      <td>390</td>\n",
       "      <td>GuyMarois@fleckens.hu</td>\n",
       "      <td>1</td>\n",
       "      <td>M</td>\n",
       "    </tr>\n",
       "    <tr>\n",
       "      <th>2</th>\n",
       "      <td>25</td>\n",
       "      <td>BeaufortLesage@einrot.com</td>\n",
       "      <td>1</td>\n",
       "      <td>M</td>\n",
       "    </tr>\n",
       "    <tr>\n",
       "      <th>3</th>\n",
       "      <td>294</td>\n",
       "      <td>RussellDurand@armyspy.com</td>\n",
       "      <td>1</td>\n",
       "      <td>M</td>\n",
       "    </tr>\n",
       "    <tr>\n",
       "      <th>4</th>\n",
       "      <td>797</td>\n",
       "      <td>AlexisRiel@rhyta.com</td>\n",
       "      <td>1</td>\n",
       "      <td>M</td>\n",
       "    </tr>\n",
       "    <tr>\n",
       "      <th>5</th>\n",
       "      <td>399</td>\n",
       "      <td>LeonLapresse@cuvox.de</td>\n",
       "      <td>1</td>\n",
       "      <td>M</td>\n",
       "    </tr>\n",
       "    <tr>\n",
       "      <th>6</th>\n",
       "      <td>635</td>\n",
       "      <td>OrvilleRouthier@gustr.com</td>\n",
       "      <td>1</td>\n",
       "      <td>M</td>\n",
       "    </tr>\n",
       "    <tr>\n",
       "      <th>7</th>\n",
       "      <td>193</td>\n",
       "      <td>AgramantPepin@dayrep.com</td>\n",
       "      <td>1</td>\n",
       "      <td>M</td>\n",
       "    </tr>\n",
       "    <tr>\n",
       "      <th>8</th>\n",
       "      <td>184</td>\n",
       "      <td>AiglentinaLambert@fleckens.hu</td>\n",
       "      <td>1</td>\n",
       "      <td>F</td>\n",
       "    </tr>\n",
       "    <tr>\n",
       "      <th>9</th>\n",
       "      <td>207</td>\n",
       "      <td>TheodoreClavet@teleworm.us</td>\n",
       "      <td>1</td>\n",
       "      <td>M</td>\n",
       "    </tr>\n",
       "    <tr>\n",
       "      <th>10</th>\n",
       "      <td>904</td>\n",
       "      <td>ByronLefebvre@jourrapide.com</td>\n",
       "      <td>1</td>\n",
       "      <td>M</td>\n",
       "    </tr>\n",
       "  </tbody>\n",
       "</table>\n",
       "</div>"
      ],
      "text/plain": [
       "    identifiant                          email  nom genre\n",
       "0           937      LaurentDagenais@rhyta.com    1     M\n",
       "1           390          GuyMarois@fleckens.hu    1     M\n",
       "2            25      BeaufortLesage@einrot.com    1     M\n",
       "3           294      RussellDurand@armyspy.com    1     M\n",
       "4           797           AlexisRiel@rhyta.com    1     M\n",
       "5           399          LeonLapresse@cuvox.de    1     M\n",
       "6           635      OrvilleRouthier@gustr.com    1     M\n",
       "7           193       AgramantPepin@dayrep.com    1     M\n",
       "8           184  AiglentinaLambert@fleckens.hu    1     F\n",
       "9           207     TheodoreClavet@teleworm.us    1     M\n",
       "10          904   ByronLefebvre@jourrapide.com    1     M"
      ]
     },
     "metadata": {},
     "output_type": "display_data"
    },
    {
     "data": {
      "text/html": [
       "<div>\n",
       "<style scoped>\n",
       "    .dataframe tbody tr th:only-of-type {\n",
       "        vertical-align: middle;\n",
       "    }\n",
       "\n",
       "    .dataframe tbody tr th {\n",
       "        vertical-align: top;\n",
       "    }\n",
       "\n",
       "    .dataframe thead th {\n",
       "        text-align: right;\n",
       "    }\n",
       "</style>\n",
       "<table border=\"1\" class=\"dataframe\">\n",
       "  <thead>\n",
       "    <tr style=\"text-align: right;\">\n",
       "      <th></th>\n",
       "      <th>identifiant</th>\n",
       "      <th>email</th>\n",
       "      <th>nom</th>\n",
       "      <th>genre</th>\n",
       "    </tr>\n",
       "  </thead>\n",
       "  <tbody>\n",
       "    <tr>\n",
       "      <th>0</th>\n",
       "      <td>937</td>\n",
       "      <td>LaurentDagenais@rhyta.com</td>\n",
       "      <td>1</td>\n",
       "      <td>M</td>\n",
       "    </tr>\n",
       "    <tr>\n",
       "      <th>1</th>\n",
       "      <td>390</td>\n",
       "      <td>GuyMarois@fleckens.hu</td>\n",
       "      <td>1</td>\n",
       "      <td>M</td>\n",
       "    </tr>\n",
       "    <tr>\n",
       "      <th>2</th>\n",
       "      <td>25</td>\n",
       "      <td>BeaufortLesage@einrot.com</td>\n",
       "      <td>1</td>\n",
       "      <td>M</td>\n",
       "    </tr>\n",
       "    <tr>\n",
       "      <th>3</th>\n",
       "      <td>294</td>\n",
       "      <td>RussellDurand@armyspy.com</td>\n",
       "      <td>1</td>\n",
       "      <td>M</td>\n",
       "    </tr>\n",
       "    <tr>\n",
       "      <th>4</th>\n",
       "      <td>797</td>\n",
       "      <td>AlexisRiel@rhyta.com</td>\n",
       "      <td>1</td>\n",
       "      <td>M</td>\n",
       "    </tr>\n",
       "    <tr>\n",
       "      <th>5</th>\n",
       "      <td>399</td>\n",
       "      <td>LeonLapresse@cuvox.de</td>\n",
       "      <td>1</td>\n",
       "      <td>M</td>\n",
       "    </tr>\n",
       "    <tr>\n",
       "      <th>6</th>\n",
       "      <td>635</td>\n",
       "      <td>OrvilleRouthier@gustr.com</td>\n",
       "      <td>1</td>\n",
       "      <td>M</td>\n",
       "    </tr>\n",
       "    <tr>\n",
       "      <th>7</th>\n",
       "      <td>193</td>\n",
       "      <td>AgramantPepin@dayrep.com</td>\n",
       "      <td>1</td>\n",
       "      <td>M</td>\n",
       "    </tr>\n",
       "    <tr>\n",
       "      <th>8</th>\n",
       "      <td>184</td>\n",
       "      <td>AiglentinaLambert@fleckens.hu</td>\n",
       "      <td>1</td>\n",
       "      <td>F</td>\n",
       "    </tr>\n",
       "    <tr>\n",
       "      <th>9</th>\n",
       "      <td>207</td>\n",
       "      <td>TheodoreClavet@teleworm.us</td>\n",
       "      <td>1</td>\n",
       "      <td>M</td>\n",
       "    </tr>\n",
       "  </tbody>\n",
       "</table>\n",
       "</div>"
      ],
      "text/plain": [
       "   identifiant                          email  nom genre\n",
       "0          937      LaurentDagenais@rhyta.com    1     M\n",
       "1          390          GuyMarois@fleckens.hu    1     M\n",
       "2           25      BeaufortLesage@einrot.com    1     M\n",
       "3          294      RussellDurand@armyspy.com    1     M\n",
       "4          797           AlexisRiel@rhyta.com    1     M\n",
       "5          399          LeonLapresse@cuvox.de    1     M\n",
       "6          635      OrvilleRouthier@gustr.com    1     M\n",
       "7          193       AgramantPepin@dayrep.com    1     M\n",
       "8          184  AiglentinaLambert@fleckens.hu    1     F\n",
       "9          207     TheodoreClavet@teleworm.us    1     M"
      ]
     },
     "metadata": {},
     "output_type": "display_data"
    }
   ],
   "source": [
    "display(clients.loc[0:10, :])\n",
    "display(clients.iloc[0:10, :])"
   ]
  },
  {
   "cell_type": "code",
   "execution_count": 79,
   "id": "9495b98d",
   "metadata": {},
   "outputs": [
    {
     "data": {
      "text/html": [
       "<div>\n",
       "<style scoped>\n",
       "    .dataframe tbody tr th:only-of-type {\n",
       "        vertical-align: middle;\n",
       "    }\n",
       "\n",
       "    .dataframe tbody tr th {\n",
       "        vertical-align: top;\n",
       "    }\n",
       "\n",
       "    .dataframe thead th {\n",
       "        text-align: right;\n",
       "    }\n",
       "</style>\n",
       "<table border=\"1\" class=\"dataframe\">\n",
       "  <thead>\n",
       "    <tr style=\"text-align: right;\">\n",
       "      <th></th>\n",
       "      <th>identifiant</th>\n",
       "      <th>email</th>\n",
       "      <th>nom</th>\n",
       "      <th>genre</th>\n",
       "    </tr>\n",
       "  </thead>\n",
       "  <tbody>\n",
       "    <tr>\n",
       "      <th>0</th>\n",
       "      <td>937</td>\n",
       "      <td>LaurentDagenais@rhyta.com</td>\n",
       "      <td>1</td>\n",
       "      <td>M</td>\n",
       "    </tr>\n",
       "    <tr>\n",
       "      <th>145</th>\n",
       "      <td>793</td>\n",
       "      <td>JeromedeLaunay@fleckens.hu</td>\n",
       "      <td>1</td>\n",
       "      <td>M</td>\n",
       "    </tr>\n",
       "    <tr>\n",
       "      <th>146</th>\n",
       "      <td>898</td>\n",
       "      <td>LowellPatel@rhyta.com</td>\n",
       "      <td>1</td>\n",
       "      <td>M</td>\n",
       "    </tr>\n",
       "    <tr>\n",
       "      <th>147</th>\n",
       "      <td>204</td>\n",
       "      <td>GarlandMarcheterre@fleckens.hu</td>\n",
       "      <td>1</td>\n",
       "      <td>F</td>\n",
       "    </tr>\n",
       "    <tr>\n",
       "      <th>148</th>\n",
       "      <td>966</td>\n",
       "      <td>OlivierAube@armyspy.com</td>\n",
       "      <td>1</td>\n",
       "      <td>M</td>\n",
       "    </tr>\n",
       "    <tr>\n",
       "      <th>...</th>\n",
       "      <td>...</td>\n",
       "      <td>...</td>\n",
       "      <td>...</td>\n",
       "      <td>...</td>\n",
       "    </tr>\n",
       "    <tr>\n",
       "      <th>80</th>\n",
       "      <td>928</td>\n",
       "      <td>NadineMasson@teleworm.us</td>\n",
       "      <td>1</td>\n",
       "      <td>F</td>\n",
       "    </tr>\n",
       "    <tr>\n",
       "      <th>81</th>\n",
       "      <td>556</td>\n",
       "      <td>FranceLaderoute@jourrapide.com</td>\n",
       "      <td>1</td>\n",
       "      <td>F</td>\n",
       "    </tr>\n",
       "    <tr>\n",
       "      <th>82</th>\n",
       "      <td>267</td>\n",
       "      <td>LothairBonenfant@dayrep.com</td>\n",
       "      <td>1</td>\n",
       "      <td>M</td>\n",
       "    </tr>\n",
       "    <tr>\n",
       "      <th>84</th>\n",
       "      <td>26</td>\n",
       "      <td>SomerMarleau@cuvox.de</td>\n",
       "      <td>1</td>\n",
       "      <td>M</td>\n",
       "    </tr>\n",
       "    <tr>\n",
       "      <th>227</th>\n",
       "      <td>108</td>\n",
       "      <td>FrancisMasse@jourrapide.com</td>\n",
       "      <td>1</td>\n",
       "      <td>M</td>\n",
       "    </tr>\n",
       "  </tbody>\n",
       "</table>\n",
       "<p>228 rows × 4 columns</p>\n",
       "</div>"
      ],
      "text/plain": [
       "     identifiant                           email  nom genre\n",
       "0            937       LaurentDagenais@rhyta.com    1     M\n",
       "145          793      JeromedeLaunay@fleckens.hu    1     M\n",
       "146          898           LowellPatel@rhyta.com    1     M\n",
       "147          204  GarlandMarcheterre@fleckens.hu    1     F\n",
       "148          966         OlivierAube@armyspy.com    1     M\n",
       "..           ...                             ...  ...   ...\n",
       "80           928        NadineMasson@teleworm.us    1     F\n",
       "81           556  FranceLaderoute@jourrapide.com    1     F\n",
       "82           267     LothairBonenfant@dayrep.com    1     M\n",
       "84            26           SomerMarleau@cuvox.de    1     M\n",
       "227          108     FrancisMasse@jourrapide.com    1     M\n",
       "\n",
       "[228 rows x 4 columns]"
      ]
     },
     "metadata": {},
     "output_type": "display_data"
    },
    {
     "data": {
      "text/html": [
       "<div>\n",
       "<style scoped>\n",
       "    .dataframe tbody tr th:only-of-type {\n",
       "        vertical-align: middle;\n",
       "    }\n",
       "\n",
       "    .dataframe tbody tr th {\n",
       "        vertical-align: top;\n",
       "    }\n",
       "\n",
       "    .dataframe thead th {\n",
       "        text-align: right;\n",
       "    }\n",
       "</style>\n",
       "<table border=\"1\" class=\"dataframe\">\n",
       "  <thead>\n",
       "    <tr style=\"text-align: right;\">\n",
       "      <th></th>\n",
       "      <th>index</th>\n",
       "      <th>identifiant</th>\n",
       "      <th>email</th>\n",
       "      <th>nom</th>\n",
       "      <th>genre</th>\n",
       "    </tr>\n",
       "  </thead>\n",
       "  <tbody>\n",
       "    <tr>\n",
       "      <th>0</th>\n",
       "      <td>0</td>\n",
       "      <td>937</td>\n",
       "      <td>LaurentDagenais@rhyta.com</td>\n",
       "      <td>1</td>\n",
       "      <td>M</td>\n",
       "    </tr>\n",
       "    <tr>\n",
       "      <th>1</th>\n",
       "      <td>145</td>\n",
       "      <td>793</td>\n",
       "      <td>JeromedeLaunay@fleckens.hu</td>\n",
       "      <td>1</td>\n",
       "      <td>M</td>\n",
       "    </tr>\n",
       "    <tr>\n",
       "      <th>2</th>\n",
       "      <td>146</td>\n",
       "      <td>898</td>\n",
       "      <td>LowellPatel@rhyta.com</td>\n",
       "      <td>1</td>\n",
       "      <td>M</td>\n",
       "    </tr>\n",
       "    <tr>\n",
       "      <th>3</th>\n",
       "      <td>147</td>\n",
       "      <td>204</td>\n",
       "      <td>GarlandMarcheterre@fleckens.hu</td>\n",
       "      <td>1</td>\n",
       "      <td>F</td>\n",
       "    </tr>\n",
       "    <tr>\n",
       "      <th>4</th>\n",
       "      <td>148</td>\n",
       "      <td>966</td>\n",
       "      <td>OlivierAube@armyspy.com</td>\n",
       "      <td>1</td>\n",
       "      <td>M</td>\n",
       "    </tr>\n",
       "    <tr>\n",
       "      <th>...</th>\n",
       "      <td>...</td>\n",
       "      <td>...</td>\n",
       "      <td>...</td>\n",
       "      <td>...</td>\n",
       "      <td>...</td>\n",
       "    </tr>\n",
       "    <tr>\n",
       "      <th>223</th>\n",
       "      <td>80</td>\n",
       "      <td>928</td>\n",
       "      <td>NadineMasson@teleworm.us</td>\n",
       "      <td>1</td>\n",
       "      <td>F</td>\n",
       "    </tr>\n",
       "    <tr>\n",
       "      <th>224</th>\n",
       "      <td>81</td>\n",
       "      <td>556</td>\n",
       "      <td>FranceLaderoute@jourrapide.com</td>\n",
       "      <td>1</td>\n",
       "      <td>F</td>\n",
       "    </tr>\n",
       "    <tr>\n",
       "      <th>225</th>\n",
       "      <td>82</td>\n",
       "      <td>267</td>\n",
       "      <td>LothairBonenfant@dayrep.com</td>\n",
       "      <td>1</td>\n",
       "      <td>M</td>\n",
       "    </tr>\n",
       "    <tr>\n",
       "      <th>226</th>\n",
       "      <td>84</td>\n",
       "      <td>26</td>\n",
       "      <td>SomerMarleau@cuvox.de</td>\n",
       "      <td>1</td>\n",
       "      <td>M</td>\n",
       "    </tr>\n",
       "    <tr>\n",
       "      <th>227</th>\n",
       "      <td>227</td>\n",
       "      <td>108</td>\n",
       "      <td>FrancisMasse@jourrapide.com</td>\n",
       "      <td>1</td>\n",
       "      <td>M</td>\n",
       "    </tr>\n",
       "  </tbody>\n",
       "</table>\n",
       "<p>228 rows × 5 columns</p>\n",
       "</div>"
      ],
      "text/plain": [
       "     index  identifiant                           email  nom genre\n",
       "0        0          937       LaurentDagenais@rhyta.com    1     M\n",
       "1      145          793      JeromedeLaunay@fleckens.hu    1     M\n",
       "2      146          898           LowellPatel@rhyta.com    1     M\n",
       "3      147          204  GarlandMarcheterre@fleckens.hu    1     F\n",
       "4      148          966         OlivierAube@armyspy.com    1     M\n",
       "..     ...          ...                             ...  ...   ...\n",
       "223     80          928        NadineMasson@teleworm.us    1     F\n",
       "224     81          556  FranceLaderoute@jourrapide.com    1     F\n",
       "225     82          267     LothairBonenfant@dayrep.com    1     M\n",
       "226     84           26           SomerMarleau@cuvox.de    1     M\n",
       "227    227          108     FrancisMasse@jourrapide.com    1     M\n",
       "\n",
       "[228 rows x 5 columns]"
      ]
     },
     "metadata": {},
     "output_type": "display_data"
    },
    {
     "data": {
      "text/html": [
       "<div>\n",
       "<style scoped>\n",
       "    .dataframe tbody tr th:only-of-type {\n",
       "        vertical-align: middle;\n",
       "    }\n",
       "\n",
       "    .dataframe tbody tr th {\n",
       "        vertical-align: top;\n",
       "    }\n",
       "\n",
       "    .dataframe thead th {\n",
       "        text-align: right;\n",
       "    }\n",
       "</style>\n",
       "<table border=\"1\" class=\"dataframe\">\n",
       "  <thead>\n",
       "    <tr style=\"text-align: right;\">\n",
       "      <th></th>\n",
       "      <th>identifiant</th>\n",
       "      <th>email</th>\n",
       "      <th>nom</th>\n",
       "      <th>genre</th>\n",
       "    </tr>\n",
       "  </thead>\n",
       "  <tbody>\n",
       "    <tr>\n",
       "      <th>0</th>\n",
       "      <td>937</td>\n",
       "      <td>LaurentDagenais@rhyta.com</td>\n",
       "      <td>1</td>\n",
       "      <td>M</td>\n",
       "    </tr>\n",
       "    <tr>\n",
       "      <th>1</th>\n",
       "      <td>793</td>\n",
       "      <td>JeromedeLaunay@fleckens.hu</td>\n",
       "      <td>1</td>\n",
       "      <td>M</td>\n",
       "    </tr>\n",
       "    <tr>\n",
       "      <th>2</th>\n",
       "      <td>898</td>\n",
       "      <td>LowellPatel@rhyta.com</td>\n",
       "      <td>1</td>\n",
       "      <td>M</td>\n",
       "    </tr>\n",
       "    <tr>\n",
       "      <th>3</th>\n",
       "      <td>204</td>\n",
       "      <td>GarlandMarcheterre@fleckens.hu</td>\n",
       "      <td>1</td>\n",
       "      <td>F</td>\n",
       "    </tr>\n",
       "    <tr>\n",
       "      <th>4</th>\n",
       "      <td>966</td>\n",
       "      <td>OlivierAube@armyspy.com</td>\n",
       "      <td>1</td>\n",
       "      <td>M</td>\n",
       "    </tr>\n",
       "    <tr>\n",
       "      <th>...</th>\n",
       "      <td>...</td>\n",
       "      <td>...</td>\n",
       "      <td>...</td>\n",
       "      <td>...</td>\n",
       "    </tr>\n",
       "    <tr>\n",
       "      <th>223</th>\n",
       "      <td>928</td>\n",
       "      <td>NadineMasson@teleworm.us</td>\n",
       "      <td>1</td>\n",
       "      <td>F</td>\n",
       "    </tr>\n",
       "    <tr>\n",
       "      <th>224</th>\n",
       "      <td>556</td>\n",
       "      <td>FranceLaderoute@jourrapide.com</td>\n",
       "      <td>1</td>\n",
       "      <td>F</td>\n",
       "    </tr>\n",
       "    <tr>\n",
       "      <th>225</th>\n",
       "      <td>267</td>\n",
       "      <td>LothairBonenfant@dayrep.com</td>\n",
       "      <td>1</td>\n",
       "      <td>M</td>\n",
       "    </tr>\n",
       "    <tr>\n",
       "      <th>226</th>\n",
       "      <td>26</td>\n",
       "      <td>SomerMarleau@cuvox.de</td>\n",
       "      <td>1</td>\n",
       "      <td>M</td>\n",
       "    </tr>\n",
       "    <tr>\n",
       "      <th>227</th>\n",
       "      <td>108</td>\n",
       "      <td>FrancisMasse@jourrapide.com</td>\n",
       "      <td>1</td>\n",
       "      <td>M</td>\n",
       "    </tr>\n",
       "  </tbody>\n",
       "</table>\n",
       "<p>228 rows × 4 columns</p>\n",
       "</div>"
      ],
      "text/plain": [
       "     identifiant                           email  nom genre\n",
       "0            937       LaurentDagenais@rhyta.com    1     M\n",
       "1            793      JeromedeLaunay@fleckens.hu    1     M\n",
       "2            898           LowellPatel@rhyta.com    1     M\n",
       "3            204  GarlandMarcheterre@fleckens.hu    1     F\n",
       "4            966         OlivierAube@armyspy.com    1     M\n",
       "..           ...                             ...  ...   ...\n",
       "223          928        NadineMasson@teleworm.us    1     F\n",
       "224          556  FranceLaderoute@jourrapide.com    1     F\n",
       "225          267     LothairBonenfant@dayrep.com    1     M\n",
       "226           26           SomerMarleau@cuvox.de    1     M\n",
       "227          108     FrancisMasse@jourrapide.com    1     M\n",
       "\n",
       "[228 rows x 4 columns]"
      ]
     },
     "metadata": {},
     "output_type": "display_data"
    }
   ],
   "source": [
    "# création d’un data frame trié pour ‘désordonner’ les Index\n",
    "df_temp = clients.sort_values('nom')\n",
    "display(df_temp)\n",
    "\n",
    "\n",
    "# reset_index :\n",
    "display(df_temp.reset_index())\n",
    "\n",
    "\n",
    "# reset_index sans garder les anciens Index :\n",
    "display(df_temp.reset_index(drop=True))"
   ]
  },
  {
   "cell_type": "markdown",
   "id": "cb0c3544",
   "metadata": {},
   "source": [
    "## Exercice d'entrainement "
   ]
  },
  {
   "cell_type": "code",
   "execution_count": 80,
   "id": "2b40f3d1",
   "metadata": {},
   "outputs": [
    {
     "name": "stdout",
     "output_type": "stream",
     "text": [
      "Il y a 58 clients qui ont dépassé le seuil autorisé\n",
      "Il y a 16 clients qui ont dépassé le seuil autorisé à l'agence Parisienne\n",
      "Nous avons accordé 16 prêts automobiles, dont le coût total moyen est de 13665.0 €\n"
     ]
    },
    {
     "data": {
      "text/plain": [
       "2138.0699999999997"
      ]
     },
     "execution_count": 80,
     "metadata": {},
     "output_type": "execute_result"
    }
   ],
   "source": [
    "#Nous allons à présent aller un peu plus loin dans la manipulation de nos prêts bancaires. Les demandes suivantes ont été formulées par le responsable du service prêt de notre établissement :\n",
    "\n",
    "#Le taux d’endettement autorisé est de 35%. Pourriez vous me communiquer le nombre de personnes ayant dépassé ce seuil ?\n",
    "#Même question, mais cette fois ci uniquement sur l’agence Parisienne\n",
    "#Pour faciliter le traitement d’éventuelles futures demandes de prêts, pourriez vous ajouter une variable nommée risque qui nous permettrait d’identifier les clients risqués facilement\n",
    "#Combien de prêts automobiles ont été accordés ? Quel est le coût total moyen de ces derniers ?\n",
    "#Quel est le bénéfice mensuel total réalisé par l’agence Toulousaine ?\n",
    "#Vous allez devoir mettre en application l’ensemble des processus de sélection présentés ci-dessus pour répondre à ces différentes demandes.\n",
    "\n",
    "import numpy as np\n",
    "import pandas as pd\n",
    "\n",
    "# traitement réalisés précédemment\n",
    "prets = pd.read_csv('https://raw.githubusercontent.com/benjaminmrl/data-4452741/main/prets.csv')\n",
    "\n",
    "# calcul du taux d'endettement\n",
    "prets['taux_endettement'] = round(prets['remboursement'] * 100 / prets['revenu'], 2)\n",
    "\n",
    "# renommer taux en taux_interet\n",
    "prets.rename(columns={'taux':'taux_interet'}, inplace=True)\n",
    "\n",
    "# calculer le cout total du pret\n",
    "prets['cout_total'] = prets['remboursement'] * prets['duree']\n",
    "\n",
    "# calculer les bénéfices mensuels réalisés\n",
    "prets['benefices'] = round((prets['cout_total'] * prets['taux_interet']/100)/(24), 2)\n",
    "\n",
    "prets.head()\n",
    "\n",
    "#Le taux d’endettement autorisé est de 35%. Pourriez vous me communiquer le nombre de personnes ayant dépassé ce seuil ? vous pourrez me stocker la liste dans une variable à part nommé clients_risque\n",
    "\n",
    "\n",
    "nombre_client_risque = prets.loc[prets['taux_endettement'] > 35, :].shape[0]\n",
    "print('Il y a', nombre_client_risque, 'clients qui ont dépassé le seuil autorisé')\n",
    "#Il y a 58 clients qui ont dépassé le seuil autorisé\n",
    "#Pour expliquer rapidement cette ligne de code :\n",
    "\n",
    "#dans un premier temps nous utilisons la fonction .loc, pour sélectionner l'ensemble des lignes dont le taux d'endettement est supérieur à 35%\n",
    "#nous utilisons ensuite la méthode .shape pour calculer le nombre de clients concernés\n",
    "#Même question, mais cette fois ci uniquement sur l’agence Parisienne\n",
    "\n",
    "nombre_client_risque = prets.loc[(prets['taux_endettement'] > 35) & (prets['ville'] == 'PARIS'), :].shape[0]\n",
    "print('Il y a', nombre_client_risque, \"clients qui ont dépassé le seuil autorisé à l'agence Parisienne\")\n",
    "#Il y a 16 clients qui ont dépassé le seuil autorisé à l'agence Parisienne\n",
    "#Pour faciliter le traitement d’éventuelles futures demandes de prêts, pourriez vous ajouter une variable nommée risque qui aurait pour valeur Oui si le client est risqué (taux d’endettement > 35%), Non sinon. Pour se faire, je vous conseille de créer la variable risque en l'initialisant à Non (ou Oui, à votre préférence) et de ne modifier que les lignes concernées par la valeur inverse :\n",
    "\n",
    "\n",
    "prets['risque'] = 'Non'\n",
    "prets.loc[prets['taux_endettement'] > 35, 'risque'] = 'Oui'\n",
    "#Combien de prêts automobiles ont été accordés ? Quel est le coût total moyen de ces derniers ?\n",
    "\n",
    "prets_auto = prets.loc[prets['type'] == 'automobile', :]\n",
    "print('Nous avons accordé', prets_auto.shape[0], 'prêts automobiles, dont le coût total moyen est de',\n",
    "      prets_auto['cout_total'].mean(), '€')\n",
    "#Nous avons accordé 16 prêts automobiles, dont le coût total moyen est de 13665.0 €\n",
    "#Pour expliquer rapidement ces lignes de code :\n",
    "\n",
    "#nous opérons une sélection sur les prêts étant de type automobile. Le résultat de cette sélection est stocké dans un dataframe nommé prets_auto\n",
    "#nous utilisons la méthode .shape comme précédemment pour déterminer le nombre de prêts concernés\n",
    "#nous calculons ensuite la moyenne de la variable cout_total de ce dataframe nouvellement créé\n",
    "#Quel est le bénéfice mensuel total réalisé par l’agence Toulousaine ?\n",
    "\n",
    "prets.loc[prets['ville'] == 'TOULOUSE', 'benefices'].sum()\n"
   ]
  },
  {
   "cell_type": "markdown",
   "id": "9ab9f13d",
   "metadata": {},
   "source": [
    "# En résumé\n",
    "#### Il existe deux méthodes pour sélectionner précisément des éléments au sein d’un data frame : \n",
    "\n",
    "#### La méthode.iloc permet de sélectionner à partir des indices. La syntaxe est :  mon_dataframe.iloc[ indice(s) ligne ,  indice(s) colonne ]  .\n",
    "\n",
    "#### La méthode.loc permet de sélectionner à partir de conditions et des noms de colonnes. La syntaxe est :  mon_dataframe.loc[ condition sur les lignes ,  colonne(s) ]  .\n",
    "\n",
    "#### La condition sur les lignes est une condition qui va être testée sur chaque ligne. Une ligne est conservée dans le processus de sélection si elle satisfait à cette condition. Cette condition peut être une conjonction de plusieurs conditions séparées par des \"et\" logiques (& ) ou des \"ou\" logiques (| ).\n",
    "\n",
    "#### Les index sont des valeurs qui sont associées intrinsèquement à chaque ligne. Si on effectue un tri ou toute autre opération, une ligne, quelle que soit sa position dans le data frame, aura toujours le même index. Il est possible de réinitialiser ce dernier via la méthode  .reset_index .\n",
    "\n",
    "#### La méthode.loc peut être également utilisée pour modifier la partie du data frame sélectionnée. "
   ]
  },
  {
   "cell_type": "markdown",
   "id": "7c702faa",
   "metadata": {},
   "source": [
    "# Agrégez des données avec Pandas"
   ]
  },
  {
   "cell_type": "code",
   "execution_count": 82,
   "id": "6b05a5e3",
   "metadata": {},
   "outputs": [
    {
     "data": {
      "text/html": [
       "<div>\n",
       "<style scoped>\n",
       "    .dataframe tbody tr th:only-of-type {\n",
       "        vertical-align: middle;\n",
       "    }\n",
       "\n",
       "    .dataframe tbody tr th {\n",
       "        vertical-align: top;\n",
       "    }\n",
       "\n",
       "    .dataframe thead th {\n",
       "        text-align: right;\n",
       "    }\n",
       "</style>\n",
       "<table border=\"1\" class=\"dataframe\">\n",
       "  <thead>\n",
       "    <tr style=\"text-align: right;\">\n",
       "      <th></th>\n",
       "      <th>identifiant</th>\n",
       "      <th>CP</th>\n",
       "      <th>revenu</th>\n",
       "      <th>remboursement</th>\n",
       "      <th>duree</th>\n",
       "      <th>taux_interet</th>\n",
       "      <th>taux_endettement</th>\n",
       "      <th>cout_total</th>\n",
       "      <th>benefices</th>\n",
       "    </tr>\n",
       "    <tr>\n",
       "      <th>ville</th>\n",
       "      <th></th>\n",
       "      <th></th>\n",
       "      <th></th>\n",
       "      <th></th>\n",
       "      <th></th>\n",
       "      <th></th>\n",
       "      <th></th>\n",
       "      <th></th>\n",
       "      <th></th>\n",
       "    </tr>\n",
       "  </thead>\n",
       "  <tbody>\n",
       "    <tr>\n",
       "      <th>BORDEAUX</th>\n",
       "      <td>1718</td>\n",
       "      <td>531800</td>\n",
       "      <td>50816.0</td>\n",
       "      <td>15330.59</td>\n",
       "      <td>3660</td>\n",
       "      <td>18.767</td>\n",
       "      <td>496.90</td>\n",
       "      <td>3441385.2</td>\n",
       "      <td>1681.32</td>\n",
       "    </tr>\n",
       "    <tr>\n",
       "      <th>LYON</th>\n",
       "      <td>2833</td>\n",
       "      <td>1932134</td>\n",
       "      <td>95354.0</td>\n",
       "      <td>26064.67</td>\n",
       "      <td>6251</td>\n",
       "      <td>38.918</td>\n",
       "      <td>791.78</td>\n",
       "      <td>6199332.2</td>\n",
       "      <td>3014.80</td>\n",
       "    </tr>\n",
       "    <tr>\n",
       "      <th>MARSEILLE</th>\n",
       "      <td>7946</td>\n",
       "      <td>975732</td>\n",
       "      <td>145926.0</td>\n",
       "      <td>40895.72</td>\n",
       "      <td>16420</td>\n",
       "      <td>92.538</td>\n",
       "      <td>2123.32</td>\n",
       "      <td>9109388.4</td>\n",
       "      <td>4395.91</td>\n",
       "    </tr>\n",
       "    <tr>\n",
       "      <th>NICE</th>\n",
       "      <td>2375</td>\n",
       "      <td>129100</td>\n",
       "      <td>85288.0</td>\n",
       "      <td>23544.24</td>\n",
       "      <td>4460</td>\n",
       "      <td>27.706</td>\n",
       "      <td>572.33</td>\n",
       "      <td>5559354.6</td>\n",
       "      <td>2682.75</td>\n",
       "    </tr>\n",
       "    <tr>\n",
       "      <th>PARIS</th>\n",
       "      <td>9849</td>\n",
       "      <td>5776019</td>\n",
       "      <td>335459.0</td>\n",
       "      <td>94052.61</td>\n",
       "      <td>16686</td>\n",
       "      <td>100.073</td>\n",
       "      <td>2114.75</td>\n",
       "      <td>20813944.4</td>\n",
       "      <td>10016.35</td>\n",
       "    </tr>\n",
       "    <tr>\n",
       "      <th>TOULOUSE</th>\n",
       "      <td>3162</td>\n",
       "      <td>843300</td>\n",
       "      <td>75617.0</td>\n",
       "      <td>19286.18</td>\n",
       "      <td>5643</td>\n",
       "      <td>38.217</td>\n",
       "      <td>697.53</td>\n",
       "      <td>4256987.0</td>\n",
       "      <td>2138.07</td>\n",
       "    </tr>\n",
       "  </tbody>\n",
       "</table>\n",
       "</div>"
      ],
      "text/plain": [
       "           identifiant       CP    revenu  remboursement  duree  taux_interet  \\\n",
       "ville                                                                           \n",
       "BORDEAUX          1718   531800   50816.0       15330.59   3660        18.767   \n",
       "LYON              2833  1932134   95354.0       26064.67   6251        38.918   \n",
       "MARSEILLE         7946   975732  145926.0       40895.72  16420        92.538   \n",
       "NICE              2375   129100   85288.0       23544.24   4460        27.706   \n",
       "PARIS             9849  5776019  335459.0       94052.61  16686       100.073   \n",
       "TOULOUSE          3162   843300   75617.0       19286.18   5643        38.217   \n",
       "\n",
       "           taux_endettement  cout_total  benefices  \n",
       "ville                                               \n",
       "BORDEAUX             496.90   3441385.2    1681.32  \n",
       "LYON                 791.78   6199332.2    3014.80  \n",
       "MARSEILLE           2123.32   9109388.4    4395.91  \n",
       "NICE                 572.33   5559354.6    2682.75  \n",
       "PARIS               2114.75  20813944.4   10016.35  \n",
       "TOULOUSE             697.53   4256987.0    2138.07  "
      ]
     },
     "execution_count": 82,
     "metadata": {},
     "output_type": "execute_result"
    }
   ],
   "source": [
    "prets.groupby('ville').sum()"
   ]
  },
  {
   "cell_type": "code",
   "execution_count": 83,
   "id": "6d6c3ce8",
   "metadata": {},
   "outputs": [
    {
     "data": {
      "text/html": [
       "<div>\n",
       "<style scoped>\n",
       "    .dataframe tbody tr th:only-of-type {\n",
       "        vertical-align: middle;\n",
       "    }\n",
       "\n",
       "    .dataframe tbody tr th {\n",
       "        vertical-align: top;\n",
       "    }\n",
       "\n",
       "    .dataframe thead th {\n",
       "        text-align: right;\n",
       "    }\n",
       "</style>\n",
       "<table border=\"1\" class=\"dataframe\">\n",
       "  <thead>\n",
       "    <tr style=\"text-align: right;\">\n",
       "      <th></th>\n",
       "      <th></th>\n",
       "      <th>identifiant</th>\n",
       "      <th>CP</th>\n",
       "      <th>revenu</th>\n",
       "      <th>remboursement</th>\n",
       "      <th>duree</th>\n",
       "      <th>taux_interet</th>\n",
       "      <th>taux_endettement</th>\n",
       "      <th>cout_total</th>\n",
       "      <th>benefices</th>\n",
       "    </tr>\n",
       "    <tr>\n",
       "      <th>ville</th>\n",
       "      <th>type</th>\n",
       "      <th></th>\n",
       "      <th></th>\n",
       "      <th></th>\n",
       "      <th></th>\n",
       "      <th></th>\n",
       "      <th></th>\n",
       "      <th></th>\n",
       "      <th></th>\n",
       "      <th></th>\n",
       "    </tr>\n",
       "  </thead>\n",
       "  <tbody>\n",
       "    <tr>\n",
       "      <th>BORDEAUX</th>\n",
       "      <th>immobilier</th>\n",
       "      <td>1718</td>\n",
       "      <td>531800</td>\n",
       "      <td>50816.0</td>\n",
       "      <td>15330.59</td>\n",
       "      <td>3660</td>\n",
       "      <td>18.767</td>\n",
       "      <td>496.90</td>\n",
       "      <td>3441385.2</td>\n",
       "      <td>1681.32</td>\n",
       "    </tr>\n",
       "    <tr>\n",
       "      <th rowspan=\"2\" valign=\"top\">LYON</th>\n",
       "      <th>automobile</th>\n",
       "      <td>360</td>\n",
       "      <td>207018</td>\n",
       "      <td>11531.0</td>\n",
       "      <td>788.80</td>\n",
       "      <td>131</td>\n",
       "      <td>10.083</td>\n",
       "      <td>23.68</td>\n",
       "      <td>33796.4</td>\n",
       "      <td>47.39</td>\n",
       "    </tr>\n",
       "    <tr>\n",
       "      <th>immobilier</th>\n",
       "      <td>2473</td>\n",
       "      <td>1725116</td>\n",
       "      <td>83823.0</td>\n",
       "      <td>25275.87</td>\n",
       "      <td>6120</td>\n",
       "      <td>28.835</td>\n",
       "      <td>768.10</td>\n",
       "      <td>6165535.8</td>\n",
       "      <td>2967.41</td>\n",
       "    </tr>\n",
       "    <tr>\n",
       "      <th rowspan=\"2\" valign=\"top\">MARSEILLE</th>\n",
       "      <th>automobile</th>\n",
       "      <td>404</td>\n",
       "      <td>39031</td>\n",
       "      <td>5842.0</td>\n",
       "      <td>839.60</td>\n",
       "      <td>160</td>\n",
       "      <td>9.535</td>\n",
       "      <td>46.02</td>\n",
       "      <td>46145.4</td>\n",
       "      <td>61.36</td>\n",
       "    </tr>\n",
       "    <tr>\n",
       "      <th>immobilier</th>\n",
       "      <td>7542</td>\n",
       "      <td>936701</td>\n",
       "      <td>140084.0</td>\n",
       "      <td>40056.12</td>\n",
       "      <td>16260</td>\n",
       "      <td>83.003</td>\n",
       "      <td>2077.30</td>\n",
       "      <td>9063243.0</td>\n",
       "      <td>4334.55</td>\n",
       "    </tr>\n",
       "    <tr>\n",
       "      <th rowspan=\"2\" valign=\"top\">NICE</th>\n",
       "      <th>automobile</th>\n",
       "      <td>187</td>\n",
       "      <td>12300</td>\n",
       "      <td>7607.0</td>\n",
       "      <td>612.80</td>\n",
       "      <td>80</td>\n",
       "      <td>6.104</td>\n",
       "      <td>16.23</td>\n",
       "      <td>24624.0</td>\n",
       "      <td>31.15</td>\n",
       "    </tr>\n",
       "    <tr>\n",
       "      <th>immobilier</th>\n",
       "      <td>2188</td>\n",
       "      <td>116800</td>\n",
       "      <td>77681.0</td>\n",
       "      <td>22931.44</td>\n",
       "      <td>4380</td>\n",
       "      <td>21.602</td>\n",
       "      <td>556.10</td>\n",
       "      <td>5534730.6</td>\n",
       "      <td>2651.60</td>\n",
       "    </tr>\n",
       "    <tr>\n",
       "      <th rowspan=\"2\" valign=\"top\">PARIS</th>\n",
       "      <th>automobile</th>\n",
       "      <td>612</td>\n",
       "      <td>375054</td>\n",
       "      <td>22834.0</td>\n",
       "      <td>1426.60</td>\n",
       "      <td>246</td>\n",
       "      <td>17.271</td>\n",
       "      <td>33.95</td>\n",
       "      <td>69591.2</td>\n",
       "      <td>99.50</td>\n",
       "    </tr>\n",
       "    <tr>\n",
       "      <th>immobilier</th>\n",
       "      <td>9237</td>\n",
       "      <td>5400965</td>\n",
       "      <td>312625.0</td>\n",
       "      <td>92626.01</td>\n",
       "      <td>16440</td>\n",
       "      <td>82.802</td>\n",
       "      <td>2080.80</td>\n",
       "      <td>20744353.2</td>\n",
       "      <td>9916.85</td>\n",
       "    </tr>\n",
       "    <tr>\n",
       "      <th rowspan=\"2\" valign=\"top\">TOULOUSE</th>\n",
       "      <th>automobile</th>\n",
       "      <td>442</td>\n",
       "      <td>93400</td>\n",
       "      <td>7803.0</td>\n",
       "      <td>718.80</td>\n",
       "      <td>183</td>\n",
       "      <td>9.868</td>\n",
       "      <td>30.63</td>\n",
       "      <td>44483.0</td>\n",
       "      <td>61.22</td>\n",
       "    </tr>\n",
       "    <tr>\n",
       "      <th>immobilier</th>\n",
       "      <td>2720</td>\n",
       "      <td>749900</td>\n",
       "      <td>67814.0</td>\n",
       "      <td>18567.38</td>\n",
       "      <td>5460</td>\n",
       "      <td>28.349</td>\n",
       "      <td>666.90</td>\n",
       "      <td>4212504.0</td>\n",
       "      <td>2076.85</td>\n",
       "    </tr>\n",
       "  </tbody>\n",
       "</table>\n",
       "</div>"
      ],
      "text/plain": [
       "                      identifiant       CP    revenu  remboursement  duree  \\\n",
       "ville     type                                                               \n",
       "BORDEAUX  immobilier         1718   531800   50816.0       15330.59   3660   \n",
       "LYON      automobile          360   207018   11531.0         788.80    131   \n",
       "          immobilier         2473  1725116   83823.0       25275.87   6120   \n",
       "MARSEILLE automobile          404    39031    5842.0         839.60    160   \n",
       "          immobilier         7542   936701  140084.0       40056.12  16260   \n",
       "NICE      automobile          187    12300    7607.0         612.80     80   \n",
       "          immobilier         2188   116800   77681.0       22931.44   4380   \n",
       "PARIS     automobile          612   375054   22834.0        1426.60    246   \n",
       "          immobilier         9237  5400965  312625.0       92626.01  16440   \n",
       "TOULOUSE  automobile          442    93400    7803.0         718.80    183   \n",
       "          immobilier         2720   749900   67814.0       18567.38   5460   \n",
       "\n",
       "                      taux_interet  taux_endettement  cout_total  benefices  \n",
       "ville     type                                                               \n",
       "BORDEAUX  immobilier        18.767            496.90   3441385.2    1681.32  \n",
       "LYON      automobile        10.083             23.68     33796.4      47.39  \n",
       "          immobilier        28.835            768.10   6165535.8    2967.41  \n",
       "MARSEILLE automobile         9.535             46.02     46145.4      61.36  \n",
       "          immobilier        83.003           2077.30   9063243.0    4334.55  \n",
       "NICE      automobile         6.104             16.23     24624.0      31.15  \n",
       "          immobilier        21.602            556.10   5534730.6    2651.60  \n",
       "PARIS     automobile        17.271             33.95     69591.2      99.50  \n",
       "          immobilier        82.802           2080.80  20744353.2    9916.85  \n",
       "TOULOUSE  automobile         9.868             30.63     44483.0      61.22  \n",
       "          immobilier        28.349            666.90   4212504.0    2076.85  "
      ]
     },
     "execution_count": 83,
     "metadata": {},
     "output_type": "execute_result"
    }
   ],
   "source": [
    "prets.groupby(['ville', 'type']).sum()"
   ]
  },
  {
   "cell_type": "code",
   "execution_count": 84,
   "id": "20869058",
   "metadata": {},
   "outputs": [
    {
     "data": {
      "text/plain": [
       "ville      type      \n",
       "BORDEAUX   immobilier    15330.59\n",
       "LYON       automobile      788.80\n",
       "           immobilier    25275.87\n",
       "MARSEILLE  automobile      839.60\n",
       "           immobilier    40056.12\n",
       "NICE       automobile      612.80\n",
       "           immobilier    22931.44\n",
       "PARIS      automobile     1426.60\n",
       "           immobilier    92626.01\n",
       "TOULOUSE   automobile      718.80\n",
       "           immobilier    18567.38\n",
       "Name: remboursement, dtype: float64"
      ]
     },
     "execution_count": 84,
     "metadata": {},
     "output_type": "execute_result"
    }
   ],
   "source": [
    "prets.groupby(['ville', 'type'])['remboursement'].sum()"
   ]
  },
  {
   "cell_type": "code",
   "execution_count": 85,
   "id": "3cb712b3",
   "metadata": {},
   "outputs": [
    {
     "data": {
      "text/html": [
       "<div>\n",
       "<style scoped>\n",
       "    .dataframe tbody tr th:only-of-type {\n",
       "        vertical-align: middle;\n",
       "    }\n",
       "\n",
       "    .dataframe tbody tr th {\n",
       "        vertical-align: top;\n",
       "    }\n",
       "\n",
       "    .dataframe thead tr th {\n",
       "        text-align: left;\n",
       "    }\n",
       "\n",
       "    .dataframe thead tr:last-of-type th {\n",
       "        text-align: right;\n",
       "    }\n",
       "</style>\n",
       "<table border=\"1\" class=\"dataframe\">\n",
       "  <thead>\n",
       "    <tr>\n",
       "      <th></th>\n",
       "      <th colspan=\"2\" halign=\"left\">remboursement</th>\n",
       "      <th>revenu</th>\n",
       "    </tr>\n",
       "    <tr>\n",
       "      <th></th>\n",
       "      <th>sum</th>\n",
       "      <th>mean</th>\n",
       "      <th>max</th>\n",
       "    </tr>\n",
       "    <tr>\n",
       "      <th>ville</th>\n",
       "      <th></th>\n",
       "      <th></th>\n",
       "      <th></th>\n",
       "    </tr>\n",
       "  </thead>\n",
       "  <tbody>\n",
       "    <tr>\n",
       "      <th>BORDEAUX</th>\n",
       "      <td>15330.59</td>\n",
       "      <td>958.161875</td>\n",
       "      <td>3691.0</td>\n",
       "    </tr>\n",
       "    <tr>\n",
       "      <th>LYON</th>\n",
       "      <td>26064.67</td>\n",
       "      <td>930.881071</td>\n",
       "      <td>4771.0</td>\n",
       "    </tr>\n",
       "    <tr>\n",
       "      <th>MARSEILLE</th>\n",
       "      <td>40895.72</td>\n",
       "      <td>545.276267</td>\n",
       "      <td>2962.0</td>\n",
       "    </tr>\n",
       "    <tr>\n",
       "      <th>NICE</th>\n",
       "      <td>23544.24</td>\n",
       "      <td>1121.154286</td>\n",
       "      <td>5987.0</td>\n",
       "    </tr>\n",
       "    <tr>\n",
       "      <th>PARIS</th>\n",
       "      <td>94052.61</td>\n",
       "      <td>1221.462468</td>\n",
       "      <td>6807.0</td>\n",
       "    </tr>\n",
       "    <tr>\n",
       "      <th>TOULOUSE</th>\n",
       "      <td>19286.18</td>\n",
       "      <td>714.302963</td>\n",
       "      <td>3993.0</td>\n",
       "    </tr>\n",
       "  </tbody>\n",
       "</table>\n",
       "</div>"
      ],
      "text/plain": [
       "          remboursement               revenu\n",
       "                    sum         mean     max\n",
       "ville                                       \n",
       "BORDEAUX       15330.59   958.161875  3691.0\n",
       "LYON           26064.67   930.881071  4771.0\n",
       "MARSEILLE      40895.72   545.276267  2962.0\n",
       "NICE           23544.24  1121.154286  5987.0\n",
       "PARIS          94052.61  1221.462468  6807.0\n",
       "TOULOUSE       19286.18   714.302963  3993.0"
      ]
     },
     "execution_count": 85,
     "metadata": {},
     "output_type": "execute_result"
    }
   ],
   "source": [
    "prets.groupby('ville').agg({'remboursement': ['sum', 'mean'],\n",
    "    'revenu': 'max'})"
   ]
  },
  {
   "cell_type": "markdown",
   "id": "0cbc5893",
   "metadata": {},
   "source": [
    "## Exercice d'entrainement "
   ]
  },
  {
   "cell_type": "code",
   "execution_count": 86,
   "id": "0291db6c",
   "metadata": {},
   "outputs": [
    {
     "name": "stdout",
     "output_type": "stream",
     "text": [
      "Il y a 62 clients qui ont dépassé le seuil autorisé\n"
     ]
    },
    {
     "data": {
      "text/html": [
       "<div>\n",
       "<style scoped>\n",
       "    .dataframe tbody tr th:only-of-type {\n",
       "        vertical-align: middle;\n",
       "    }\n",
       "\n",
       "    .dataframe tbody tr th {\n",
       "        vertical-align: top;\n",
       "    }\n",
       "\n",
       "    .dataframe thead th {\n",
       "        text-align: right;\n",
       "    }\n",
       "</style>\n",
       "<table border=\"1\" class=\"dataframe\">\n",
       "  <thead>\n",
       "    <tr style=\"text-align: right;\">\n",
       "      <th>type</th>\n",
       "      <th>automobile</th>\n",
       "      <th>immobilier</th>\n",
       "    </tr>\n",
       "    <tr>\n",
       "      <th>ville</th>\n",
       "      <th></th>\n",
       "      <th></th>\n",
       "    </tr>\n",
       "  </thead>\n",
       "  <tbody>\n",
       "    <tr>\n",
       "      <th>BORDEAUX</th>\n",
       "      <td>NaN</td>\n",
       "      <td>105.082500</td>\n",
       "    </tr>\n",
       "    <tr>\n",
       "      <th>LYON</th>\n",
       "      <td>15.796667</td>\n",
       "      <td>118.696400</td>\n",
       "    </tr>\n",
       "    <tr>\n",
       "      <th>MARSEILLE</th>\n",
       "      <td>20.453333</td>\n",
       "      <td>60.202083</td>\n",
       "    </tr>\n",
       "    <tr>\n",
       "      <th>NICE</th>\n",
       "      <td>15.575000</td>\n",
       "      <td>139.557895</td>\n",
       "    </tr>\n",
       "    <tr>\n",
       "      <th>PARIS</th>\n",
       "      <td>19.900000</td>\n",
       "      <td>137.734028</td>\n",
       "    </tr>\n",
       "    <tr>\n",
       "      <th>TOULOUSE</th>\n",
       "      <td>20.406667</td>\n",
       "      <td>86.535417</td>\n",
       "    </tr>\n",
       "  </tbody>\n",
       "</table>\n",
       "</div>"
      ],
      "text/plain": [
       "type       automobile  immobilier\n",
       "ville                            \n",
       "BORDEAUX          NaN  105.082500\n",
       "LYON        15.796667  118.696400\n",
       "MARSEILLE   20.453333   60.202083\n",
       "NICE        15.575000  139.557895\n",
       "PARIS       19.900000  137.734028\n",
       "TOULOUSE    20.406667   86.535417"
      ]
     },
     "execution_count": 86,
     "metadata": {},
     "output_type": "execute_result"
    }
   ],
   "source": [
    "#Suite aux résultats que vous avez fourni précédemment, le responsable du service prêt revient vous voir avec une remarque : vous l’avez probablement remarqué, mais certains clients ont contracté plusieurs prêts au sein de notre établissement. Cela fausse donc potentiellement les calculs réalisés précédemment.\n",
    "\n",
    "#Il formule donc des demandes additionnelles, auxquelles vous allez devoir répondre en appliquant diverses agrégations.\n",
    "\n",
    "import numpy as np\n",
    "import pandas as pd\n",
    "\n",
    "# traitement réalisés précédemment\n",
    "prets = pd.read_csv('https://raw.githubusercontent.com/benjaminmrl/data-4452741/main/prets.csv')\n",
    "\n",
    "# calcul du taux d'endettement\n",
    "prets['taux_endettement'] = round(prets['remboursement'] * 100 / prets['revenu'], 2)\n",
    "\n",
    "# renommer taux en taux_interet\n",
    "prets.rename(columns={'taux':'taux_interet'}, inplace=True)\n",
    "\n",
    "# calculer le cout total du pret\n",
    "prets['cout_total'] = prets['remboursement'] * prets['duree']\n",
    "\n",
    "# calculer les bénéfices mensuels réalisés\n",
    "prets['benefices'] = round((prets['cout_total'] * prets['taux_interet']/100)/(24), 2)\n",
    "\n",
    "# création d'une variable risque\n",
    "prets['risque'] = 'Non'\n",
    "prets.loc[prets['taux_endettement'] > 35, 'risque'] = 'Oui'\n",
    "\n",
    "prets.head()\n",
    "\n",
    "#Pourriez vous créez un dataframe profil client pour pallier ce problème ?\n",
    "\n",
    "#Par profil client, nous entendons un dataframe où il y n'y a qu'une seule ligne par client, avec le résumé de ses informations (somme remboursement, du taux d'endettement, du cout_total et des bénéfices réalisés)\n",
    "\n",
    "\n",
    "profil_clients = prets.groupby('identifiant')[['remboursement','taux_endettement','cout_total','benefices']].sum()\n",
    "profil_clients.reset_index(inplace=True)\n",
    "profil_clients.head()\n",
    "\n",
    "#Recalculez le nombre exact de personnes en situation bancaire risquée à partir du taux d'endettemment :\n",
    "\n",
    "nombre_client_risque = profil_clients.loc[profil_clients['taux_endettement'] > 35, :].shape[0]\n",
    "print('Il y a', nombre_client_risque, 'clients qui ont dépassé le seuil autorisé')\n",
    "#Il y a 62 clients qui ont dépassé le seuil autorisé\n",
    "#Calculez le bénéfice dégagé par chacune de nos agences, par types de prêts. Vous présenterez vos résultats sous la forme d'un tableau simple (via un group_by) :\n",
    "\n",
    "\n",
    "prets.groupby(['ville','type'])['benefices'].sum()\n",
    "\n",
    "#Pour aller plus loin, on souhaite avoir un tableau à double entrée (via un pivot_table) présentant cette fois ci les bénéfices moyen réalisés par chaque agence, pour chaque type de prêt :\n",
    "\n",
    "\n",
    "prets.pivot_table(index='ville', columns='type', values='benefices', aggfunc=np.mean)\n",
    "\n",
    "#Quelle ville semble la plus intéressante où développer les prêts immobiliers ?\n",
    "\n",
    "#La ville de Nice (ou Paris dans une moindre mesure). C'est là où la marge réalisée est la plus élevée sur les prêts immobiliers.\n"
   ]
  },
  {
   "cell_type": "markdown",
   "id": "960348eb",
   "metadata": {},
   "source": [
    "# En résumé\n",
    "#### Pour agréger des données, il faut définir une ou plusieurs variables placées en index, pour former des groupes sur lesquels s’appliquera une fonction d’agrégation.\n",
    "\n",
    "#### Le résultat final d’une agrégation contiendra autant de lignes que de valeurs différentes dans la variable ou les variables choisies en index.\n",
    "\n",
    "#### Il existe deux méthodes en Python permettant de réaliser une agrégation :\n",
    "\n",
    "#### la méthodegroup_by ;\n",
    "\n",
    "#### la méthodepivot_table ."
   ]
  },
  {
   "cell_type": "markdown",
   "id": "7f09d75b",
   "metadata": {},
   "source": [
    "# Fusionnez des données avec Pandas"
   ]
  },
  {
   "cell_type": "code",
   "execution_count": 88,
   "id": "7ac8a22a",
   "metadata": {},
   "outputs": [],
   "source": [
    "# jointure entre 2 dataframes A et B#\n",
    "# pd.merge(A, B, on='id')\n",
    "# jointure entre 2 dataframes A et C\n",
    "# C.merge(A, left_on='identifiant', right_on='id')\n",
    "# jointure entre 2 dataframes A et B\n",
    "# pd.merge(A, B, left_on='id', right_on='identifiant')"
   ]
  },
  {
   "cell_type": "code",
   "execution_count": 89,
   "id": "b1af809f",
   "metadata": {},
   "outputs": [
    {
     "data": {
      "text/html": [
       "<div>\n",
       "<style scoped>\n",
       "    .dataframe tbody tr th:only-of-type {\n",
       "        vertical-align: middle;\n",
       "    }\n",
       "\n",
       "    .dataframe tbody tr th {\n",
       "        vertical-align: top;\n",
       "    }\n",
       "\n",
       "    .dataframe thead th {\n",
       "        text-align: right;\n",
       "    }\n",
       "</style>\n",
       "<table border=\"1\" class=\"dataframe\">\n",
       "  <thead>\n",
       "    <tr style=\"text-align: right;\">\n",
       "      <th></th>\n",
       "      <th>identifiant</th>\n",
       "      <th>email</th>\n",
       "      <th>nom</th>\n",
       "      <th>genre</th>\n",
       "      <th>ville</th>\n",
       "      <th>CP</th>\n",
       "      <th>revenu</th>\n",
       "      <th>remboursement</th>\n",
       "      <th>duree</th>\n",
       "      <th>type</th>\n",
       "      <th>taux_interet</th>\n",
       "      <th>taux_endettement</th>\n",
       "      <th>cout_total</th>\n",
       "      <th>benefices</th>\n",
       "      <th>risque</th>\n",
       "    </tr>\n",
       "  </thead>\n",
       "  <tbody>\n",
       "    <tr>\n",
       "      <th>0</th>\n",
       "      <td>25</td>\n",
       "      <td>BeaufortLesage@einrot.com</td>\n",
       "      <td>1</td>\n",
       "      <td>M</td>\n",
       "      <td>PARIS</td>\n",
       "      <td>75009</td>\n",
       "      <td>5533.0</td>\n",
       "      <td>1394.32</td>\n",
       "      <td>300</td>\n",
       "      <td>immobilier</td>\n",
       "      <td>1.165</td>\n",
       "      <td>25.2</td>\n",
       "      <td>418296.0</td>\n",
       "      <td>203.05</td>\n",
       "      <td>Non</td>\n",
       "    </tr>\n",
       "    <tr>\n",
       "      <th>1</th>\n",
       "      <td>193</td>\n",
       "      <td>AgramantPepin@dayrep.com</td>\n",
       "      <td>1</td>\n",
       "      <td>M</td>\n",
       "      <td>PARIS</td>\n",
       "      <td>75003</td>\n",
       "      <td>6490.0</td>\n",
       "      <td>1765.28</td>\n",
       "      <td>240</td>\n",
       "      <td>immobilier</td>\n",
       "      <td>1.107</td>\n",
       "      <td>27.2</td>\n",
       "      <td>423667.2</td>\n",
       "      <td>195.42</td>\n",
       "      <td>Non</td>\n",
       "    </tr>\n",
       "    <tr>\n",
       "      <th>2</th>\n",
       "      <td>184</td>\n",
       "      <td>AiglentinaLambert@fleckens.hu</td>\n",
       "      <td>1</td>\n",
       "      <td>F</td>\n",
       "      <td>NICE</td>\n",
       "      <td>6200</td>\n",
       "      <td>4253.0</td>\n",
       "      <td>986.70</td>\n",
       "      <td>240</td>\n",
       "      <td>immobilier</td>\n",
       "      <td>1.105</td>\n",
       "      <td>23.2</td>\n",
       "      <td>236808.0</td>\n",
       "      <td>109.03</td>\n",
       "      <td>Non</td>\n",
       "    </tr>\n",
       "    <tr>\n",
       "      <th>3</th>\n",
       "      <td>207</td>\n",
       "      <td>TheodoreClavet@teleworm.us</td>\n",
       "      <td>1</td>\n",
       "      <td>M</td>\n",
       "      <td>LYON</td>\n",
       "      <td>69001</td>\n",
       "      <td>1881.0</td>\n",
       "      <td>707.26</td>\n",
       "      <td>240</td>\n",
       "      <td>immobilier</td>\n",
       "      <td>1.270</td>\n",
       "      <td>37.6</td>\n",
       "      <td>169742.4</td>\n",
       "      <td>89.82</td>\n",
       "      <td>Oui</td>\n",
       "    </tr>\n",
       "    <tr>\n",
       "      <th>4</th>\n",
       "      <td>64</td>\n",
       "      <td>AcelineHughes@jourrapide.com</td>\n",
       "      <td>1</td>\n",
       "      <td>F</td>\n",
       "      <td>LYON</td>\n",
       "      <td>69004</td>\n",
       "      <td>4326.0</td>\n",
       "      <td>1358.36</td>\n",
       "      <td>240</td>\n",
       "      <td>immobilier</td>\n",
       "      <td>1.172</td>\n",
       "      <td>31.4</td>\n",
       "      <td>326006.4</td>\n",
       "      <td>159.20</td>\n",
       "      <td>Non</td>\n",
       "    </tr>\n",
       "    <tr>\n",
       "      <th>...</th>\n",
       "      <td>...</td>\n",
       "      <td>...</td>\n",
       "      <td>...</td>\n",
       "      <td>...</td>\n",
       "      <td>...</td>\n",
       "      <td>...</td>\n",
       "      <td>...</td>\n",
       "      <td>...</td>\n",
       "      <td>...</td>\n",
       "      <td>...</td>\n",
       "      <td>...</td>\n",
       "      <td>...</td>\n",
       "      <td>...</td>\n",
       "      <td>...</td>\n",
       "      <td>...</td>\n",
       "    </tr>\n",
       "    <tr>\n",
       "      <th>60</th>\n",
       "      <td>115</td>\n",
       "      <td>AiglentinaMarcheterre@superrito.com</td>\n",
       "      <td>1</td>\n",
       "      <td>F</td>\n",
       "      <td>LYON</td>\n",
       "      <td>69008</td>\n",
       "      <td>4169.0</td>\n",
       "      <td>1100.62</td>\n",
       "      <td>240</td>\n",
       "      <td>immobilier</td>\n",
       "      <td>1.221</td>\n",
       "      <td>26.4</td>\n",
       "      <td>264148.8</td>\n",
       "      <td>134.39</td>\n",
       "      <td>Non</td>\n",
       "    </tr>\n",
       "    <tr>\n",
       "      <th>61</th>\n",
       "      <td>38</td>\n",
       "      <td>MandelBarteaux@gustr.com</td>\n",
       "      <td>1</td>\n",
       "      <td>M</td>\n",
       "      <td>LYON</td>\n",
       "      <td>69003</td>\n",
       "      <td>3952.0</td>\n",
       "      <td>1098.66</td>\n",
       "      <td>300</td>\n",
       "      <td>immobilier</td>\n",
       "      <td>1.160</td>\n",
       "      <td>27.8</td>\n",
       "      <td>329598.0</td>\n",
       "      <td>159.31</td>\n",
       "      <td>Non</td>\n",
       "    </tr>\n",
       "    <tr>\n",
       "      <th>62</th>\n",
       "      <td>90</td>\n",
       "      <td>ChappellSarrazin@rhyta.com</td>\n",
       "      <td>1</td>\n",
       "      <td>M</td>\n",
       "      <td>PARIS</td>\n",
       "      <td>75015</td>\n",
       "      <td>2700.0</td>\n",
       "      <td>434.70</td>\n",
       "      <td>240</td>\n",
       "      <td>immobilier</td>\n",
       "      <td>1.174</td>\n",
       "      <td>16.1</td>\n",
       "      <td>104328.0</td>\n",
       "      <td>51.03</td>\n",
       "      <td>Non</td>\n",
       "    </tr>\n",
       "    <tr>\n",
       "      <th>63</th>\n",
       "      <td>208</td>\n",
       "      <td>ClaudeDandonneau@jourrapide.com</td>\n",
       "      <td>1</td>\n",
       "      <td>F</td>\n",
       "      <td>MARSEILLE</td>\n",
       "      <td>13011</td>\n",
       "      <td>2547.0</td>\n",
       "      <td>962.77</td>\n",
       "      <td>240</td>\n",
       "      <td>immobilier</td>\n",
       "      <td>1.157</td>\n",
       "      <td>37.8</td>\n",
       "      <td>231064.8</td>\n",
       "      <td>111.39</td>\n",
       "      <td>Oui</td>\n",
       "    </tr>\n",
       "    <tr>\n",
       "      <th>64</th>\n",
       "      <td>108</td>\n",
       "      <td>FrancisMasse@jourrapide.com</td>\n",
       "      <td>1</td>\n",
       "      <td>M</td>\n",
       "      <td>NICE</td>\n",
       "      <td>6300</td>\n",
       "      <td>2690.0</td>\n",
       "      <td>919.98</td>\n",
       "      <td>240</td>\n",
       "      <td>immobilier</td>\n",
       "      <td>1.147</td>\n",
       "      <td>34.2</td>\n",
       "      <td>220795.2</td>\n",
       "      <td>105.52</td>\n",
       "      <td>Non</td>\n",
       "    </tr>\n",
       "  </tbody>\n",
       "</table>\n",
       "<p>65 rows × 15 columns</p>\n",
       "</div>"
      ],
      "text/plain": [
       "    identifiant                                email  nom genre      ville  \\\n",
       "0            25            BeaufortLesage@einrot.com    1     M      PARIS   \n",
       "1           193             AgramantPepin@dayrep.com    1     M      PARIS   \n",
       "2           184        AiglentinaLambert@fleckens.hu    1     F       NICE   \n",
       "3           207           TheodoreClavet@teleworm.us    1     M       LYON   \n",
       "4            64         AcelineHughes@jourrapide.com    1     F       LYON   \n",
       "..          ...                                  ...  ...   ...        ...   \n",
       "60          115  AiglentinaMarcheterre@superrito.com    1     F       LYON   \n",
       "61           38             MandelBarteaux@gustr.com    1     M       LYON   \n",
       "62           90           ChappellSarrazin@rhyta.com    1     M      PARIS   \n",
       "63          208      ClaudeDandonneau@jourrapide.com    1     F  MARSEILLE   \n",
       "64          108          FrancisMasse@jourrapide.com    1     M       NICE   \n",
       "\n",
       "       CP  revenu  remboursement  duree        type  taux_interet  \\\n",
       "0   75009  5533.0        1394.32    300  immobilier         1.165   \n",
       "1   75003  6490.0        1765.28    240  immobilier         1.107   \n",
       "2    6200  4253.0         986.70    240  immobilier         1.105   \n",
       "3   69001  1881.0         707.26    240  immobilier         1.270   \n",
       "4   69004  4326.0        1358.36    240  immobilier         1.172   \n",
       "..    ...     ...            ...    ...         ...           ...   \n",
       "60  69008  4169.0        1100.62    240  immobilier         1.221   \n",
       "61  69003  3952.0        1098.66    300  immobilier         1.160   \n",
       "62  75015  2700.0         434.70    240  immobilier         1.174   \n",
       "63  13011  2547.0         962.77    240  immobilier         1.157   \n",
       "64   6300  2690.0         919.98    240  immobilier         1.147   \n",
       "\n",
       "    taux_endettement  cout_total  benefices risque  \n",
       "0               25.2    418296.0     203.05    Non  \n",
       "1               27.2    423667.2     195.42    Non  \n",
       "2               23.2    236808.0     109.03    Non  \n",
       "3               37.6    169742.4      89.82    Oui  \n",
       "4               31.4    326006.4     159.20    Non  \n",
       "..               ...         ...        ...    ...  \n",
       "60              26.4    264148.8     134.39    Non  \n",
       "61              27.8    329598.0     159.31    Non  \n",
       "62              16.1    104328.0      51.03    Non  \n",
       "63              37.8    231064.8     111.39    Oui  \n",
       "64              34.2    220795.2     105.52    Non  \n",
       "\n",
       "[65 rows x 15 columns]"
      ]
     },
     "metadata": {},
     "output_type": "display_data"
    }
   ],
   "source": [
    "data = pd.merge(clients, prets, on='identifiant')\n",
    "display(data)"
   ]
  },
  {
   "cell_type": "code",
   "execution_count": 91,
   "id": "47f5bcb2",
   "metadata": {},
   "outputs": [],
   "source": [
    "#liste_concat = [df1, df2]\n",
    "#pd.concat(liste_concat)"
   ]
  },
  {
   "cell_type": "markdown",
   "id": "4e3504ff",
   "metadata": {},
   "source": [
    "## Exercice d'entrainement "
   ]
  },
  {
   "cell_type": "code",
   "execution_count": 92,
   "id": "5c708c8a",
   "metadata": {},
   "outputs": [
    {
     "data": {
      "text/html": [
       "<div>\n",
       "<style scoped>\n",
       "    .dataframe tbody tr th:only-of-type {\n",
       "        vertical-align: middle;\n",
       "    }\n",
       "\n",
       "    .dataframe tbody tr th {\n",
       "        vertical-align: top;\n",
       "    }\n",
       "\n",
       "    .dataframe thead th {\n",
       "        text-align: right;\n",
       "    }\n",
       "</style>\n",
       "<table border=\"1\" class=\"dataframe\">\n",
       "  <thead>\n",
       "    <tr style=\"text-align: right;\">\n",
       "      <th></th>\n",
       "      <th>identifiant</th>\n",
       "      <th>remboursement</th>\n",
       "      <th>taux_endettement</th>\n",
       "      <th>cout_total</th>\n",
       "      <th>benefices</th>\n",
       "    </tr>\n",
       "  </thead>\n",
       "  <tbody>\n",
       "    <tr>\n",
       "      <th>0</th>\n",
       "      <td>0</td>\n",
       "      <td>1130.05</td>\n",
       "      <td>30.80</td>\n",
       "      <td>271212.0</td>\n",
       "      <td>131.99</td>\n",
       "    </tr>\n",
       "    <tr>\n",
       "      <th>1</th>\n",
       "      <td>1</td>\n",
       "      <td>1487.85</td>\n",
       "      <td>28.02</td>\n",
       "      <td>389715.0</td>\n",
       "      <td>206.66</td>\n",
       "    </tr>\n",
       "    <tr>\n",
       "      <th>2</th>\n",
       "      <td>2</td>\n",
       "      <td>552.54</td>\n",
       "      <td>29.50</td>\n",
       "      <td>132609.6</td>\n",
       "      <td>53.71</td>\n",
       "    </tr>\n",
       "    <tr>\n",
       "      <th>3</th>\n",
       "      <td>3</td>\n",
       "      <td>586.03</td>\n",
       "      <td>34.80</td>\n",
       "      <td>105485.4</td>\n",
       "      <td>44.57</td>\n",
       "    </tr>\n",
       "    <tr>\n",
       "      <th>4</th>\n",
       "      <td>4</td>\n",
       "      <td>423.61</td>\n",
       "      <td>28.70</td>\n",
       "      <td>101666.4</td>\n",
       "      <td>51.21</td>\n",
       "    </tr>\n",
       "  </tbody>\n",
       "</table>\n",
       "</div>"
      ],
      "text/plain": [
       "   identifiant  remboursement  taux_endettement  cout_total  benefices\n",
       "0            0        1130.05             30.80    271212.0     131.99\n",
       "1            1        1487.85             28.02    389715.0     206.66\n",
       "2            2         552.54             29.50    132609.6      53.71\n",
       "3            3         586.03             34.80    105485.4      44.57\n",
       "4            4         423.61             28.70    101666.4      51.21"
      ]
     },
     "execution_count": 92,
     "metadata": {},
     "output_type": "execute_result"
    }
   ],
   "source": [
    "# Votre tâche cette fois-ci va être de construire un jeu de données qui soit le plus complet possible. Pour cela, vous devez utiliser l’ensemble des jeux de données à votre disposition (les deux fichiers clients et le fichier de prêts) et appliquer l’ensemble des méthodes pour les fusionner ensemble.\n",
    "\n",
    "import numpy as np\n",
    "import pandas as pd\n",
    "\n",
    "# traitement réalisés précédemment\n",
    "prets = pd.read_csv('https://raw.githubusercontent.com/benjaminmrl/data-4452741/main/prets.csv')\n",
    "\n",
    "# calcul du taux d'endettement\n",
    "prets['taux_endettement'] = round(prets['remboursement'] * 100 / prets['revenu'], 2)\n",
    "\n",
    "# renommer taux en taux_interet\n",
    "prets.rename(columns={'taux':'taux_interet'}, inplace=True)\n",
    "\n",
    "# calculer le cout total du pret\n",
    "prets['cout_total'] = prets['remboursement'] * prets['duree']\n",
    "\n",
    "# calculer les bénéfices mensuels réalisés\n",
    "prets['benefices'] = round((prets['cout_total'] * prets['taux_interet']/100)/(24), 2)\n",
    "\n",
    "# création d'une variable risque\n",
    "prets['risque'] = 'Non'\n",
    "prets.loc[prets['taux_endettement'] > 35, 'risque'] = 'Oui'\n",
    "\n",
    "# dataframe de profils clients\n",
    "profil_clients = prets.groupby('identifiant')[['remboursement','taux_endettement','cout_total','benefices']].sum()\n",
    "profil_clients.reset_index(inplace=True)\n",
    "profil_clients.head()\n",
    "\n",
    "prets.head()\n",
    "\n",
    "# Dans un premier temps, importons les deux fichiers clients :\n",
    "\n",
    "clients_1 = pd.read_csv('https://raw.githubusercontent.com/benjaminmrl/data-4452741/main/clients.csv')\n",
    "clients_1.head()\n",
    "\n",
    "clients_2 = pd.read_csv('https://raw.githubusercontent.com/benjaminmrl/data-4452741/main/clients_suite.csv')\n",
    "clients_2.head()\n",
    "\n",
    "# La première mission va être de rassembler les deux dataframes clients_1 et clients_2 en un gros dataframe clients qui contiendra l'ensemble des informations de notre clientèle !\n",
    "\n",
    "\n",
    "clients = pd.concat([clients_1, clients_2], ignore_index=True)\n",
    "# A présent, vous allez fusionner ce fichier clients avec les profils clients créés précédemment. Ces derniers se trouve dans le dataframe profil_clients qui a été généré en case 2. Vous pouvez nommer le dataframe final data :\n",
    "\n",
    "data = pd.merge(clients, profil_clients, on='identifiant', how='inner')\n",
    "data.head()\n",
    "\n",
    "# Le service marketing de la banque nous a fourni un fichier dans lequel se trouve l'age de TOUS les clients de notre banque.\n",
    "\n",
    "clients_age = pd.read_csv('https://raw.githubusercontent.com/benjaminmrl/data-4452741/main/client_age.csv')\n",
    "clients_age.head()\n",
    "\n",
    "# Ajoutez l'information de l'age au dataframe data. Cependant, il semble que certains des clients ayant contracté un prêt n'apparaissent pas dans ce fichier. On souhaite cependant garder toutes les informations de notre dataframe data : choisissez donc avec précaution les arguments !\n",
    "\n",
    "\n",
    "data = pd.merge(data, clients_age, on='identifiant', how='left')\n",
    "data.head()\n",
    "\n",
    "# Il est ici nécessaire de faire une jointure centrée sur le dataframe data (dans le code ci dessus à gauche). En effet, il y a beaucoup plus de clients dans le fichier clients_age que dans le fichier data. Cependant, certains clients du fichier data n'apparaissent pas dans clients_age. La jointure à gauche (ou à droite) est donc nécessaire pour conserver l'ensemble des informations de data, en ajoutant l'age lorsqu'il est disponible.\n",
    "\n",
    "profil_clients.head()"
   ]
  },
  {
   "cell_type": "markdown",
   "id": "f14b6989",
   "metadata": {},
   "source": [
    "# En résumé\n",
    "#### Il existe deux façons de fusionner deux data frames : \n",
    "\n",
    "#### si les data frames ont la même structure, on peut faire une concaténation via la fonction concat : mettre les 2 data frames bout à bout ;\n",
    "\n",
    "#### sinon, on peut faire une jointure via la fonction/méthodemerge .\n",
    "\n",
    "#### Une jointure permet de joindre les informations de 2 data frames à partir d’une clé, une variable commune aux 2 data frames.\n",
    "\n",
    "#### Il existe 4 types de jointures : \n",
    "\n",
    "#### la jointure interne qui conserve les clés se trouvant dans le premier ET le second data frame ;\n",
    "\n",
    "#### la jointure à droite (ou à gauche) qui conserve uniquement les clés se trouvant dans le data frame à droite (ou à gauche), et complète les informations manquantes par des valeurs manquantes, ouNaN ;\n",
    "\n",
    "#### la jointure externe qui conserve toutes les clés se trouvant dans le premier OU le second data frame."
   ]
  },
  {
   "cell_type": "markdown",
   "id": "1f8dcd6b",
   "metadata": {},
   "source": [
    "# Maîtrisez les bonnes pratiques de la data visualisation"
   ]
  },
  {
   "cell_type": "markdown",
   "id": "3de3c5a8",
   "metadata": {},
   "source": [
    "# En résumé\n",
    "#### La datavisualisation est un ensemble de techniques utilisées pour représenter visuellement des informations clés sur un gros volume de données, afin d’en permettre la compréhension et l’analyse.\n",
    "\n",
    "#### Pour représenter :\n",
    "\n",
    "#### une évolution dans le temps, on privilégiera des diagrammes en barres ou des courbes ;\n",
    "\n",
    "#### une comparaison entre différents groupes, on utilisera un diagramme circulaire ou un diagrammes en barres ;\n",
    "\n",
    "#### une distribution, on privilégiera un histogramme ou un diagramme à densité ;\n",
    "\n",
    "#### la relation entre 2 variables numériques, on développera un nuage de points.\n",
    "\n",
    "#### Il existe quelques règles à observer pour réaliser un graphique efficace : \n",
    "\n",
    "#### privilégier la simplicité, quitte à multiplier le nombre de graphiques ;\n",
    "\n",
    "#### privilégier la clarté, en proposant le plus d’informations possible pour permettre au lecteur d’interpréter seul ce graphique ;\n",
    "\n",
    "#### choisir le graphique adéquat en fonction de ce qu’on cherche à représenter."
   ]
  },
  {
   "cell_type": "markdown",
   "id": "74214393",
   "metadata": {},
   "source": [
    "# Tracez des graphiques avec Matplotlib"
   ]
  },
  {
   "cell_type": "code",
   "execution_count": 93,
   "id": "fd9ca3a3",
   "metadata": {},
   "outputs": [],
   "source": [
    "import matplotlib.pyplot as plt"
   ]
  },
  {
   "cell_type": "code",
   "execution_count": 94,
   "id": "096afb6b",
   "metadata": {},
   "outputs": [
    {
     "data": {
      "text/plain": [
       "<matplotlib.collections.PathCollection at 0x1c15bde1d30>"
      ]
     },
     "execution_count": 94,
     "metadata": {},
     "output_type": "execute_result"
    },
    {
     "data": {
      "image/png": "[encoded data removed]",
      "text/plain": [
       "<Figure size 432x288 with 1 Axes>"
      ]
     },
     "metadata": {
      "needs_background": "light"
     },
     "output_type": "display_data"
    }
   ],
   "source": [
    "plt.scatter(prets['revenu'], prets['taux_endettement'])"
   ]
  },
  {
   "cell_type": "code",
   "execution_count": 95,
   "id": "e1b62c52",
   "metadata": {},
   "outputs": [
    {
     "data": {
      "text/plain": [
       "<matplotlib.collections.PathCollection at 0x1c15c586ca0>"
      ]
     },
     "execution_count": 95,
     "metadata": {},
     "output_type": "execute_result"
    },
    {
     "data": {
      "image/png": "[encoded data removed]",
      "text/plain": [
       "<Figure size 432x288 with 1 Axes>"
      ]
     },
     "metadata": {
      "needs_background": "light"
     },
     "output_type": "display_data"
    }
   ],
   "source": [
    "plt.scatter(prets['revenu'], prets['taux_endettement'],\n",
    "    s=60, alpha=0.5, c='red', marker='P')"
   ]
  },
  {
   "cell_type": "code",
   "execution_count": 96,
   "id": "def75d77",
   "metadata": {},
   "outputs": [],
   "source": [
    "data = prets.groupby('ville')['remboursement'].sum()\n",
    "data = data.reset_index()"
   ]
  },
  {
   "cell_type": "code",
   "execution_count": 97,
   "id": "28f8a388",
   "metadata": {},
   "outputs": [
    {
     "data": {
      "text/plain": [
       "([<matplotlib.patches.Wedge at 0x1c15c5f3d60>,\n",
       "  <matplotlib.patches.Wedge at 0x1c15c6002e0>,\n",
       "  <matplotlib.patches.Wedge at 0x1c15c6007c0>,\n",
       "  <matplotlib.patches.Wedge at 0x1c15c600cd0>,\n",
       "  <matplotlib.patches.Wedge at 0x1c15c60e1f0>,\n",
       "  <matplotlib.patches.Wedge at 0x1c15c60e6d0>],\n",
       " [Text(1.0735482898052735, 0.2397792098080497, 'BORDEAUX'),\n",
       "  Text(0.7559779933342196, 0.7990602440331811, 'LYON'),\n",
       "  Text(-0.22079479320563614, 1.0776129450286316, 'MARSEILLE'),\n",
       "  Text(-0.9928563505107825, 0.4735359197045252, 'NICE'),\n",
       "  Text(-0.3566773649937175, -1.0405677571889005, 'PARIS'),\n",
       "  Text(1.0582353655336645, -0.30022976390396683, 'TOULOUSE')])"
      ]
     },
     "execution_count": 97,
     "metadata": {},
     "output_type": "execute_result"
    },
    {
     "data": {
      "image/png": "[encoded data removed]",
      "text/plain": [
       "<Figure size 432x288 with 1 Axes>"
      ]
     },
     "metadata": {},
     "output_type": "display_data"
    }
   ],
   "source": [
    "plt.pie(x=data['remboursement'], labels=data['ville'])"
   ]
  },
  {
   "cell_type": "code",
   "execution_count": 98,
   "id": "9526f2d8",
   "metadata": {},
   "outputs": [
    {
     "data": {
      "text/plain": [
       "([<matplotlib.patches.Wedge at 0x1c15c655520>,\n",
       "  <matplotlib.patches.Wedge at 0x1c15c655ca0>,\n",
       "  <matplotlib.patches.Wedge at 0x1c15d635400>,\n",
       "  <matplotlib.patches.Wedge at 0x1c15d635b20>,\n",
       "  <matplotlib.patches.Wedge at 0x1c15d642280>,\n",
       "  <matplotlib.patches.Wedge at 0x1c15d6429a0>],\n",
       " [Text(1.0735482898052735, 0.2397792098080497, 'BORDEAUX'),\n",
       "  Text(0.7559779933342196, 0.7990602440331811, 'LYON'),\n",
       "  Text(-0.22079479320563614, 1.0776129450286316, 'MARSEILLE'),\n",
       "  Text(-0.9928563505107825, 0.4735359197045252, 'NICE'),\n",
       "  Text(-0.3566773649937175, -1.0405677571889005, 'PARIS'),\n",
       "  Text(1.0582353655336645, -0.30022976390396683, 'TOULOUSE')],\n",
       " [Text(0.58557179443924, 0.1307886598952998, '6.99%'),\n",
       "  Text(0.41235163272775605, 0.43585104219991694, '11.89%'),\n",
       "  Text(-0.12043352356671061, 0.5877888791065262, '18.66%'),\n",
       "  Text(-0.5415580093695176, 0.2582923198388319, '10.74%'),\n",
       "  Text(-0.19455128999657315, -0.5675824130121274, '42.91%'),\n",
       "  Text(0.5772192902910896, -0.1637616894021637, '8.80%')])"
      ]
     },
     "execution_count": 98,
     "metadata": {},
     "output_type": "execute_result"
    },
    {
     "data": {
      "image/png": "[encoded data removed]",
      "text/plain": [
       "<Figure size 432x288 with 1 Axes>"
      ]
     },
     "metadata": {},
     "output_type": "display_data"
    }
   ],
   "source": [
    "plt.pie(x=data['remboursement'], labels=data['ville'], autopct='%.2f%%')"
   ]
  },
  {
   "cell_type": "code",
   "execution_count": 99,
   "id": "5f0753eb",
   "metadata": {},
   "outputs": [
    {
     "data": {
      "text/plain": [
       "<BarContainer object of 6 artists>"
      ]
     },
     "execution_count": 99,
     "metadata": {},
     "output_type": "execute_result"
    },
    {
     "data": {
      "image/png": "[encoded data removed]",
      "text/plain": [
       "<Figure size 432x288 with 1 Axes>"
      ]
     },
     "metadata": {
      "needs_background": "light"
     },
     "output_type": "display_data"
    }
   ],
   "source": [
    "plt.bar(height=data['remboursement'], x=data['ville'])"
   ]
  },
  {
   "cell_type": "code",
   "execution_count": 100,
   "id": "d1508f2a",
   "metadata": {},
   "outputs": [
    {
     "data": {
      "text/plain": [
       "<BarContainer object of 6 artists>"
      ]
     },
     "execution_count": 100,
     "metadata": {},
     "output_type": "execute_result"
    },
    {
     "data": {
      "image/png": "[encoded data removed]",
      "text/plain": [
       "<Figure size 432x288 with 1 Axes>"
      ]
     },
     "metadata": {
      "needs_background": "light"
     },
     "output_type": "display_data"
    }
   ],
   "source": [
    "data_sorted = data.sort_values('remboursement', ascending=False)\n",
    "plt.bar(height=data_sorted['remboursement'], x=data_sorted['ville'])"
   ]
  },
  {
   "cell_type": "code",
   "execution_count": 101,
   "id": "895ae331",
   "metadata": {},
   "outputs": [
    {
     "data": {
      "text/plain": [
       "(array([38., 42., 43., 27., 31., 17., 10., 11., 15., 10.]),\n",
       " array([1200. , 1760.7, 2321.4, 2882.1, 3442.8, 4003.5, 4564.2, 5124.9,\n",
       "        5685.6, 6246.3, 6807. ]),\n",
       " <BarContainer object of 10 artists>)"
      ]
     },
     "execution_count": 101,
     "metadata": {},
     "output_type": "execute_result"
    },
    {
     "data": {
      "image/png": "[encoded data removed]",
      "text/plain": [
       "<Figure size 432x288 with 1 Axes>"
      ]
     },
     "metadata": {
      "needs_background": "light"
     },
     "output_type": "display_data"
    }
   ],
   "source": [
    "plt.hist(prets['revenu'])"
   ]
  },
  {
   "cell_type": "markdown",
   "id": "56d4e529",
   "metadata": {},
   "source": [
    "## Exercice d'entrainement"
   ]
  },
  {
   "cell_type": "code",
   "execution_count": 104,
   "id": "801b7197",
   "metadata": {},
   "outputs": [
    {
     "data": {
      "text/plain": [
       "<BarContainer object of 6 artists>"
      ]
     },
     "execution_count": 104,
     "metadata": {},
     "output_type": "execute_result"
    },
    {
     "data": {
      "image/png": "[encoded data removed]",
      "text/plain": [
       "<Figure size 432x288 with 1 Axes>"
      ]
     },
     "metadata": {},
     "output_type": "display_data"
    }
   ],
   "source": [
    "#Vous êtes en train de préparer le reporting mensuel que vous devez présenter chaque fin de mois à votre responsable. La présentation devra comprendre certains graphiques clés : vous allez donc devoir utiliser vos compétences en data visualisation pour produire les différentes visualisations attendues.\n",
    "\n",
    "#Les graphiques à produire sont donc :\n",
    "\n",
    "#la proportion de prêt par type de prêt\n",
    "#le bénéfice mensuel réalisé en fonction du revenu du client pour les prêts immobiliers uniquement\n",
    "#la distribution des bénéfices réalisés\n",
    "#le bénéfice mensuel total réalisé par agence\n",
    "\n",
    "import numpy as np\n",
    "import pandas as pd\n",
    "import matplotlib.pyplot as plt\n",
    "#Pour réaliser les différents graphiques, nous utiliserons le fichier de prêt enrichi (c.f. exercice précédent) que vous trouverez à cette adresse :\n",
    "\n",
    "\n",
    "prets = pd.read_csv('https://raw.githubusercontent.com/benjaminmrl/data-4452741/main/prets_final.csv')\n",
    "\n",
    "prets.head()\n",
    "\n",
    "#1. proportion de prêt par type de prêt.\n",
    "#Il faudra au préalable réaliser une agrégation. Cette agrégation peut être réalisée de différentes façons. Je vous propose d'en découvrir au moins 2 :\n",
    "\n",
    "#via le groupby\n",
    "#la la méthode value_counts\n",
    "#Les deux résultats seront strictement identiques !\n",
    "\n",
    "# On peut\n",
    "# avec groupby :\n",
    "type_agreg = prets.groupby('type').size().reset_index()\n",
    "\n",
    "# via la fonction value_counts :\n",
    "type_agreg = prets['type'].value_counts().reset_index()\n",
    "\n",
    "# renommer toutes les colonnes en une fois :\n",
    "type_agreg.columns = ['type','nombre']\n",
    "\n",
    "type_agreg\n",
    "\n",
    "#Pour la visualisation, vous pouvez opter pour un diagramme à barres ou un diagramme circulaire :\n",
    "\n",
    "# diagramme à barres\n",
    "\n",
    "plt.bar(type_agreg['type'], type_agreg['nombre'])\n",
    "\n",
    "# diagramme circulaire\n",
    "\n",
    "plt.pie(x=type_agreg['nombre'], labels=type_agreg['type'], autopct='%.2f%%')\n",
    "\n",
    "# 2. bénéfice mensuel réalisé en fonction du revenu du client - prêts immobiliers\n",
    "# On souhaite représenter 2 variables numériques : on optera donc pour un nuage de points\n",
    "\n",
    "prets_imo = prets.loc[prets['type'] == 'immobilier', :]\n",
    "plt.scatter(prets_imo['revenu'], prets_imo['benefices'])\n",
    "\n",
    "# 3. La distribution des bénéfices réalisés\n",
    "# On souhaite représenter la distribution d'une variable numérique : on utilisera donc un histogramme.\n",
    "\n",
    "\n",
    "plt.hist(prets['benefices'])\n",
    "\n",
    "#4. bénéfice mensuel total réalisé par agence\n",
    "\n",
    "benef_ville = prets.groupby('ville')['benefices'].sum().reset_index()\n",
    "plt.bar(benef_ville['ville'], benef_ville['benefices'])"
   ]
  },
  {
   "cell_type": "markdown",
   "id": "e7e95099",
   "metadata": {},
   "source": [
    "# En résumé\n",
    "#### Matplotlib met à disposition une fonction par type de graphique souhaité :\n",
    "\n",
    "#### plot : pour les courbes ;\n",
    "\n",
    "#### bar : pour les diagrammes à barres ;\n",
    "\n",
    "#### pie : pour les diagrammes circulaires ;\n",
    "\n",
    "#### hist : pour faire des histogrammes ;\n",
    "\n",
    "#### scatter : pour les nuages de points.\n",
    "\n",
    "#### Personnalisez vos différents graphiques en utilisant les différents paramètres de chaque fonction.\n",
    "\n",
    "#### Tracez différents graphiques sur une seule fenêtre graphique, pour ajouter des dimensions supplémentaires."
   ]
  },
  {
   "cell_type": "markdown",
   "id": "583e1d34",
   "metadata": {},
   "source": [
    "# Personnalisez vos graphiques avec Matplotlib"
   ]
  },
  {
   "cell_type": "markdown",
   "id": "9c055ef5",
   "metadata": {},
   "source": [
    "### Exercice d'entrainement "
   ]
  },
  {
   "cell_type": "code",
   "execution_count": 105,
   "id": "d1ffa2b7",
   "metadata": {},
   "outputs": [
    {
     "data": {
      "image/png": "[encoded data removed]",
      "text/plain": [
       "<Figure size 720x504 with 1 Axes>"
      ]
     },
     "metadata": {
      "needs_background": "light"
     },
     "output_type": "display_data"
    }
   ],
   "source": [
    "# Les bénéfices mensuels de l’année 2021 viennent de sortir par type de prêt au niveau de l’agence où vous travaillez. Dans le cadre du reporting mensuel, il vous est demandé de réaliser un graphique spécifique représentant l’évolution du bénéfices mensuels sur l’année, par type de prêt. On a les données suivantes à disposition :\n",
    "\n",
    "\n",
    "import numpy as np\n",
    "import pandas as pd\n",
    "import matplotlib.pyplot as plt\n",
    "\n",
    "CA = pd.read_csv('https://raw.githubusercontent.com/benjaminmrl/data-4452741/main/CA.csv')\n",
    "CA['date'] = pd.to_datetime(CA['date'])\n",
    "CA.head()\n",
    "\n",
    "# L'objectif est d'obtenir le graphique suivant : image-3.png\n",
    "\n",
    "# Pour expliciter rapidement les différents aspects qui avaient été réalisés :\n",
    "\n",
    "# la fenêtre graphique est de dimension 10x7\n",
    "# une courbe a été tracée pour chaque type de prêt, de dimension 3\n",
    "# la légende est apparente\n",
    "# le titre de l'axe des ordonnées a été ajouté\n",
    "# la police des graduations (ticks) a été fixée à 11\n",
    "# la police du titre a été fixée à 14\n",
    "# le quadrillage apparait en gris, avec une taille de 0.5\n",
    "\n",
    "plt.figure(figsize=(10, 7))\n",
    "plt.plot(CA['date'], CA['immobilier'], label='immobilier', linewidth=3)\n",
    "plt.plot(CA['date'], CA['automobile'], label='automobile', linewidth=3)\n",
    "plt.plot(CA['date'], CA['consommation'], label='consommation', linewidth=3)\n",
    "plt.legend(loc='upper right')\n",
    "plt.ylabel('Benefice net (€)', fontsize=13)\n",
    "plt.yticks(fontsize=11)\n",
    "plt.title(\"Bénéfices mensuels nets sur l'année 2021, par type de prêt\", fontsize=14)\n",
    "plt.xticks(['2021-03','2021-06','2021-09', '2021-12'], fontsize=11)\n",
    "plt.grid(color='gray', linestyle='-', linewidth=0.5)\n",
    "plt.show()"
   ]
  },
  {
   "cell_type": "markdown",
   "id": "30b5b554",
   "metadata": {},
   "source": [
    "# En résumé\n",
    "#### Ajoutez des éléments externes à un graphique à partir des différentes fonctions proposées par Matplotlib :\n",
    "\n",
    "#### un titre, via la fonctiontitle ;\n",
    "\n",
    "#### une légende via la fonctionlegend ;\n",
    "\n",
    "#### les titres des axes viaxlabel etylabel .\n",
    "\n",
    "#### Modifiez de nombreux éléments internes à notre visualisation :\n",
    "\n",
    "#### les graduations, via la fonctionxticks ouyticks ;\n",
    "\n",
    "#### ajouter du texte à un emplacement précis via la fonction text ;\n",
    "\n",
    "#### modifier le quadrillage viagrid ;\n",
    "\n",
    "#### modifier des éléments graphiques spécifiques via la fonctionrc ."
   ]
  },
  {
   "cell_type": "markdown",
   "id": "7b6029ff",
   "metadata": {},
   "source": [
    "# Générez des graphiques complexes avec Seaborn"
   ]
  },
  {
   "cell_type": "code",
   "execution_count": 106,
   "id": "28989ee4",
   "metadata": {},
   "outputs": [
    {
     "data": {
      "text/plain": [
       "<AxesSubplot:xlabel='revenu', ylabel='taux_endettement'>"
      ]
     },
     "execution_count": 106,
     "metadata": {},
     "output_type": "execute_result"
    },
    {
     "data": {
      "image/png": "[encoded data removed]",
      "text/plain": [
       "<Figure size 432x288 with 1 Axes>"
      ]
     },
     "metadata": {
      "needs_background": "light"
     },
     "output_type": "display_data"
    }
   ],
   "source": [
    "import seaborn as sns\n",
    "sns.scatterplot(data=prets, x='revenu', y='taux_endettement')"
   ]
  },
  {
   "cell_type": "code",
   "execution_count": 107,
   "id": "22928693",
   "metadata": {},
   "outputs": [
    {
     "data": {
      "text/plain": [
       "<AxesSubplot:xlabel='revenu', ylabel='taux_endettement'>"
      ]
     },
     "execution_count": 107,
     "metadata": {},
     "output_type": "execute_result"
    },
    {
     "data": {
      "image/png": "[encoded data removed]",
      "text/plain": [
       "<Figure size 432x288 with 1 Axes>"
      ]
     },
     "metadata": {
      "needs_background": "light"
     },
     "output_type": "display_data"
    }
   ],
   "source": [
    "sns.scatterplot(data=prets, x='revenu', y='taux_endettement', hue='type')"
   ]
  },
  {
   "cell_type": "code",
   "execution_count": 108,
   "id": "9845efe0",
   "metadata": {},
   "outputs": [
    {
     "data": {
      "text/plain": [
       "<AxesSubplot:xlabel='revenu', ylabel='taux_endettement'>"
      ]
     },
     "execution_count": 108,
     "metadata": {},
     "output_type": "execute_result"
    },
    {
     "data": {
      "image/png": "[encoded data removed]",
      "text/plain": [
       "<Figure size 432x288 with 1 Axes>"
      ]
     },
     "metadata": {
      "needs_background": "light"
     },
     "output_type": "display_data"
    }
   ],
   "source": [
    "sns.scatterplot(data=prets, x='revenu', y='taux_endettement', size='duree')"
   ]
  },
  {
   "cell_type": "code",
   "execution_count": 109,
   "id": "981f99e4",
   "metadata": {},
   "outputs": [
    {
     "data": {
      "image/png": "[encoded data removed]",
      "text/plain": [
       "<Figure size 720x432 with 1 Axes>"
      ]
     },
     "metadata": {
      "needs_background": "light"
     },
     "output_type": "display_data"
    }
   ],
   "source": [
    "plt.figure(figsize=(10,6))\n",
    "\n",
    "plt.rcParams.update({'font.size': 14})\n",
    "\n",
    "sns.scatterplot(data=prets, x='revenu', y='taux_endettement', hue='type')\n",
    "\n",
    "plt.ylabel(\"Taux d'endettement\")\n",
    "\n",
    "plt.xlabel('Revenu mensuel (€)')\n",
    "\n",
    "plt.grid()\n",
    "\n",
    "plt.xlim(500, 7500)\n",
    "\n",
    "plt.legend(bbox_to_anchor=(1, 1.02))\n",
    "\n",
    "plt.title(\"Taux d'endettement en fonction du revenu mensuel\\npar type de prêt contracté\")\n",
    "\n",
    "plt.show()"
   ]
  },
  {
   "cell_type": "code",
   "execution_count": 110,
   "id": "a3705c8a",
   "metadata": {},
   "outputs": [
    {
     "data": {
      "text/plain": [
       "<AxesSubplot:xlabel='ville', ylabel='remboursement'>"
      ]
     },
     "execution_count": 110,
     "metadata": {},
     "output_type": "execute_result"
    },
    {
     "data": {
      "image/png": "[encoded data removed]",
      "text/plain": [
       "<Figure size 432x288 with 1 Axes>"
      ]
     },
     "metadata": {
      "needs_background": "light"
     },
     "output_type": "display_data"
    }
   ],
   "source": [
    "sns.barplot(data=prets, x='ville', y='remboursement', ci=None, estimator=sum)"
   ]
  },
  {
   "cell_type": "code",
   "execution_count": 111,
   "id": "bc347a6e",
   "metadata": {},
   "outputs": [
    {
     "data": {
      "text/plain": [
       "<AxesSubplot:xlabel='ville', ylabel='remboursement'>"
      ]
     },
     "execution_count": 111,
     "metadata": {},
     "output_type": "execute_result"
    },
    {
     "data": {
      "image/png": "[encoded data removed]",
      "text/plain": [
       "<Figure size 432x288 with 1 Axes>"
      ]
     },
     "metadata": {
      "needs_background": "light"
     },
     "output_type": "display_data"
    }
   ],
   "source": [
    "sns.barplot(data=prets, x='ville', y='remboursement', ci=None, estimator=np.mean, hue='type')"
   ]
  },
  {
   "cell_type": "code",
   "execution_count": 112,
   "id": "51daad3b",
   "metadata": {},
   "outputs": [],
   "source": [
    "sns.set_theme()"
   ]
  },
  {
   "cell_type": "code",
   "execution_count": 113,
   "id": "be2a2274",
   "metadata": {},
   "outputs": [],
   "source": [
    "sns.set_theme(style='whitegrid', palette='pastel')"
   ]
  },
  {
   "cell_type": "markdown",
   "id": "d570ae3f",
   "metadata": {},
   "source": [
    "## Exercice d'entrainement "
   ]
  },
  {
   "cell_type": "code",
   "execution_count": 114,
   "id": "3b0068c1",
   "metadata": {},
   "outputs": [
    {
     "data": {
      "image/png": "[encoded data removed]",
      "text/plain": [
       "<Figure size 432x288 with 1 Axes>"
      ]
     },
     "metadata": {},
     "output_type": "display_data"
    },
    {
     "data": {
      "image/png": "[encoded data removed]",
      "text/plain": [
       "<Figure size 432x288 with 1 Axes>"
      ]
     },
     "metadata": {},
     "output_type": "display_data"
    },
    {
     "data": {
      "image/png": "[encoded data removed]",
      "text/plain": [
       "<Figure size 432x288 with 1 Axes>"
      ]
     },
     "metadata": {},
     "output_type": "display_data"
    },
    {
     "data": {
      "image/png": "[encoded data removed]",
      "text/plain": [
       "<Figure size 432x288 with 1 Axes>"
      ]
     },
     "metadata": {},
     "output_type": "display_data"
    },
    {
     "data": {
      "image/png": "[encoded data removed]",
      "text/plain": [
       "<Figure size 432x288 with 1 Axes>"
      ]
     },
     "metadata": {},
     "output_type": "display_data"
    }
   ],
   "source": [
    "# Habituellement, les graphiques du reporting mensuels sont réalisés avec matplotlib. Votre ultime tâche va être d’améliorer quelque peu le visuel de ces derniers et de les reprendre avec Seaborn.\n",
    "\n",
    "# L’objectif va être de reprendre le travail qui avait été réalisé précédemment, avec Seaborn. En plus de ces graphiques, quelques demandes additionnelles ont été glissées par votre manager.\n",
    "\n",
    "# Les graphiques à produire sont donc :\n",
    "\n",
    "# la proportion de prêt par type de prêt\n",
    "# le bénéfice mensuel réalisé en fonction du revenu du client\n",
    "# la distribution des bénéfices réalisés\n",
    "# le bénéfice mensuel total réalisé par agence\n",
    "\n",
    "import numpy as np\n",
    "import pandas as pd\n",
    "import matplotlib.pyplot as plt\n",
    "import seaborn as sns\n",
    "# Pour réaliser les différents graphiques, nous utiliserons le fichier de prêt enrichi (c.f. exercice précédent) que vous trouverez à cette adresse :\n",
    "\n",
    "\n",
    "prets = pd.read_csv('https://raw.githubusercontent.com/benjaminmrl/data-4452741/main/prets_final.csv')\n",
    "\n",
    "prets.head()\n",
    "\n",
    "# 1. proportion de prêt par type de prêt.\n",
    "# Pour réaliser ce graphique, vous pouvez naturellement ré-utiliser l'agrégation, mais le mieux est de laisser travailler seaborn, en utilisant la fonction countplot\n",
    "\n",
    "\n",
    "sns.countplot(data=prets, x='type')\n",
    "plt.show()\n",
    "\n",
    "# 2. bénéfice mensuel réalisé en fonction du revenu du client - prêts immobiliers\n",
    "# Pour ce graphique, vous ajouterez simplement en couleur l'information de l'agence où a été réalisé le prêt\n",
    "\n",
    "\n",
    "sns.scatterplot(data=prets, x='revenu', y='benefices', hue='ville')\n",
    "plt.show()\n",
    "\n",
    "# 3. La distribution des bénéfices réalisés\n",
    "# Nous souhaitons avoir un histogramme classique et un à densité. Vous aurez besoin des fonctions :\n",
    "\n",
    "# histplot pour l'histogramme\n",
    "# kdeplot pour le diagramme à densité\n",
    "\n",
    "# histogramme :\n",
    "sns.histplot(data=prets, x='benefices')\n",
    "plt.show()\n",
    "\n",
    "# diagramme à densité :\n",
    "sns.kdeplot(data=prets, x='benefices')\n",
    "plt.show()\n",
    "\n",
    "# 4. bénéfice mensuel total réalisé par agence\n",
    "# Pour ce graphique, on souhaite avoir 2 barres par ville : une pour chaque type de prêt\n",
    "\n",
    "sns.barplot(data=prets, x='ville', y='benefices', ci=None, hue='type', estimator=sum)\n",
    "plt.show()\n"
   ]
  },
  {
   "cell_type": "markdown",
   "id": "7cdf4581",
   "metadata": {},
   "source": [
    "# En résumé\n",
    "#### Seaborn est une surcouche de Matplotlib ; il est donc possible de mixer des fonctions des deux librairies sur un seul et même graphique.\n",
    "\n",
    "#### Seaborn est né pour faciliter la création de visualisations à partir des data frames Pandas. Grâce à cette philosophie, on peut ajouter autant de dimensions (couleur, forme, taille, etc.) que de variables dans un data frame.\n",
    "\n",
    "#### Seaborn ajoute une dimension esthétique à ses graphiques, en donnant la possibilité de changer les thèmes et/ou les palettes de couleurs."
   ]
  }
 ],
 "metadata": {
  "kernelspec": {
   "display_name": "Python 3 (ipykernel)",
   "language": "python",
   "name": "python3"
  },
  "language_info": {
   "codemirror_mode": {
    "name": "ipython",
    "version": 3
   },
   "file_extension": ".py",
   "mimetype": "text/x-python",
   "name": "python",
   "nbconvert_exporter": "python",
   "pygments_lexer": "ipython3",
   "version": "3.9.7"
  }
 },
 "nbformat": 4,
 "nbformat_minor": 5
}
